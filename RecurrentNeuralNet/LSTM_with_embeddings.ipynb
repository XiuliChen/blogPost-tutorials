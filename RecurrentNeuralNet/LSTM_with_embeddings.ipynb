{
 "cells": [
  {
   "cell_type": "markdown",
   "metadata": {
    "colab_type": "text",
    "id": "TmMXWSgsz937"
   },
   "source": [
    "### LSTM Network \n"
   ]
  },
  {
   "cell_type": "code",
   "execution_count": 1,
   "metadata": {
    "colab": {},
    "colab_type": "code",
    "id": "I1h1ccLEzWAm"
   },
   "outputs": [],
   "source": [
    "import numpy as np\n",
    "import pandas as pd\n",
    "import matplotlib.pyplot as plt\n",
    "\n",
    "from tqdm  import tqdm_notebook #used for loading bar (e.g. to visualise how long an operation is taking)\n",
    "\n",
    "#read in data\n",
    "import requests\n",
    "import tarfile\n",
    "import os\n",
    "import zipfile\n",
    "import regex as re #to clean the text\n",
    "import string"
   ]
  },
  {
   "cell_type": "code",
   "execution_count": 2,
   "metadata": {},
   "outputs": [],
   "source": [
    "def maybe_download(data_url, path):\n",
    "    if os.path.exists(os.getcwd()+\"/\"+path):\n",
    "        print(\"Data already present.\")\n",
    "    else:\n",
    "        print(\"Downloading data...\")\n",
    "        r = requests.get(data_url, stream=True)\n",
    "        file_name = data_url.split(\"/\")[-1]\n",
    "        with open(file_name,'wb') as f:\n",
    "            total_length = int(r.headers.get('content-length'))\n",
    "            for chunk in tqdm_notebook(r.iter_content(chunk_size=8192), total=(total_length//8192) + 1): \n",
    "                if chunk:\n",
    "                    f.write(chunk)\n",
    "                    f.flush()\n",
    "        print(\"Extracting data\")\n",
    "        if \"tar\" in file_name:\n",
    "            unzipper = tarfile.open(file_name)\n",
    "        elif \"zip\" in file_name:\n",
    "            unzipper = zipfile.ZipFile(file_name,\"r\")\n",
    "        unzipper.extractall()\n",
    "        unzipper.close()\n",
    "        os.remove(path) \n",
    "        print(\"Success: Data downloaded and extracted.\")"
   ]
  },
  {
   "cell_type": "code",
   "execution_count": 3,
   "metadata": {},
   "outputs": [
    {
     "name": "stdout",
     "output_type": "stream",
     "text": [
      "Data already present.\n"
     ]
    }
   ],
   "source": [
    "maybe_download(data_url=\"http://ai.stanford.edu/~amaas/data/sentiment/aclImdb_v1.tar.gz\", path=\"aclImdb\")"
   ]
  },
  {
   "cell_type": "code",
   "execution_count": 4,
   "metadata": {},
   "outputs": [
    {
     "name": "stdout",
     "output_type": "stream",
     "text": [
      "Data already present.\n"
     ]
    }
   ],
   "source": [
    "maybe_download(data_url=\"http://nlp.stanford.edu/data/wordvecs/glove.6B.zip\", path=\"glove.6B.50d.txt\")"
   ]
  },
  {
   "cell_type": "code",
   "execution_count": 5,
   "metadata": {},
   "outputs": [],
   "source": [
    "def get_GloVe_vecs(embedding_size):\n",
    "    file_name = \"glove.6B.\" + str(embedding_size) + \"d.txt\"\n",
    "    with open(file_name,'r') as f:\n",
    "        word_to_glove = {}\n",
    "        for line in f:\n",
    "            line =line.strip().split()\n",
    "            word = line[0]\n",
    "            vec = np.array(line[1:], dtype=np.float64)\n",
    "            word_to_glove[word]= vec\n",
    "    return word_to_glove\n",
    "\n"
   ]
  },
  {
   "cell_type": "code",
   "execution_count": 6,
   "metadata": {},
   "outputs": [],
   "source": [
    "def clean_line(s):\n",
    "    s = s.lower()\n",
    "    #remove = re.compile(ur'[\\p{C}|\\p{M}|\\p{P}|\\p{S}|\\p{Z}]+', re.UNICODE)\n",
    "    return re.sub('[%s]' % re.escape(string.punctuation), '', s)\n",
    "\n",
    "def preprocess_input(path,embedding_size,max_length):\n",
    "    word_to_glove = get_GloVe_vecs(embedding_size)\n",
    "    X = np.zeros((25000,embedding_size+2,max_length))\n",
    "    Y = np.zeros((1,25000))\n",
    "    reviews = [] #track file associated with respective input features \n",
    "    Y[:,:12500] =1\n",
    "    for k,label in enumerate([\"pos\", \"neg\"]):\n",
    "        for i, file in enumerate(tqdm_notebook(os.listdir(os.fsencode(path+'/'+label)), total=12500)):\n",
    "            filename = os.fsdecode(file)\n",
    "            with open(path+'/'+label+'/'+filename, 'r') as f:\n",
    "                X[k*12500+i,0,0] =1 #START OF SENTENCE\n",
    "                num_words=1\n",
    "                reviews.append(path+'/'+label+'/'+filename)\n",
    "                for line in f:\n",
    "                    line = clean_line(line)\n",
    "                    for word in line.strip().split():\n",
    "                        if num_words>=(max_length-2):\n",
    "                            break\n",
    "                        if word in word_to_glove.keys():\n",
    "                            X[k*12500+i,2:,num_words] = word_to_glove.get(word) #first 12500 are pos, second 12500 are neg\n",
    "                            num_words+=1\n",
    "                    if num_words>=(max_length-2):\n",
    "                        break\n",
    "                X[k*12500+i,1,-1] = 1 #END OF SENTENCE\n",
    "    #shuffle indices\n",
    "    idx = np.random.permutation(25000)\n",
    "    X = X[idx]\n",
    "    Y = Y[:,idx]\n",
    "    reviews = np.array(reviews)[idx]\n",
    "    return X, Y,reviews"
   ]
  },
  {
   "cell_type": "code",
   "execution_count": 7,
   "metadata": {},
   "outputs": [
    {
     "data": {
      "application/vnd.jupyter.widget-view+json": {
       "model_id": "e2c04f16bb4d425a998b4cc51aa5b785",
       "version_major": 2,
       "version_minor": 0
      },
      "text/plain": [
       "HBox(children=(IntProgress(value=0, max=12500), HTML(value='')))"
      ]
     },
     "metadata": {},
     "output_type": "display_data"
    },
    {
     "name": "stdout",
     "output_type": "stream",
     "text": [
      "\n"
     ]
    },
    {
     "data": {
      "application/vnd.jupyter.widget-view+json": {
       "model_id": "448fe94416fe4a51bac6b8b28178f857",
       "version_major": 2,
       "version_minor": 0
      },
      "text/plain": [
       "HBox(children=(IntProgress(value=0, max=12500), HTML(value='')))"
      ]
     },
     "metadata": {},
     "output_type": "display_data"
    },
    {
     "name": "stdout",
     "output_type": "stream",
     "text": [
      "\n"
     ]
    },
    {
     "data": {
      "application/vnd.jupyter.widget-view+json": {
       "model_id": "9fc948c8b99546aeb746815a4e2ff403",
       "version_major": 2,
       "version_minor": 0
      },
      "text/plain": [
       "HBox(children=(IntProgress(value=0, max=12500), HTML(value='')))"
      ]
     },
     "metadata": {},
     "output_type": "display_data"
    },
    {
     "name": "stdout",
     "output_type": "stream",
     "text": [
      "\n"
     ]
    },
    {
     "data": {
      "application/vnd.jupyter.widget-view+json": {
       "model_id": "0a23833e0f7e496cb2478bc9a92d2583",
       "version_major": 2,
       "version_minor": 0
      },
      "text/plain": [
       "HBox(children=(IntProgress(value=0, max=12500), HTML(value='')))"
      ]
     },
     "metadata": {},
     "output_type": "display_data"
    },
    {
     "name": "stdout",
     "output_type": "stream",
     "text": [
      "\n"
     ]
    }
   ],
   "source": [
    "X_train, Y_train,train_reviews = preprocess_input('aclImdb/train/', embedding_size=50,max_length=200)\n",
    "X_test, Y_test, test_reviews = preprocess_input('aclImdb/test/', embedding_size=50,max_length=200)\n"
   ]
  },
  {
   "cell_type": "code",
   "execution_count": 8,
   "metadata": {},
   "outputs": [
    {
     "name": "stdout",
     "output_type": "stream",
     "text": [
      "[0.]\n",
      "This is the kind of film one watches in gape-jawed, horrified silence, and yet continues to watch, mesmerized, as if watching a train wreck in slow motion. And yet, in the back of your mind, thoughts are churning: \"Who on EARTH green-lighted this garbage?\"<br /><br />Some of the preceding user comments say things like, \"A good way to introduce children to Laurel and Hardy\" -- an insult to children everywhere. That children would need some sort of training plan to learn to love slapstick comedy shows a profound misunderstanding of the nature of children the world over. Others have commented on the faithfulness of the two stars' characterizations of Laurel and Hardy to which I would respond: so WHAT? One would think that the rash of movie BOMBS based on beloved series (Rocky and Bullwinkle, Avengers, Flipper, Mod Squad, ad nauseam) would have taught Hollywood that there are some things that simply can't be recreated. The films of Laurel and Hardy are readily available on video: why bother with this?<br /><br />As for F. Murray Abraham, a fine actor of stage and screen... well, all I can say is, he must have been in trouble with the IRS.<br /><br />Run, don't walk, away from the television if this trash comes on!\n"
     ]
    }
   ],
   "source": [
    "i = np.random.randint(0,25000)\n",
    "print((Y_train[:,i]))\n",
    "with open(train_reviews[i],'r') as f:\n",
    "    for line in f:\n",
    "        print(line)"
   ]
  },
  {
   "cell_type": "code",
   "execution_count": null,
   "metadata": {},
   "outputs": [],
   "source": []
  },
  {
   "cell_type": "raw",
   "metadata": {},
   "source": [
    "a =np.array(list(get_GloVe_vecs(100).values()))\n",
    "b = list(get_GloVe_vecs(100).keys())"
   ]
  },
  {
   "cell_type": "raw",
   "metadata": {},
   "source": [
    "from MulticoreTSNE import MulticoreTSNE as TSNE\n",
    "\n",
    "tsne = TSNE(n_jobs=4)\n",
    "a_em = tsne.fit_transform(a[:1000]) #visualise 1000 word embeddings\n"
   ]
  },
  {
   "cell_type": "raw",
   "metadata": {},
   "source": [
    "plt.ion()\n",
    "plt.scatter(a_em[:,0], a_em[:,1])\n",
    "for i in range(1000):\n",
    "    plt.annotate(b[i],(a_em[i,0], a_em[i,1]))\n",
    "plt.show()"
   ]
  },
  {
   "cell_type": "code",
   "execution_count": 9,
   "metadata": {
    "colab": {},
    "colab_type": "code",
    "id": "DvoUYEonzWAw"
   },
   "outputs": [],
   "source": [
    "def sigmoid(z):\n",
    "    return 1.0/(1+np.exp(-z))\n",
    "\n",
    "\n",
    "def forward_step(a_prev, x, c_prev, parameters):\n",
    "    n_a = a_prev.shape[0]\n",
    "    input_concat = np.concatenate((a_prev, x),axis=0)\n",
    "    IFO_gates = sigmoid(parameters[\"Wg\"].dot(input_concat)+parameters[\"bg\"])\n",
    "    c_candidate = np.tanh(parameters[\"Wc\"].dot(input_concat)+parameters[\"bc\"])\n",
    "    c_next = IFO_gates[:n_a]*c_candidate + IFO_gates[n_a:2*n_a]*c_prev\n",
    "    a_next = IFO_gates[2*n_a:]*np.tanh(c_next)\n",
    "    cache = (a_next, c_next, input_concat, c_prev, c_candidate,IFO_gates)\n",
    "    return a_next, c_next, cache\n",
    "\n",
    "\n",
    "def backward_step(dA_next, dC_next,cache,parameters):\n",
    "    (a_next, c_next, input_concat, c_prev, c_candidate,IFO_gates) = cache\n",
    "    n_a, m = a_next.shape\n",
    "    \n",
    "    dC_next += dA_next* (IFO_gates[2*n_a:]*(1-np.tanh(c_next)**2))\n",
    "    \n",
    "    dC_prev = dC_next * IFO_gates[n_a:2*n_a]\n",
    "    dC_candidate =  dC_next * IFO_gates[:n_a]\n",
    "    \n",
    "    dIFO_gates = np.zeros_like(IFO_gates)\n",
    "    dIFO_gates[:n_a] = dC_next * c_candidate \n",
    "    dIFO_gates[n_a:2*n_a]= dC_next * c_prev\n",
    "    dIFO_gates[2*n_a:] = dA_next * np.tanh(c_next)\n",
    "\n",
    "    dZ_gate =  dIFO_gates* (IFO_gates*(1-IFO_gates))   \n",
    "    dA_prev =  (parameters[\"Wg\"].T).dot(dZ_gate)[:n_a]\n",
    "    dWg = (1/m)*dZ_gate.dot(input_concat.T)\n",
    "    dbg = (1/m)*np.sum(dZ_gate,axis=1, keepdims=True)\n",
    "    \n",
    "    dZ_c = dC_candidate * (1-c_candidate**2)\n",
    "    dA_prev +=  (parameters[\"Wc\"].T).dot(dZ_c)[:n_a]\n",
    "    dWc = (1/m)*dZ_c.dot(input_concat.T)\n",
    "    dbc = (1/m)*np.sum(dZ_c,axis=1, keepdims=True)  \n",
    "    \n",
    "    return dA_prev, dC_prev, dWg, dbg, dWc, dbc\n",
    "\n"
   ]
  },
  {
   "cell_type": "code",
   "execution_count": 10,
   "metadata": {
    "colab": {},
    "colab_type": "code",
    "id": "S61KBip-zWAz"
   },
   "outputs": [],
   "source": [
    "def forward_prop(X, parameters):\n",
    "    m, _, Tx = X.shape\n",
    "    a = np.repeat(parameters[\"a0\"],m, axis=1)\n",
    "    c = np.repeat(parameters[\"c0\"],m, axis=1)\n",
    "    caches= []\n",
    "    for t in range(Tx):\n",
    "        xt = np.squeeze(X[:,:,t]).T #so 2D matrix n_x, m\n",
    "        a, c, cache = forward_step(a,xt , c, parameters)\n",
    "        caches.append(cache)\n",
    "    y_pred = sigmoid(parameters[\"Wy\"].dot(a)+parameters[\"by\"])\n",
    "    return y_pred, caches\n",
    "\n",
    "\n",
    "def backprop(X,y, y_pred, parameters, caches,lambd):\n",
    "    m, _, Tx = X.shape\n",
    "    grads = {}\n",
    "    \n",
    "    \n",
    "    dZ_pred = (y_pred-y) \n",
    "    dA =  (parameters[\"Wy\"].T).dot(dZ_pred)\n",
    "    grads[\"dWy\"] = (1/m)*dZ_pred.dot(caches[Tx-1][0].T) #this is A<T_X>\n",
    "    grads[\"dby\"] = (1/m)*np.sum(dZ_pred,axis=1, keepdims=True)\n",
    "    \n",
    "    dC = np.zeros_like(dA)\n",
    "    \n",
    "    grads[\"dWg\"] = np.zeros_like(parameters[\"Wg\"])\n",
    "    grads[\"dbg\"] = np.zeros_like(parameters[\"bg\"])\n",
    "    grads[\"dWc\"] = np.zeros_like(parameters[\"Wc\"])\n",
    "    grads[\"dbc\"] = np.zeros_like(parameters[\"bc\"])\n",
    "    \n",
    "    \n",
    "    for t in reversed(range(Tx)):\n",
    "        (dA, dC, dWg, dbg, dWc, dbc) = backward_step(dA, dC, caches[t],parameters)\n",
    "        grads[\"dWg\"] += dWg\n",
    "        grads[\"dbg\"] += dbg\n",
    "        grads[\"dWc\"] += dWc\n",
    "        grads[\"dbc\"] += dbc\n",
    "    \n",
    "    grads[\"da0\"] = np.sum(dA,axis=1,keepdims=True)\n",
    "    grads[\"dc0\"] = np.sum(dC,axis=1,keepdims=True)\n",
    "    \n",
    "    #regularisation term\n",
    "    for key in grads:\n",
    "        if \"W\" in key:\n",
    "            grads[key]+= (lambd/m)*parameters[key[1:]] \n",
    "    \n",
    "    return grads\n"
   ]
  },
  {
   "cell_type": "code",
   "execution_count": 11,
   "metadata": {
    "colab": {},
    "colab_type": "code",
    "id": "t-vlDaeQzWA4"
   },
   "outputs": [],
   "source": [
    "def loss_function(y_pred,y, parameters, lambd):\n",
    "    m = y.shape[1]\n",
    "    cost = (-1/m)*np.sum(y*np.log(y_pred) + (1-y)*np.log(1-y_pred))\n",
    "    \n",
    "    regularisation_term = 0\n",
    "    for key in parameters:\n",
    "        if \"W\" in key:\n",
    "            regularisation_term += np.sum(np.square(parameters[key]))\n",
    "    \n",
    "    regularised_cost = cost + (lambd/(2*m))*regularisation_term\n",
    "    \n",
    "    return regularised_cost\n"
   ]
  },
  {
   "cell_type": "code",
   "execution_count": 12,
   "metadata": {
    "colab": {},
    "colab_type": "code",
    "id": "OQG2ZymdzWA8"
   },
   "outputs": [],
   "source": [
    "def accuracy(y_pred,y):\n",
    "    preds = np.rint(y_pred) #round to int\n",
    "    return np.mean(np.equal(preds,y).astype(int))"
   ]
  },
  {
   "cell_type": "code",
   "execution_count": 13,
   "metadata": {
    "colab": {},
    "colab_type": "code",
    "id": "gUcRhv_bJxAJ"
   },
   "outputs": [],
   "source": [
    "def backprop_checker(parameters,grads, x, y,lambd):\n",
    "    epsilon = 1e-7\n",
    "    rel_threshold = 1e-2\n",
    "    num_sample = 10\n",
    "    flag = True #if backprop is correct\n",
    "    print(\"Checking gradients...\")\n",
    "    for param in parameters.keys(): \n",
    "        print(\"Checking: \" + param)\n",
    "        dims = parameters[param].shape\n",
    "        \n",
    "        \n",
    "        num_grad = 0\n",
    "        backprop_grad = 0\n",
    "        \n",
    "        for _ in range(num_sample): #sample 10 neurons\n",
    "            idx = np.zeros(len(dims))\n",
    "            for i in range(len(dims)):\n",
    "                idx[i] = np.random.randint(0,dims[i])\n",
    "            idx = tuple(idx.astype(int))\n",
    "\n",
    "            parameters[param][idx]= parameters[param][idx] + epsilon\n",
    "            y_pred_plus = forward_prop(x,parameters)[0]\n",
    "            J_plus = loss_function(y_pred_plus,y,parameters,lambd)\n",
    "            parameters[param][idx]= parameters[param][idx] - 2*epsilon\n",
    "\n",
    "            y_pred_minus = forward_prop(x,parameters)[0]\n",
    "\n",
    "            J_minus = loss_function(y_pred_minus,y,parameters,lambd)\n",
    "            parameters[param][idx]= parameters[param][idx]+ epsilon\n",
    "\n",
    "            num_grad += (J_plus-J_minus)/(2*epsilon)\n",
    "            backprop_grad += grads[\"d\"+param][idx]\n",
    "            \n",
    "            \n",
    "        num_grad/=num_sample\n",
    "        backprop_grad/=num_sample\n",
    "        rel_error = abs((num_grad-backprop_grad)/num_grad)\n",
    "        if rel_error>rel_threshold:\n",
    "            #print(\"J_plus: \"+ str(J_plus))\n",
    "            #print(\"J_minus: \"+ str(J_minus))\n",
    "            print(\"Numerical grad:\" + str(num_grad))\n",
    "            print(\"Backprop grad:\" + str(backprop_grad))\n",
    " \n",
    "            print(\"Relative error: \" + str(rel_error))\n",
    "            if not (num_grad<1e-6 and backprop_grad<1e-6):\n",
    "                flag = False\n",
    "                print(\"Backprop calculation incorrect\")\n",
    "    print(\"Gradient check complete\")\n",
    "    assert(flag) #if not the backprop is massively out so kill training"
   ]
  },
  {
   "cell_type": "code",
   "execution_count": 14,
   "metadata": {},
   "outputs": [],
   "source": [
    "def forward_checker(caches):\n",
    "    for i, cache in enumerate(caches):\n",
    "        n_a = cache[0].shape[0]\n",
    "        keys = (\"a_next\", \"c_next\", \"input_concat\", \"c_prev\", \"c_candidate\",\"IFO_gates\")\n",
    "        for j, val in enumerate(cache):\n",
    "            if \"input_concat\" in keys[j] and (i==0 or i==100 or i==199):\n",
    "                print(\"\\n\\nCache\" + str(i))\n",
    "                print(keys[j])\n",
    "                print(val[:n_a])\n",
    "               "
   ]
  },
  {
   "cell_type": "markdown",
   "metadata": {},
   "source": [
    "We will be using the Adam optimisation step on minibatches, rather than traditional gradient descent, since Adam is a faster optimiser.\n",
    "\n",
    "The Adam optimisation equations for variable $x$ w.r.t cost function $J$ are as follows:\n",
    "\n",
    "Initialise  $v=0, s=0$\n",
    "\n",
    "*For minibatch t:*\n",
    "    \n",
    "  Compute $ \\frac{\\partial \\mathcal{J} }{\\partial x}$ using current minibatch\n",
    "  \n",
    "  $$ v = \\beta_1 v + (1-\\beta_1)\\frac{\\partial \\mathcal{J} }{\\partial x}$$\n",
    "  \n",
    "  $$ s = \\beta_2 s + (1-\\beta_2)(\\frac{\\partial \\mathcal{J} }{\\partial x})^2$$ where $^2$ = element-wise squaring\n",
    "  \n",
    "  $$ v_{corrected} = \\frac{v}{1-\\beta_1^t}$$\n",
    "  \n",
    "  $$ s_{corrected} = \\frac{s}{1-\\beta_2^t}$$\n",
    "  \n",
    "  $$ x = x - \\alpha\\frac{v_{corrected}}{\\sqrt{s_{corrected}+\\epsilon}}$$\n",
    "  \n",
    "  where $\\epsilon = 10^{-8}$ (as recommended by the original Adam paper)"
   ]
  },
  {
   "cell_type": "code",
   "execution_count": 15,
   "metadata": {},
   "outputs": [],
   "source": [
    "\n",
    "def initialise_parameters(n_a,n_x):\n",
    "    Wg, bg = 0.3*np.random.randn(3*n_a,n_a+n_x), np.zeros((3*n_a, 1))\n",
    "    bg[n_a:2*n_a] = 1 #forget gates get initial positive bias\n",
    "    Wc, bc = 0.3*np.random.randn(n_a,n_a+n_x), np.zeros((n_a, 1))\n",
    "    Wy, by = 0.3*np.random.randn(1,n_a), np.zeros((1, 1))\n",
    "    a0 = c0 = np.zeros((n_a,1))\n",
    "    parameters = {\"Wg\": Wg,\"Wc\": Wc,\"Wy\": Wy,\"bg\": bg, \"bc\": bc,\"by\": by, \"a0\": a0, \"c0\":c0}\n",
    "    return parameters\n",
    "\n",
    "\n",
    "def initialise_adam_parameters(parameters):\n",
    "    adam_parameters = {}\n",
    "    for param in parameters:\n",
    "        adam_parameters[\"v\"+ param] = np.zeros_like(parameters[param])\n",
    "        adam_parameters[\"s\"+ param] = np.zeros_like(parameters[param])\n",
    "\n",
    "    return adam_parameters\n",
    "\n",
    "def update_with_adam(parameters, grads, adam_parameters, batch_num, learning_rate, beta1=0.9,beta2=0.999):\n",
    "    for param in parameters:\n",
    "        \n",
    "        #gradient clipping to prevent exploding gradients\n",
    "        \n",
    "        \n",
    "        \n",
    "        v_prev, s_prev = adam_parameters[\"v\"+ param],adam_parameters[\"s\"+ param]\n",
    "        v = beta1*v_prev + (1-beta1)*grads[\"d\"+param]\n",
    "        s = beta2*s_prev + (1-beta2)*np.square(grads[\"d\"+param])\n",
    "        v_corrected = v/(1-beta1**batch_num)\n",
    "        s_corrected = s/(1-beta2**batch_num)     \n",
    "        parameters[param] -= learning_rate*np.divide(v_corrected,np.sqrt(s_corrected + 1e-8))  \n",
    "        adam_parameters[\"v\"+ param],adam_parameters[\"s\"+ param] = v,s\n",
    "    return parameters,adam_parameters  \n"
   ]
  },
  {
   "cell_type": "code",
   "execution_count": 16,
   "metadata": {
    "colab": {},
    "colab_type": "code",
    "id": "2erCPY3HzWA_"
   },
   "outputs": [],
   "source": [
    "%matplotlib notebook\n",
    "def train_model(X_train, Y_train, X_dev, Y_dev,num_epochs, batch_size,lambd,learning_rate,num_hidden_units=512, parameters = None ):\n",
    "    train_costs = []\n",
    "    train_evals = []\n",
    "    dev_evals = []\n",
    "    fig, (ax1, ax2,ax3) = plt.subplots(1,3,figsize=(10, 3))\n",
    "    \n",
    "    ax1.set_xlabel('Number of iterations')\n",
    "    ax1.set_ylabel('Error')\n",
    "    ax1.set_title('Training Set Error')\n",
    "    \n",
    "    ax2.set_xlabel('Number of iterations')\n",
    "    ax2.set_ylabel('Accuracy')\n",
    "    ax2.set_title('Training Set Accuracy')\n",
    "    \n",
    "    ax3.set_xlabel('Number of iterations')\n",
    "    ax3.set_ylabel('Accuracy')\n",
    "    ax3.set_title('Dev Set Accuracy')\n",
    "\n",
    "    plt.tight_layout()\n",
    "    plt.ion()\n",
    "\n",
    "    fig.show()\n",
    "    fig.canvas.draw()\n",
    "    \n",
    "    m, n_x, T_x = X_train.shape\n",
    "\n",
    "    \n",
    "    if parameters==None:\n",
    "        parameters = initialise_parameters(num_hidden_units, n_x)\n",
    "    \n",
    "\n",
    "    for epoch in tqdm_notebook(range(num_epochs),total=num_epochs):\n",
    "        #cycle through the entire training set in batches\n",
    "        adam_parameters = initialise_adam_parameters(parameters)\n",
    "\n",
    "        \n",
    "        for i in tqdm_notebook(range(0,m//batch_size), total =m//batch_size, desc = \"Minibatch number\"):\n",
    "            \n",
    "            \n",
    "            #get the next minibatch to train on\n",
    "            X_train_minibatch = X_train[i*batch_size:(i+1)*batch_size]\n",
    "            Y_train_minibatch = Y_train[:,i*batch_size:(i+1)*batch_size]\n",
    "            #perform one cycle of forward and backward propagation to get the partial derivatives w.r.t. the weights\n",
    "            #and biases. Calculate the cost - used to monitor training\n",
    "            y_pred, caches = forward_prop(X_train_minibatch,parameters)\n",
    "            minibatch_cost = loss_function(y_pred,Y_train_minibatch,parameters,lambd)\n",
    "            minibatch_grads = backprop(X_train_minibatch,Y_train_minibatch,y_pred,parameters, caches,lambd)\n",
    "            \n",
    "            #check backprop calculations - comment out once satisfied      \n",
    "            \n",
    "            \n",
    "           # if(i==0):\n",
    "                #forward_checker(caches)\n",
    "               # backprop_checker(parameters,minibatch_grads, X_train_minibatch, Y_train_minibatch,lambd)\n",
    "\n",
    "            #update the parameters using gradient descent\n",
    "            parameters, adam_parameters = update_with_adam(parameters, minibatch_grads, adam_parameters,i+1, learning_rate)\n",
    "            \n",
    "            #visualise error\n",
    "            train_costs.append(minibatch_cost)\n",
    "            ax1.plot(train_costs)\n",
    "            fig.canvas.draw()\n",
    "            \n",
    "            \n",
    "            train_eval_metric = accuracy(y_pred,Y_train_minibatch)\n",
    "            train_evals.append(train_eval_metric)\n",
    "            ax2.plot(train_evals)\n",
    "            fig.canvas.draw()\n",
    "            \n",
    "            #periodically output an update on the current cost and performance on the dev set for visualisation\n",
    "            if(i%5 == 0):\n",
    "                print(\"Training set error: \"+ str(minibatch_cost))\n",
    "                print(\"Training set accuracy: \"+ str(train_eval_metric))\n",
    "                y_dev_pred,_ = forward_prop(X_dev,parameters)\n",
    "                dev_eval_metric = accuracy(y_dev_pred,Y_dev)\n",
    "                dev_evals.append(dev_eval_metric)\n",
    "                print(\"Accuracy on dev set: \"+ str(dev_eval_metric))\n",
    "                ax3.plot(dev_evals)\n",
    "                fig.canvas.draw()\n",
    "    print(\"Training complete!\")\n",
    "    #return the trained parameters \n",
    "    return parameters"
   ]
  },
  {
   "cell_type": "code",
   "execution_count": null,
   "metadata": {},
   "outputs": [
    {
     "data": {
      "application/javascript": [
       "/* Put everything inside the global mpl namespace */\n",
       "window.mpl = {};\n",
       "\n",
       "\n",
       "mpl.get_websocket_type = function() {\n",
       "    if (typeof(WebSocket) !== 'undefined') {\n",
       "        return WebSocket;\n",
       "    } else if (typeof(MozWebSocket) !== 'undefined') {\n",
       "        return MozWebSocket;\n",
       "    } else {\n",
       "        alert('Your browser does not have WebSocket support.' +\n",
       "              'Please try Chrome, Safari or Firefox ≥ 6. ' +\n",
       "              'Firefox 4 and 5 are also supported but you ' +\n",
       "              'have to enable WebSockets in about:config.');\n",
       "    };\n",
       "}\n",
       "\n",
       "mpl.figure = function(figure_id, websocket, ondownload, parent_element) {\n",
       "    this.id = figure_id;\n",
       "\n",
       "    this.ws = websocket;\n",
       "\n",
       "    this.supports_binary = (this.ws.binaryType != undefined);\n",
       "\n",
       "    if (!this.supports_binary) {\n",
       "        var warnings = document.getElementById(\"mpl-warnings\");\n",
       "        if (warnings) {\n",
       "            warnings.style.display = 'block';\n",
       "            warnings.textContent = (\n",
       "                \"This browser does not support binary websocket messages. \" +\n",
       "                    \"Performance may be slow.\");\n",
       "        }\n",
       "    }\n",
       "\n",
       "    this.imageObj = new Image();\n",
       "\n",
       "    this.context = undefined;\n",
       "    this.message = undefined;\n",
       "    this.canvas = undefined;\n",
       "    this.rubberband_canvas = undefined;\n",
       "    this.rubberband_context = undefined;\n",
       "    this.format_dropdown = undefined;\n",
       "\n",
       "    this.image_mode = 'full';\n",
       "\n",
       "    this.root = $('<div/>');\n",
       "    this._root_extra_style(this.root)\n",
       "    this.root.attr('style', 'display: inline-block');\n",
       "\n",
       "    $(parent_element).append(this.root);\n",
       "\n",
       "    this._init_header(this);\n",
       "    this._init_canvas(this);\n",
       "    this._init_toolbar(this);\n",
       "\n",
       "    var fig = this;\n",
       "\n",
       "    this.waiting = false;\n",
       "\n",
       "    this.ws.onopen =  function () {\n",
       "            fig.send_message(\"supports_binary\", {value: fig.supports_binary});\n",
       "            fig.send_message(\"send_image_mode\", {});\n",
       "            if (mpl.ratio != 1) {\n",
       "                fig.send_message(\"set_dpi_ratio\", {'dpi_ratio': mpl.ratio});\n",
       "            }\n",
       "            fig.send_message(\"refresh\", {});\n",
       "        }\n",
       "\n",
       "    this.imageObj.onload = function() {\n",
       "            if (fig.image_mode == 'full') {\n",
       "                // Full images could contain transparency (where diff images\n",
       "                // almost always do), so we need to clear the canvas so that\n",
       "                // there is no ghosting.\n",
       "                fig.context.clearRect(0, 0, fig.canvas.width, fig.canvas.height);\n",
       "            }\n",
       "            fig.context.drawImage(fig.imageObj, 0, 0);\n",
       "        };\n",
       "\n",
       "    this.imageObj.onunload = function() {\n",
       "        fig.ws.close();\n",
       "    }\n",
       "\n",
       "    this.ws.onmessage = this._make_on_message_function(this);\n",
       "\n",
       "    this.ondownload = ondownload;\n",
       "}\n",
       "\n",
       "mpl.figure.prototype._init_header = function() {\n",
       "    var titlebar = $(\n",
       "        '<div class=\"ui-dialog-titlebar ui-widget-header ui-corner-all ' +\n",
       "        'ui-helper-clearfix\"/>');\n",
       "    var titletext = $(\n",
       "        '<div class=\"ui-dialog-title\" style=\"width: 100%; ' +\n",
       "        'text-align: center; padding: 3px;\"/>');\n",
       "    titlebar.append(titletext)\n",
       "    this.root.append(titlebar);\n",
       "    this.header = titletext[0];\n",
       "}\n",
       "\n",
       "\n",
       "\n",
       "mpl.figure.prototype._canvas_extra_style = function(canvas_div) {\n",
       "\n",
       "}\n",
       "\n",
       "\n",
       "mpl.figure.prototype._root_extra_style = function(canvas_div) {\n",
       "\n",
       "}\n",
       "\n",
       "mpl.figure.prototype._init_canvas = function() {\n",
       "    var fig = this;\n",
       "\n",
       "    var canvas_div = $('<div/>');\n",
       "\n",
       "    canvas_div.attr('style', 'position: relative; clear: both; outline: 0');\n",
       "\n",
       "    function canvas_keyboard_event(event) {\n",
       "        return fig.key_event(event, event['data']);\n",
       "    }\n",
       "\n",
       "    canvas_div.keydown('key_press', canvas_keyboard_event);\n",
       "    canvas_div.keyup('key_release', canvas_keyboard_event);\n",
       "    this.canvas_div = canvas_div\n",
       "    this._canvas_extra_style(canvas_div)\n",
       "    this.root.append(canvas_div);\n",
       "\n",
       "    var canvas = $('<canvas/>');\n",
       "    canvas.addClass('mpl-canvas');\n",
       "    canvas.attr('style', \"left: 0; top: 0; z-index: 0; outline: 0\")\n",
       "\n",
       "    this.canvas = canvas[0];\n",
       "    this.context = canvas[0].getContext(\"2d\");\n",
       "\n",
       "    var backingStore = this.context.backingStorePixelRatio ||\n",
       "\tthis.context.webkitBackingStorePixelRatio ||\n",
       "\tthis.context.mozBackingStorePixelRatio ||\n",
       "\tthis.context.msBackingStorePixelRatio ||\n",
       "\tthis.context.oBackingStorePixelRatio ||\n",
       "\tthis.context.backingStorePixelRatio || 1;\n",
       "\n",
       "    mpl.ratio = (window.devicePixelRatio || 1) / backingStore;\n",
       "\n",
       "    var rubberband = $('<canvas/>');\n",
       "    rubberband.attr('style', \"position: absolute; left: 0; top: 0; z-index: 1;\")\n",
       "\n",
       "    var pass_mouse_events = true;\n",
       "\n",
       "    canvas_div.resizable({\n",
       "        start: function(event, ui) {\n",
       "            pass_mouse_events = false;\n",
       "        },\n",
       "        resize: function(event, ui) {\n",
       "            fig.request_resize(ui.size.width, ui.size.height);\n",
       "        },\n",
       "        stop: function(event, ui) {\n",
       "            pass_mouse_events = true;\n",
       "            fig.request_resize(ui.size.width, ui.size.height);\n",
       "        },\n",
       "    });\n",
       "\n",
       "    function mouse_event_fn(event) {\n",
       "        if (pass_mouse_events)\n",
       "            return fig.mouse_event(event, event['data']);\n",
       "    }\n",
       "\n",
       "    rubberband.mousedown('button_press', mouse_event_fn);\n",
       "    rubberband.mouseup('button_release', mouse_event_fn);\n",
       "    // Throttle sequential mouse events to 1 every 20ms.\n",
       "    rubberband.mousemove('motion_notify', mouse_event_fn);\n",
       "\n",
       "    rubberband.mouseenter('figure_enter', mouse_event_fn);\n",
       "    rubberband.mouseleave('figure_leave', mouse_event_fn);\n",
       "\n",
       "    canvas_div.on(\"wheel\", function (event) {\n",
       "        event = event.originalEvent;\n",
       "        event['data'] = 'scroll'\n",
       "        if (event.deltaY < 0) {\n",
       "            event.step = 1;\n",
       "        } else {\n",
       "            event.step = -1;\n",
       "        }\n",
       "        mouse_event_fn(event);\n",
       "    });\n",
       "\n",
       "    canvas_div.append(canvas);\n",
       "    canvas_div.append(rubberband);\n",
       "\n",
       "    this.rubberband = rubberband;\n",
       "    this.rubberband_canvas = rubberband[0];\n",
       "    this.rubberband_context = rubberband[0].getContext(\"2d\");\n",
       "    this.rubberband_context.strokeStyle = \"#000000\";\n",
       "\n",
       "    this._resize_canvas = function(width, height) {\n",
       "        // Keep the size of the canvas, canvas container, and rubber band\n",
       "        // canvas in synch.\n",
       "        canvas_div.css('width', width)\n",
       "        canvas_div.css('height', height)\n",
       "\n",
       "        canvas.attr('width', width * mpl.ratio);\n",
       "        canvas.attr('height', height * mpl.ratio);\n",
       "        canvas.attr('style', 'width: ' + width + 'px; height: ' + height + 'px;');\n",
       "\n",
       "        rubberband.attr('width', width);\n",
       "        rubberband.attr('height', height);\n",
       "    }\n",
       "\n",
       "    // Set the figure to an initial 600x600px, this will subsequently be updated\n",
       "    // upon first draw.\n",
       "    this._resize_canvas(600, 600);\n",
       "\n",
       "    // Disable right mouse context menu.\n",
       "    $(this.rubberband_canvas).bind(\"contextmenu\",function(e){\n",
       "        return false;\n",
       "    });\n",
       "\n",
       "    function set_focus () {\n",
       "        canvas.focus();\n",
       "        canvas_div.focus();\n",
       "    }\n",
       "\n",
       "    window.setTimeout(set_focus, 100);\n",
       "}\n",
       "\n",
       "mpl.figure.prototype._init_toolbar = function() {\n",
       "    var fig = this;\n",
       "\n",
       "    var nav_element = $('<div/>')\n",
       "    nav_element.attr('style', 'width: 100%');\n",
       "    this.root.append(nav_element);\n",
       "\n",
       "    // Define a callback function for later on.\n",
       "    function toolbar_event(event) {\n",
       "        return fig.toolbar_button_onclick(event['data']);\n",
       "    }\n",
       "    function toolbar_mouse_event(event) {\n",
       "        return fig.toolbar_button_onmouseover(event['data']);\n",
       "    }\n",
       "\n",
       "    for(var toolbar_ind in mpl.toolbar_items) {\n",
       "        var name = mpl.toolbar_items[toolbar_ind][0];\n",
       "        var tooltip = mpl.toolbar_items[toolbar_ind][1];\n",
       "        var image = mpl.toolbar_items[toolbar_ind][2];\n",
       "        var method_name = mpl.toolbar_items[toolbar_ind][3];\n",
       "\n",
       "        if (!name) {\n",
       "            // put a spacer in here.\n",
       "            continue;\n",
       "        }\n",
       "        var button = $('<button/>');\n",
       "        button.addClass('ui-button ui-widget ui-state-default ui-corner-all ' +\n",
       "                        'ui-button-icon-only');\n",
       "        button.attr('role', 'button');\n",
       "        button.attr('aria-disabled', 'false');\n",
       "        button.click(method_name, toolbar_event);\n",
       "        button.mouseover(tooltip, toolbar_mouse_event);\n",
       "\n",
       "        var icon_img = $('<span/>');\n",
       "        icon_img.addClass('ui-button-icon-primary ui-icon');\n",
       "        icon_img.addClass(image);\n",
       "        icon_img.addClass('ui-corner-all');\n",
       "\n",
       "        var tooltip_span = $('<span/>');\n",
       "        tooltip_span.addClass('ui-button-text');\n",
       "        tooltip_span.html(tooltip);\n",
       "\n",
       "        button.append(icon_img);\n",
       "        button.append(tooltip_span);\n",
       "\n",
       "        nav_element.append(button);\n",
       "    }\n",
       "\n",
       "    var fmt_picker_span = $('<span/>');\n",
       "\n",
       "    var fmt_picker = $('<select/>');\n",
       "    fmt_picker.addClass('mpl-toolbar-option ui-widget ui-widget-content');\n",
       "    fmt_picker_span.append(fmt_picker);\n",
       "    nav_element.append(fmt_picker_span);\n",
       "    this.format_dropdown = fmt_picker[0];\n",
       "\n",
       "    for (var ind in mpl.extensions) {\n",
       "        var fmt = mpl.extensions[ind];\n",
       "        var option = $(\n",
       "            '<option/>', {selected: fmt === mpl.default_extension}).html(fmt);\n",
       "        fmt_picker.append(option)\n",
       "    }\n",
       "\n",
       "    // Add hover states to the ui-buttons\n",
       "    $( \".ui-button\" ).hover(\n",
       "        function() { $(this).addClass(\"ui-state-hover\");},\n",
       "        function() { $(this).removeClass(\"ui-state-hover\");}\n",
       "    );\n",
       "\n",
       "    var status_bar = $('<span class=\"mpl-message\"/>');\n",
       "    nav_element.append(status_bar);\n",
       "    this.message = status_bar[0];\n",
       "}\n",
       "\n",
       "mpl.figure.prototype.request_resize = function(x_pixels, y_pixels) {\n",
       "    // Request matplotlib to resize the figure. Matplotlib will then trigger a resize in the client,\n",
       "    // which will in turn request a refresh of the image.\n",
       "    this.send_message('resize', {'width': x_pixels, 'height': y_pixels});\n",
       "}\n",
       "\n",
       "mpl.figure.prototype.send_message = function(type, properties) {\n",
       "    properties['type'] = type;\n",
       "    properties['figure_id'] = this.id;\n",
       "    this.ws.send(JSON.stringify(properties));\n",
       "}\n",
       "\n",
       "mpl.figure.prototype.send_draw_message = function() {\n",
       "    if (!this.waiting) {\n",
       "        this.waiting = true;\n",
       "        this.ws.send(JSON.stringify({type: \"draw\", figure_id: this.id}));\n",
       "    }\n",
       "}\n",
       "\n",
       "\n",
       "mpl.figure.prototype.handle_save = function(fig, msg) {\n",
       "    var format_dropdown = fig.format_dropdown;\n",
       "    var format = format_dropdown.options[format_dropdown.selectedIndex].value;\n",
       "    fig.ondownload(fig, format);\n",
       "}\n",
       "\n",
       "\n",
       "mpl.figure.prototype.handle_resize = function(fig, msg) {\n",
       "    var size = msg['size'];\n",
       "    if (size[0] != fig.canvas.width || size[1] != fig.canvas.height) {\n",
       "        fig._resize_canvas(size[0], size[1]);\n",
       "        fig.send_message(\"refresh\", {});\n",
       "    };\n",
       "}\n",
       "\n",
       "mpl.figure.prototype.handle_rubberband = function(fig, msg) {\n",
       "    var x0 = msg['x0'] / mpl.ratio;\n",
       "    var y0 = (fig.canvas.height - msg['y0']) / mpl.ratio;\n",
       "    var x1 = msg['x1'] / mpl.ratio;\n",
       "    var y1 = (fig.canvas.height - msg['y1']) / mpl.ratio;\n",
       "    x0 = Math.floor(x0) + 0.5;\n",
       "    y0 = Math.floor(y0) + 0.5;\n",
       "    x1 = Math.floor(x1) + 0.5;\n",
       "    y1 = Math.floor(y1) + 0.5;\n",
       "    var min_x = Math.min(x0, x1);\n",
       "    var min_y = Math.min(y0, y1);\n",
       "    var width = Math.abs(x1 - x0);\n",
       "    var height = Math.abs(y1 - y0);\n",
       "\n",
       "    fig.rubberband_context.clearRect(\n",
       "        0, 0, fig.canvas.width, fig.canvas.height);\n",
       "\n",
       "    fig.rubberband_context.strokeRect(min_x, min_y, width, height);\n",
       "}\n",
       "\n",
       "mpl.figure.prototype.handle_figure_label = function(fig, msg) {\n",
       "    // Updates the figure title.\n",
       "    fig.header.textContent = msg['label'];\n",
       "}\n",
       "\n",
       "mpl.figure.prototype.handle_cursor = function(fig, msg) {\n",
       "    var cursor = msg['cursor'];\n",
       "    switch(cursor)\n",
       "    {\n",
       "    case 0:\n",
       "        cursor = 'pointer';\n",
       "        break;\n",
       "    case 1:\n",
       "        cursor = 'default';\n",
       "        break;\n",
       "    case 2:\n",
       "        cursor = 'crosshair';\n",
       "        break;\n",
       "    case 3:\n",
       "        cursor = 'move';\n",
       "        break;\n",
       "    }\n",
       "    fig.rubberband_canvas.style.cursor = cursor;\n",
       "}\n",
       "\n",
       "mpl.figure.prototype.handle_message = function(fig, msg) {\n",
       "    fig.message.textContent = msg['message'];\n",
       "}\n",
       "\n",
       "mpl.figure.prototype.handle_draw = function(fig, msg) {\n",
       "    // Request the server to send over a new figure.\n",
       "    fig.send_draw_message();\n",
       "}\n",
       "\n",
       "mpl.figure.prototype.handle_image_mode = function(fig, msg) {\n",
       "    fig.image_mode = msg['mode'];\n",
       "}\n",
       "\n",
       "mpl.figure.prototype.updated_canvas_event = function() {\n",
       "    // Called whenever the canvas gets updated.\n",
       "    this.send_message(\"ack\", {});\n",
       "}\n",
       "\n",
       "// A function to construct a web socket function for onmessage handling.\n",
       "// Called in the figure constructor.\n",
       "mpl.figure.prototype._make_on_message_function = function(fig) {\n",
       "    return function socket_on_message(evt) {\n",
       "        if (evt.data instanceof Blob) {\n",
       "            /* FIXME: We get \"Resource interpreted as Image but\n",
       "             * transferred with MIME type text/plain:\" errors on\n",
       "             * Chrome.  But how to set the MIME type?  It doesn't seem\n",
       "             * to be part of the websocket stream */\n",
       "            evt.data.type = \"image/png\";\n",
       "\n",
       "            /* Free the memory for the previous frames */\n",
       "            if (fig.imageObj.src) {\n",
       "                (window.URL || window.webkitURL).revokeObjectURL(\n",
       "                    fig.imageObj.src);\n",
       "            }\n",
       "\n",
       "            fig.imageObj.src = (window.URL || window.webkitURL).createObjectURL(\n",
       "                evt.data);\n",
       "            fig.updated_canvas_event();\n",
       "            fig.waiting = false;\n",
       "            return;\n",
       "        }\n",
       "        else if (typeof evt.data === 'string' && evt.data.slice(0, 21) == \"data:image/png;base64\") {\n",
       "            fig.imageObj.src = evt.data;\n",
       "            fig.updated_canvas_event();\n",
       "            fig.waiting = false;\n",
       "            return;\n",
       "        }\n",
       "\n",
       "        var msg = JSON.parse(evt.data);\n",
       "        var msg_type = msg['type'];\n",
       "\n",
       "        // Call the  \"handle_{type}\" callback, which takes\n",
       "        // the figure and JSON message as its only arguments.\n",
       "        try {\n",
       "            var callback = fig[\"handle_\" + msg_type];\n",
       "        } catch (e) {\n",
       "            console.log(\"No handler for the '\" + msg_type + \"' message type: \", msg);\n",
       "            return;\n",
       "        }\n",
       "\n",
       "        if (callback) {\n",
       "            try {\n",
       "                // console.log(\"Handling '\" + msg_type + \"' message: \", msg);\n",
       "                callback(fig, msg);\n",
       "            } catch (e) {\n",
       "                console.log(\"Exception inside the 'handler_\" + msg_type + \"' callback:\", e, e.stack, msg);\n",
       "            }\n",
       "        }\n",
       "    };\n",
       "}\n",
       "\n",
       "// from http://stackoverflow.com/questions/1114465/getting-mouse-location-in-canvas\n",
       "mpl.findpos = function(e) {\n",
       "    //this section is from http://www.quirksmode.org/js/events_properties.html\n",
       "    var targ;\n",
       "    if (!e)\n",
       "        e = window.event;\n",
       "    if (e.target)\n",
       "        targ = e.target;\n",
       "    else if (e.srcElement)\n",
       "        targ = e.srcElement;\n",
       "    if (targ.nodeType == 3) // defeat Safari bug\n",
       "        targ = targ.parentNode;\n",
       "\n",
       "    // jQuery normalizes the pageX and pageY\n",
       "    // pageX,Y are the mouse positions relative to the document\n",
       "    // offset() returns the position of the element relative to the document\n",
       "    var x = e.pageX - $(targ).offset().left;\n",
       "    var y = e.pageY - $(targ).offset().top;\n",
       "\n",
       "    return {\"x\": x, \"y\": y};\n",
       "};\n",
       "\n",
       "/*\n",
       " * return a copy of an object with only non-object keys\n",
       " * we need this to avoid circular references\n",
       " * http://stackoverflow.com/a/24161582/3208463\n",
       " */\n",
       "function simpleKeys (original) {\n",
       "  return Object.keys(original).reduce(function (obj, key) {\n",
       "    if (typeof original[key] !== 'object')\n",
       "        obj[key] = original[key]\n",
       "    return obj;\n",
       "  }, {});\n",
       "}\n",
       "\n",
       "mpl.figure.prototype.mouse_event = function(event, name) {\n",
       "    var canvas_pos = mpl.findpos(event)\n",
       "\n",
       "    if (name === 'button_press')\n",
       "    {\n",
       "        this.canvas.focus();\n",
       "        this.canvas_div.focus();\n",
       "    }\n",
       "\n",
       "    var x = canvas_pos.x * mpl.ratio;\n",
       "    var y = canvas_pos.y * mpl.ratio;\n",
       "\n",
       "    this.send_message(name, {x: x, y: y, button: event.button,\n",
       "                             step: event.step,\n",
       "                             guiEvent: simpleKeys(event)});\n",
       "\n",
       "    /* This prevents the web browser from automatically changing to\n",
       "     * the text insertion cursor when the button is pressed.  We want\n",
       "     * to control all of the cursor setting manually through the\n",
       "     * 'cursor' event from matplotlib */\n",
       "    event.preventDefault();\n",
       "    return false;\n",
       "}\n",
       "\n",
       "mpl.figure.prototype._key_event_extra = function(event, name) {\n",
       "    // Handle any extra behaviour associated with a key event\n",
       "}\n",
       "\n",
       "mpl.figure.prototype.key_event = function(event, name) {\n",
       "\n",
       "    // Prevent repeat events\n",
       "    if (name == 'key_press')\n",
       "    {\n",
       "        if (event.which === this._key)\n",
       "            return;\n",
       "        else\n",
       "            this._key = event.which;\n",
       "    }\n",
       "    if (name == 'key_release')\n",
       "        this._key = null;\n",
       "\n",
       "    var value = '';\n",
       "    if (event.ctrlKey && event.which != 17)\n",
       "        value += \"ctrl+\";\n",
       "    if (event.altKey && event.which != 18)\n",
       "        value += \"alt+\";\n",
       "    if (event.shiftKey && event.which != 16)\n",
       "        value += \"shift+\";\n",
       "\n",
       "    value += 'k';\n",
       "    value += event.which.toString();\n",
       "\n",
       "    this._key_event_extra(event, name);\n",
       "\n",
       "    this.send_message(name, {key: value,\n",
       "                             guiEvent: simpleKeys(event)});\n",
       "    return false;\n",
       "}\n",
       "\n",
       "mpl.figure.prototype.toolbar_button_onclick = function(name) {\n",
       "    if (name == 'download') {\n",
       "        this.handle_save(this, null);\n",
       "    } else {\n",
       "        this.send_message(\"toolbar_button\", {name: name});\n",
       "    }\n",
       "};\n",
       "\n",
       "mpl.figure.prototype.toolbar_button_onmouseover = function(tooltip) {\n",
       "    this.message.textContent = tooltip;\n",
       "};\n",
       "mpl.toolbar_items = [[\"Home\", \"Reset original view\", \"fa fa-home icon-home\", \"home\"], [\"Back\", \"Back to  previous view\", \"fa fa-arrow-left icon-arrow-left\", \"back\"], [\"Forward\", \"Forward to next view\", \"fa fa-arrow-right icon-arrow-right\", \"forward\"], [\"\", \"\", \"\", \"\"], [\"Pan\", \"Pan axes with left mouse, zoom with right\", \"fa fa-arrows icon-move\", \"pan\"], [\"Zoom\", \"Zoom to rectangle\", \"fa fa-square-o icon-check-empty\", \"zoom\"], [\"\", \"\", \"\", \"\"], [\"Download\", \"Download plot\", \"fa fa-floppy-o icon-save\", \"download\"]];\n",
       "\n",
       "mpl.extensions = [\"eps\", \"pdf\", \"png\", \"ps\", \"raw\", \"svg\"];\n",
       "\n",
       "mpl.default_extension = \"png\";var comm_websocket_adapter = function(comm) {\n",
       "    // Create a \"websocket\"-like object which calls the given IPython comm\n",
       "    // object with the appropriate methods. Currently this is a non binary\n",
       "    // socket, so there is still some room for performance tuning.\n",
       "    var ws = {};\n",
       "\n",
       "    ws.close = function() {\n",
       "        comm.close()\n",
       "    };\n",
       "    ws.send = function(m) {\n",
       "        //console.log('sending', m);\n",
       "        comm.send(m);\n",
       "    };\n",
       "    // Register the callback with on_msg.\n",
       "    comm.on_msg(function(msg) {\n",
       "        //console.log('receiving', msg['content']['data'], msg);\n",
       "        // Pass the mpl event to the overridden (by mpl) onmessage function.\n",
       "        ws.onmessage(msg['content']['data'])\n",
       "    });\n",
       "    return ws;\n",
       "}\n",
       "\n",
       "mpl.mpl_figure_comm = function(comm, msg) {\n",
       "    // This is the function which gets called when the mpl process\n",
       "    // starts-up an IPython Comm through the \"matplotlib\" channel.\n",
       "\n",
       "    var id = msg.content.data.id;\n",
       "    // Get hold of the div created by the display call when the Comm\n",
       "    // socket was opened in Python.\n",
       "    var element = $(\"#\" + id);\n",
       "    var ws_proxy = comm_websocket_adapter(comm)\n",
       "\n",
       "    function ondownload(figure, format) {\n",
       "        window.open(figure.imageObj.src);\n",
       "    }\n",
       "\n",
       "    var fig = new mpl.figure(id, ws_proxy,\n",
       "                           ondownload,\n",
       "                           element.get(0));\n",
       "\n",
       "    // Call onopen now - mpl needs it, as it is assuming we've passed it a real\n",
       "    // web socket which is closed, not our websocket->open comm proxy.\n",
       "    ws_proxy.onopen();\n",
       "\n",
       "    fig.parent_element = element.get(0);\n",
       "    fig.cell_info = mpl.find_output_cell(\"<div id='\" + id + \"'></div>\");\n",
       "    if (!fig.cell_info) {\n",
       "        console.error(\"Failed to find cell for figure\", id, fig);\n",
       "        return;\n",
       "    }\n",
       "\n",
       "    var output_index = fig.cell_info[2]\n",
       "    var cell = fig.cell_info[0];\n",
       "\n",
       "};\n",
       "\n",
       "mpl.figure.prototype.handle_close = function(fig, msg) {\n",
       "    var width = fig.canvas.width/mpl.ratio\n",
       "    fig.root.unbind('remove')\n",
       "\n",
       "    // Update the output cell to use the data from the current canvas.\n",
       "    fig.push_to_output();\n",
       "    var dataURL = fig.canvas.toDataURL();\n",
       "    // Re-enable the keyboard manager in IPython - without this line, in FF,\n",
       "    // the notebook keyboard shortcuts fail.\n",
       "    IPython.keyboard_manager.enable()\n",
       "    $(fig.parent_element).html('<img src=\"' + dataURL + '\" width=\"' + width + '\">');\n",
       "    fig.close_ws(fig, msg);\n",
       "}\n",
       "\n",
       "mpl.figure.prototype.close_ws = function(fig, msg){\n",
       "    fig.send_message('closing', msg);\n",
       "    // fig.ws.close()\n",
       "}\n",
       "\n",
       "mpl.figure.prototype.push_to_output = function(remove_interactive) {\n",
       "    // Turn the data on the canvas into data in the output cell.\n",
       "    var width = this.canvas.width/mpl.ratio\n",
       "    var dataURL = this.canvas.toDataURL();\n",
       "    this.cell_info[1]['text/html'] = '<img src=\"' + dataURL + '\" width=\"' + width + '\">';\n",
       "}\n",
       "\n",
       "mpl.figure.prototype.updated_canvas_event = function() {\n",
       "    // Tell IPython that the notebook contents must change.\n",
       "    IPython.notebook.set_dirty(true);\n",
       "    this.send_message(\"ack\", {});\n",
       "    var fig = this;\n",
       "    // Wait a second, then push the new image to the DOM so\n",
       "    // that it is saved nicely (might be nice to debounce this).\n",
       "    setTimeout(function () { fig.push_to_output() }, 1000);\n",
       "}\n",
       "\n",
       "mpl.figure.prototype._init_toolbar = function() {\n",
       "    var fig = this;\n",
       "\n",
       "    var nav_element = $('<div/>')\n",
       "    nav_element.attr('style', 'width: 100%');\n",
       "    this.root.append(nav_element);\n",
       "\n",
       "    // Define a callback function for later on.\n",
       "    function toolbar_event(event) {\n",
       "        return fig.toolbar_button_onclick(event['data']);\n",
       "    }\n",
       "    function toolbar_mouse_event(event) {\n",
       "        return fig.toolbar_button_onmouseover(event['data']);\n",
       "    }\n",
       "\n",
       "    for(var toolbar_ind in mpl.toolbar_items){\n",
       "        var name = mpl.toolbar_items[toolbar_ind][0];\n",
       "        var tooltip = mpl.toolbar_items[toolbar_ind][1];\n",
       "        var image = mpl.toolbar_items[toolbar_ind][2];\n",
       "        var method_name = mpl.toolbar_items[toolbar_ind][3];\n",
       "\n",
       "        if (!name) { continue; };\n",
       "\n",
       "        var button = $('<button class=\"btn btn-default\" href=\"#\" title=\"' + name + '\"><i class=\"fa ' + image + ' fa-lg\"></i></button>');\n",
       "        button.click(method_name, toolbar_event);\n",
       "        button.mouseover(tooltip, toolbar_mouse_event);\n",
       "        nav_element.append(button);\n",
       "    }\n",
       "\n",
       "    // Add the status bar.\n",
       "    var status_bar = $('<span class=\"mpl-message\" style=\"text-align:right; float: right;\"/>');\n",
       "    nav_element.append(status_bar);\n",
       "    this.message = status_bar[0];\n",
       "\n",
       "    // Add the close button to the window.\n",
       "    var buttongrp = $('<div class=\"btn-group inline pull-right\"></div>');\n",
       "    var button = $('<button class=\"btn btn-mini btn-primary\" href=\"#\" title=\"Stop Interaction\"><i class=\"fa fa-power-off icon-remove icon-large\"></i></button>');\n",
       "    button.click(function (evt) { fig.handle_close(fig, {}); } );\n",
       "    button.mouseover('Stop Interaction', toolbar_mouse_event);\n",
       "    buttongrp.append(button);\n",
       "    var titlebar = this.root.find($('.ui-dialog-titlebar'));\n",
       "    titlebar.prepend(buttongrp);\n",
       "}\n",
       "\n",
       "mpl.figure.prototype._root_extra_style = function(el){\n",
       "    var fig = this\n",
       "    el.on(\"remove\", function(){\n",
       "\tfig.close_ws(fig, {});\n",
       "    });\n",
       "}\n",
       "\n",
       "mpl.figure.prototype._canvas_extra_style = function(el){\n",
       "    // this is important to make the div 'focusable\n",
       "    el.attr('tabindex', 0)\n",
       "    // reach out to IPython and tell the keyboard manager to turn it's self\n",
       "    // off when our div gets focus\n",
       "\n",
       "    // location in version 3\n",
       "    if (IPython.notebook.keyboard_manager) {\n",
       "        IPython.notebook.keyboard_manager.register_events(el);\n",
       "    }\n",
       "    else {\n",
       "        // location in version 2\n",
       "        IPython.keyboard_manager.register_events(el);\n",
       "    }\n",
       "\n",
       "}\n",
       "\n",
       "mpl.figure.prototype._key_event_extra = function(event, name) {\n",
       "    var manager = IPython.notebook.keyboard_manager;\n",
       "    if (!manager)\n",
       "        manager = IPython.keyboard_manager;\n",
       "\n",
       "    // Check for shift+enter\n",
       "    if (event.shiftKey && event.which == 13) {\n",
       "        this.canvas_div.blur();\n",
       "        event.shiftKey = false;\n",
       "        // Send a \"J\" for go to next cell\n",
       "        event.which = 74;\n",
       "        event.keyCode = 74;\n",
       "        manager.command_mode();\n",
       "        manager.handle_keydown(event);\n",
       "    }\n",
       "}\n",
       "\n",
       "mpl.figure.prototype.handle_save = function(fig, msg) {\n",
       "    fig.ondownload(fig, null);\n",
       "}\n",
       "\n",
       "\n",
       "mpl.find_output_cell = function(html_output) {\n",
       "    // Return the cell and output element which can be found *uniquely* in the notebook.\n",
       "    // Note - this is a bit hacky, but it is done because the \"notebook_saving.Notebook\"\n",
       "    // IPython event is triggered only after the cells have been serialised, which for\n",
       "    // our purposes (turning an active figure into a static one), is too late.\n",
       "    var cells = IPython.notebook.get_cells();\n",
       "    var ncells = cells.length;\n",
       "    for (var i=0; i<ncells; i++) {\n",
       "        var cell = cells[i];\n",
       "        if (cell.cell_type === 'code'){\n",
       "            for (var j=0; j<cell.output_area.outputs.length; j++) {\n",
       "                var data = cell.output_area.outputs[j];\n",
       "                if (data.data) {\n",
       "                    // IPython >= 3 moved mimebundle to data attribute of output\n",
       "                    data = data.data;\n",
       "                }\n",
       "                if (data['text/html'] == html_output) {\n",
       "                    return [cell, data, j];\n",
       "                }\n",
       "            }\n",
       "        }\n",
       "    }\n",
       "}\n",
       "\n",
       "// Register the function which deals with the matplotlib target/channel.\n",
       "// The kernel may be null if the page has been refreshed.\n",
       "if (IPython.notebook.kernel != null) {\n",
       "    IPython.notebook.kernel.comm_manager.register_target('matplotlib', mpl.mpl_figure_comm);\n",
       "}\n"
      ],
      "text/plain": [
       "<IPython.core.display.Javascript object>"
      ]
     },
     "metadata": {},
     "output_type": "display_data"
    },
    {
     "data": {
      "text/html": [
       "<img src=\"data:image/png;base64,iVBORw0KGgoAAAANSUhEUgAAA+gAAAEsCAYAAABQRZlvAAAgAElEQVR4XuydB3RURRfH/5ue0Htv0ptIkd4+BcQKiCK9qZRQQk3oSegJHaSjUgXFAgqoiCgoVar0KtJ7Jz3Z7/xneZtN37ckmw3eOYdj3J36e2/uzp17547BaDQaIUkICAEhIASEgBAQAkJACAgBISAEhIAQSFcCBlHQ05W/NC4EhIAQEAJCQAgIASEgBISAEBACQkAREAVdXgQhIASEgBAQAkJACAgBISAEhIAQEAIOQEAUdAd4CNIFISAEhIAQEAJCQAgIASEgBISAEBACoqDLOyAEhIAQEAJCQAgIASEgBISAEBACQsABCIiC7gAPQbogBISAEBACQkAICAEhIASEgBAQAkJAFHR5B4SAEBACQkAICAEhIASEgBAQAkJACDgAAVHQHeAhSBeEgBAQAkJACAgBISAEhIAQEAJCQAiIgi7vgBAQAkJACAgBISAEhIAQEAJCQAgIAQcgIAq6AzwE6YIQEAJCQAgIASEgBISAEBACQkAICAFR0OUdEAJCQAgIASEgBISAEBACQkAICAEh4AAEREF3gIcgXRACQkAICAEhIASEgBAQAkJACAgBISAKurwDQkAICAEhIASEgBAQAkJACAgBISAEHICAKOgO8BCkC0JACAgBISAEhIAQEAJCQAgIASEgBERBl3dACAgBISAEhIAQEAJCQAgIASEgBISAAxAQBd0BHkJadMFgMFhV7W+//YbGjRtblTe5TGFhYfD09MSkSZMwbNgw3fXVrl0b2bNnx08//aS77LMWiIiIwOLFi/H555/j3Llz4P/nyZMHL730Ej766CO89dZbupsYO3YsqlWrZlVZjV1SjfTs2RMLFizQ3QcpIASeRwIi26x/qukt2yx7eu3aNRQpUgTR0dE4cuQIKlWqZP1AJKcQEAJ2J7B06VJ069bN3K67u7tap5UvXx7NmjXDhx9+iLx589q9X2zw0qVLar25ZcsW9TfXn4UKFQLXkmPGjFGyRk86fvw4vvrqK3Tt2hXFixfXUxSzZ8+Gj48PKlasiKNHj+oqK5mFQFIEREF/Tt+N3bt3xxnZuHHjQGV869atcT6vUKECsmbN+swUjEYj9uzZg6JFi6JgwYK66zt27BicnZ1Rrlw53WWftUDLli3VxsCgQYNQv359uLm5KUX9xx9/RLFixTBr1izdTbi4uCjl3hrFWlPQ27dvj379+iVoK1++fChRooTuPkgBIfA8EhDZZv1TTW/ZZtlTLqZHjBihPhowYABmzJhh/UAkpxAQAnYnoCnoNF5wbRYZGYmbN2/izz//VAYNrtm+/PJLNGnSxK59u3z5MqpWrao2CwYPHoyyZcviwYMH0JRsrtkaNWqkq09ff/013n//fbVO1mu0ojHn8OHDqj3+PtWqVUtX25JZCCRGQBT0/8h7wV1BCqDHjx9bNWJaXih8+e95TidOnAA3KSZOnIjhw4cnGGpMTAycnJx0I7BFQecPzdSpU3W3FRISAi8vr0TLJfedtQ2lRh3WtiX5hIBeAiLbEifmCLLNsmdlypRBaGgocuXKhStXrqh/3Ax1tMTN5vDwcHh4eDha16Q/QsCuBDQF/a+//kKNGjXitH3x4kVl0Lh//z7OnDkDGhLslfz9/UEvxfPnzydqvLBl3Wargr5v3z68/PLLePPNN7Fx40Z8/PHHWLRokb1Q6GqH8pdyzVovNF2VS+ZUJyAKeqojdcwKk1vE0nr8+uuvY82aNdixYwfWrl2LGzduKOFHl6bAwEBs27YNFMiZM2dG5cqVQYt8nTp1zINNzMWd1uPevXur3VYK+m+//VYJhv/973/45JNP4gj0+C7uJ0+eVG5UdB2igjhv3jzcuXMHVapUUZ9Vr149Dmh+P336dOXqxIUgXZy++eYbHDp0CKwrqcS+NWjQQO0Gk1FKiT9G5PHdd9/h6tWragwffPCB4kEXq6Tc1V977bUk3fe1MtYo6G3btlUuXb/88guGDBmivBb4w/n7778r166oqCgEBQVh5MiRakeXfSN7upXyc/7977//qp3nN954Q7mI5c+f3zzs5OpIiY18LwTSg4DItsSpO4Js03rG3w9apSiXKDP79++vfmfee++9BJ3fsGGD2qg8cOCAklt0N+3evbuylGmJv1PcVN21a5dS+gsXLoxWrVohODhYZaGcTEz28/jVzJkzlZxmspS99Jbi7xJ/93jkie/VqFGj8PPPPyuPKvaldOnSqu+dO3dO0O9ly5ap3ym6uHJTl3kHDhyITp06qXFzTPwNja/I0HOKnm387XJ1dU2PKSRtCoFECSSnoLMA53CbNm3UmohrLi1RaaUCTRnE9RvXcjSAMC8T1ya0Oi9ZskS5yVsmei5ybbJ+/Xq88847ifarb9++mD9/Ph4+fIhMmTKl+PRS6k98V36tQmvWhVzjcq3LYzs8jsj/Xr9+PYHRhJt+XIOtXr0a//zzj+r3iy++iAkTJqBu3bqqSW4szJ07F59++ilOnTql1t/0XKDnkcaCa2huUAQEBMQZN+UkZSzHwqSNifKLa/sffvgBt2/fVvKSHghsl8+HG6U5cuRQRzIpU7m+t0xc83J9yzUv82bLlk2tObnepucC19svvPCCkpOWicZAHjno2LGjGpMk/QREQdfPLEOWsGYRy8nUsGFDdOjQQQkK/s0FBXcDqcRyYfHo0SMllFetWoU//vjDrKQnp6CXLFlSCZfmzZsrweTr64t69eph06ZNZpZJKegUOhQYdBfnAokLHQoZTcCxAu38DxdlXAzdvXtXCS+6Y1FpTk5Bp/ChWz6FDsvQVYsLtcQSx85NCbZPgcnzRvyhYTmOhz8smqs/d5Y5Zo6ViQpxUu77Gju62FOAx0/0YtB2PDnG77//Xp2R548UBSW5sN9kyIUkx8wfQ/4o0pLPvnTp0gUrVqxQ56S4GXP27FmMHj1a9Wv//v3qv0zJ1ZEhX3zp9HNPQGRb4o/YEWSb1jMqtCtXrlSWNi4GeQyKG7WUmZaJCm6fPn2UPOPCnXKO8vv06dPmo0aUf++++67arKWrPH+3+HvATUrKOCa9Cjrr4Ebl0KFDVZvsH+U1f09effVVdZ6Vv4k7d+5Um5pUPjTZzvb495QpU5QCwn9ZsmRRC/UnT54oxYULW/6WcWFNpV9L3Ajn74+fn5+qU5IQcCQCKSnofL+5dqJiSMMBE13EudajmzfXKPyeCiLrslR4qRDS849KomWiUYFzmXOG65fEEtefVPx4Dp7rJq7LkjqqaU1/bt26pTYLuK6jMsm+MXHtSnmQVKKyW6BAAaWk7t27VynWXKtyrFxzaYmGE/aVa2bKrFdeeUUZU+gOz/Ut5RWTJicp+95++23lYcSNShrGuDHIpFdBp2yjdZ8bmHxePPbEDU7KUXLj+Lhm5gYjleyDBw8qxZtJW/NeuHBBySg+Uyre27dvR4sWLZQM5/qbY+KGAjcltaTJch5fpZeqJP0EREHXzyxDlrBmEUsBEn8XLP5gqQxSCaVA5sLiiy++UFmSU9ApQKdNm2auirtxXLRQKHCxxpSUgk4FlIJPU1Ap4LhxwN08Choq4RSQDDhEoa4lKqoUMqVKlUpWQWf+devWKQvNvXv3VPHcuXOrBSKFJZVZLVER564jFVrufGpJ+7GgFYQCi8kWF/ekXixLSxMFOc98kXu7du3iFCFDWtQpfLUdWWbQdqvjPwcKWZ7T4sKQyrr2HBKrI0O+9NLp/wQBkW1JP+b0lm3sGa1clNE1a9ZUi3cmyjHKNXrz0PrNxA0F/s1F4+bNmxN1w6SSzA1UKsCUa0lZnPUq6HS7p5LPepNKbJv/qGRT0aAHFRMXptwM5W8IF/lJJfaJspntaIoHZS9/D7kA5kJakhBwJAIpKejsKze2cubMqc5/M3Eu0EjAdZulgk2Fk2snWm/pYTJnzhyldHL+UMFl4hqMsoKKfXLH/bgGpeWani6ck1wfckONGwOs0zLIm7X9scXFnRuCXCfSgk7rOZVX9p/n47m+0pKWj/2lAp9Y0ta2NEKNHz8+yddAr4LO/lH5Ti5xXU+ONDoxKDKt40zaWp0em0nFGaAST9lF+UfvJC2xLhr14se9cqT329H7Igq6oz+hVOqfNYvYhQsXokePHnFapCCk299nn30Gnmmkm46W6KLE3Tam5BR0Ks6WATvoukTlmi6ItIIwJaWgUynmgkhLDARCay8FAa3BbJ+7ndz19Pb2jtN3LvQo8JOzoGsFuLPIzQkuoPjDwp1N7nBaup1zs4DWbOaxTFyAcoHHTQe6ejHZoqBzR5hjip+4i6ttZHCRx0ijdBuLf0aSDOnxoC0ctXoYjInK+d9//53AfYmuSdxo0TY3kqojlV5DqUYIpDoBkW3JI01P2caeaUedli9frizSTFTAeeyHC0DNokyLDq0yPApFa09iiTKMvxlcQNJ9PKmkV0HnZqe22WxZJ38T6NVEF1kuRC0TNxRoHdQ8uGjp4sI8qUR3fG6cUhFo3bq1+n3hZgO9ryjTJQkBRyNgjYJOJYzrHyro9MyjFZXKdfy1DJVTrtGYj0ozDTT0VOHahK7VTJrVlcdEqOCllLjBR09Mzk8qxGyfVnl+xjWnnv7YoqDTUMX1Im+ooCxgoqLKDTx6/WgWZR5joVGJsjipmEa03tM7h+s3KvlJJb0KemJHBSh7eByIXk1kREOXlrjJoXk2UV7xaCk3UZJLfNbcBKDXA133qZTT84jHTOntJMk2AqKg28Ytw5WyZhHLBRJ3OS0TBSd39BhdnBOX1mUKGLq7cDJqym9yCnr8K3W0M+9csFAhZEpKQecuK3dTtRS/HbpVNW3a1Lzosew7NwHYP2sU9PgPlFYOLiApvOiWSSWZbo7c/U0q8cdHO2tji4Ju7Rl07mZSaMZPZEhBy11qy8QFMC3/dOPi87NMdH/npgefkfYcEqsjw73w0uH/DAGRbfoetT1lG3vGAErc3KUcpWWNidYaunbyjCW9nbjo1NxDueBlmcTSr7/+qiw5VGgZcTmppFdBj+9dxHpp0eICnL8vdDmldZ8We7ZNd3Yuymk9pPcRLV6Mbp2cOyzrpBcB3VW5gGU9dOfl+Xx6hUkSAo5GICUFPb6LO40XXFMkl6hI88gkE4+D8NgIFW0aPzg/KAvoxWdL4pziZhtjFFGO6OmPXgWda0Na/rnZxs0HLXE8dClnvAsq3EyUIYxtQVmXVGJwOSr2XH8lF8RNr4KemDyllwHXqlzHcyODBiCu62ndpwFMM9hwg4EGHMrd5BJZ0GOVcQFo5KNSzsCC9Ax63gNN2/KeWltGFHRrSWXwfNYsYhlEIv6d3zw7wl3++GcFaU2mO096K+jJWdCpsNLKYYuCzsdNywmFrLYDSesIhU1SV6fxPlAKM6a0VNC5KcFz8PGTFuCNu8mWKSULOp+v5nqaVB0Z/PWX7j/HBES26X+49pJt3PizPA6UWE+5+OOZzNS0oPOdoOLLzQjLxAUorUaJBYmL71LLDVfm5WaopSs9g3PyyJamoFtrQWc/WB+9CHgus1evXur3iV4BkoSAIxJISUHXNpk0TxhaWulqzhg4SVlOqchpR0m0gHD8L9dOtJpTyePcsDVxncZ+0MtQT3/0KuiaxTupftIKzsCPXDOmpgWdnpP0HtKUf619MuVmQfwgcYlF4OeRBHorcUPAMnETksdCNQXdWgs666DuwPEyyCevBaY3KY17kmwnIAq67ewyVElbF7EUmNxF41lGLVEB5E4ndw/TW0HnbiOtGDyDzgWZlqw9g07rMRdfiV1TRmZ029EEHC0lXIxxcaWdm0zqJaCbDyMUp3T2h+VtieKuR0HX3EIZyMgyCJ0W5dnSzVQU9Aw1raWzgIq2ndQVkpq3TmKbjyLb0l620fWRMpNyUNu81F5auozTy4kWLyqu2hl0unwnFQuFlneeL9XOoCcVRIpHo+j9xWjKXIwyMaATXWv5mTUKOoPVMbgVLeOaFYib0vzdo3KuKejaGXQq/yldr8TrS7khyn5wU1Q7uyoTWQg4IgFrrlnjET96x2jeI5wfXDPyyrGUEs8+a8c8KB94nJLzU3MXT6o8515ibuCcn5QPtALTqstkbX/4G8HAvnSPt4w9lFgf2G/2lx5BicWdoJLKTTztd0c7g04vIbrAJ5a0M+hcZyYXMJIbIPTotOSruZQzMJ01CjqPJNADydLYxPqoZNOirino2hl0bRM1uedJz07GsWIcJnouUFmn0UqS7QREQbedXYYqaesili4wtCxwN4y7aTw/xElLBZQRJtNbQedDsIzizoAYtHhwgcbFEN0JteAliT0wKqk878hFIt0MeZ6KZ6NoNefuouX1aPwh4uKRC0tGreSmAAU1z31TEaBg5bl8Jiq6FFBcsLFO/uBYRri07IumoHOXlUcJ4ieW5YKOSbtmTY+CznIU3FwE05WTQpQbGOwvI5/Gj+LO80nxrfAZ6mWXzv6nCIhsS/xxp7dsY7wSBg/iQpbnsxNLdAXl4pILbi6qtTOolFFaFHee5eTvDD2BmLQo7rSUcQOAm6V0kWU92oYolWZuwHCxyKNDXLgzbgmPZbEtaxR0zbpHudytWzd1RIgbnLTMUSHRFHT2SYvizt8RLny5gcBztPyt0AJwauPn4ptxVSjXtTOb/6kJK4PNMAQ0BZ1rISqGXBtww4rKJD/jxhU3R7XguBwYN56o4FLRo2ymDOCaisdcKAcYHNIy0RLNmBJci9AVnEF3U0o89kglkEdEuOaiokxvGSr4XM8wZhLnrJ7+sDxj8nDTkDKDlmpagqnMxk9UwHkclPLA8jYHLR/XZ5RL5MCz51oUd8pkWr/Ji5uNdOXn2i5+FHe6u1NZ5hEgeonSgKStDXlckTKFRxfJmOtbjps3QrDv1ijoXA8y2PDkyZOVhxOZ8dgO26PyrynoWhR3yld6k9Iwx41OGsPYP8vnzrFT5rI/jKek3aiR0rOU75MmIAr6f+TtsHURy8lIAcrJzIBrVEqprDPgj+U9s+l1Bl17fDxPQyHPM+IUshReFBBUqnkmKKlEZZ6LQi7uuBDkIowbD3TD4vkoLgAtg7FRYNG1iMEveL6GPwzcAeYPCwWYdsabCi4FKiMNk6E196An1UcG29CuMLFVQdfuR0/sHnTLnWixoP9HBMJzNEyRbYk/zPSWbfzNoLxKzkqsBQy1DPJJBZyLRS5MGaSUi2Qq65ZB4bjQ5UYxg3lyI5bxQejeaen2SesVfwco17lY5hVqPAea1D3oiUWNZuBUWsK4Ccs66HrLzWm6v1sq6HwCVAo4Di5Q6ZVFyx37zGtLLZPmdstNXm3T4TmajjKU54hA/PvBuTbiRhqVSq5p6DWSWNwFeu1RkaSix3UjlVwel+SaitHOLRM3u7Qo7slFC7csQ8WW6zvKARpC6AlJTxmePef56vgWcGv7M2vWLHWdI+c7jS9J3YNOow4t7VxvJhV3gpt13LxgHhppuEamfOI96FR4uYnHgJeMX8GAxkxU2mlwoqWdcovrS3LjGlw7fkp5RwWd9XAjgEoz+0yX9cTuQU/MxZ3eSjyqQxnJzUsGWmbftICdljciMS8NXtxooMzjeXXGCKFc1K5j054NdQPmpVzmlWySno2AKOjPxk9KOygBLk5pseZOHgWeJCEgBITA80BAZFvGforcfOBmLhV1nveUJASEgBB4HggwNhWD2HFTQNKzExAF/dkZSg3pTIC7nbSe092Hu6h0VeLuHq0ltPIn5Vqezt2W5oWAEBACyRIQ2fb8vCB07+VvEqMc04Wf59slCQEhIAQyMgF6qfI4D93+aYWnpZ2u9pKenYAo6M/OUGpIZwI8E8XzRnQr51knnjvneXme9aPLkyQhIASEQEYkILItIz61xPvMYKZ0xeVGMt1zU7qS7fkZuYxECAiB55UA3eF5Fp3HGBgbgC7uklKHgCjoqcNRahECQkAICAEhIASEgBAQAkJACAgBIfBMBERBfyZ8UlgICAEhIASEgBAQAkJACAgBISAEhEDqEBAFPXU4Si1CQAgIgVQhwFsFGEiKEVN5bQmjTjdo0CDRuhm1lVeexE9vvPGG+Z5URsJmdFVe+ceIuoyuymjTrFuSEBACQkAICAEhIASEgGMREAXdsZ6H9EYICIH/MAFeTdWpUyd19V+9evXAa56WLFmirm7ifdLxE2Mu8NoVLTHCN69uYRleP8bEu1p55Q2vzOF1NrzWZfv27SqKNK96kSQEhIAQEAJCQAgIASHgOAREQX969+DVq1fVYpVXBEgSAkLg+SRAazLvsi9YsCCcnJwcbpC0bvNO0vnz55v7xjtnGRXV8o7npDpOa/uYMWOU9Z33NXO8HCvvXPbz81PFwsPD1b2sVNzj30mbVL28n1VkpMO9LtIhIZDqBBxdRqb6gFOhQpGPqQBRqhACGYCAPeWjKOgALl++jCJFimSAV0O6KASEQGoQuHTpEgoXLpwaVaVaHbSEe3l5Ye3atWjVqpW5Xh8fH3VdYGKu7PEbr1y5MurUqaPc2Zl4rVPJkiXBK56qVq1qzt6iRQtkz54dy5Yts6r/IiOtwiSZhMBzQ8ARZaSjwhX56KhPRvolBNKGgD3koyjogLr6hItVAs+aNWvaPE2pVQgIgXQnwDs7uRl3//59ZMuWLd37Y9kBWqgLFSqEHTt2qGsCtTRx4kSlSNMlPbm0d+9edb58z549qFmzpsq6c+dO5Sp/5coVZUnXEu9i/vfff/Hzzz8nWiWt7PynJcpIutiLjHSoV0Y6IwRSnYAjy8hUH2wqVShryFQCKdUIAQcnYE/5KAo6AALnYp1CVhR0B58d0j0h8AwEHHmuawo6lWpawbXE8+O8N/nkyZPJjpzu6ix75MgRcz5NQWfdBQoUMH/+8ccfK2X7p59+SrRO3mXKwHLxk8jIZ3j5pKgQyAAEHFlGOio+YeaoT0b6JQRSl4A957oo6KKgp+7bK7UJAQcmYE/hqhfDs7i4h4SEKAV87NixoEu8lmx1cY9vQdd2jUVB1/tUJb8QyFgEHFlGOipJYeaoT0b6JQRSl4A957oo6KKgp+7bK7UJAQcmYE/hagsGuqhXr15dRXHXUoUKFcAz48kFiWOE9l69eilX9ly5cpnLakHiBg4cCF9fX/U5NwLy5s2rK0ico3OzhbWUEQJCICEBmev63wphpp+ZlBACGZGAPee6KOiioGfEOSJ9FgI2EbCncLWlg9o1awsWLDAHe1u8eDGOHTuGYsWKoXPnzuqcenxlnfek8/M1a9YkaJbR2pn/888/R+nSpcEz7b///ruua9YcnZstrKWMEBACoqCnxjsg8jE1KEodQsDxCdhzrouCLgq6488I6aEQSCUC9hSutnaZ1vPg4GB1VVqlSpUwY8YMNGzYUFXXuHFjFC9eXN1prqXTp0+jbNmy2Lx5M5o2bZqgWVrReZ6cd6rfu3dPBZKbO3euqtvalBG4WTsWyScEhEDSBGSu6387hJl+ZlJCCGREAvac66Kgi4KeEeeI9FkI2ETAnsLVpg46aCHh5qAPRrolBFKZgMx1/UCFmX5mUkIIZEQC9pzroqDrVNCDAvrCzSsK0TGuGDJsTkZ8v6TPQuA/S8CewvV5gizcnqenKWNJbQJTxg4GnCLx8aCpyO7lltrVx6kvLCoMny6ciExZs6NLx4EwGAyp2p7Mdf04hZl+ZlJCCDgCgcjboYi4+BBuhbPANa9Xil2y51wXBV2ngj47uAf6h3yJHU6VUG/MjhQfpmQQAkLAcQjYU7g6zqifvSfC7dkZSg3PL4GDgdVRJeYcprp0he/omWk60M0/rkWj3b1w1ZAbJQJOpXpbMtf1IxVm+plJCSHgCAQe/XkFDzach0eFXMjduUKKXbLnXBcFXaeCPiuoJ3xC12CvoSxq+u9N8WFKBiEgBByHgD2Fq+OM+tl7ItyenaHU8PwSuOVfFHkMDzDVvROGDP8kTQe6aN5Y9Lg5TbVxr+9Z5MidJ1Xbk7muH6cw089MSggBRyBw9+vTCNl3A1leKYJszYqn2CV7znVR0HUq6DODvDEgdBUOGUriJf8DKT5MySAEhIDjELCncHWcUT97T4TbszOUGp5fAg/98yOrIRTTPTtgkF/sFYlpMeJPZvqh7/0FqurttVegYfN3km8mKgJwdgWsdIWXua7/qQkz/cykhBBwBAI3PjmIyMuPkbNDOXhVTnmz055zXRR0nQr69MneGBS2CsdRDBUC/naE90v6IASEgJUE7ClcrexShsgm3DLEY5JOphOBSP+ccDVEY5ZnW/j4LUzTXsyeNgD9H32u2viiSCDafzgg+fZ+GgFc2g00HQsUr59i32Sup4goQQZhpp+ZlBAC6U3AGGPEVf+dMEbGIN/g6nDNI2fQ0/uZPJNwnTa5LwaHrcBZFESpgBMONxbpkBAQAkkTkIWUbW+HcLONm5R6/gns/O1n1N3WRg30E8/30ddvSZoOes6U3uj35AvVxsKcfdGz/4Sk2wt7AEyvCEQ8Ajp8A5RukmLfZK6niOiZ1pD6a5cSQkAIpAUBBoi7MXUf4OKEQmPrwuCUcsBNe8pHsaDrtKBPndgXQyJW4CLyoGjA2bR4Z6ROISAE0oiAPYVrGg0hXaoVbumCXRrNAAQWzx6Lj++azoQv8GyFXn5L07TX84I/gnfIWtOGQJZu6Ds48aB0RqMR2PUJDJtHAXnKAd67rXJzl7mu//EJM/3MpIQQSG8CoUdv487KE3AtlBn5+lW1qjv2nOuioOtU0KdM7IehEctx3ZgD+QMvWPVAJZMQEAKOQcCewtUxRpw6vRBuqcNRann+CEybOBiDI0xW80893sKHw1al6SAXBXVGj9D1qo15mT6A99BFibYXHhmFW+PLorDhNkJfnwHPWt2t6pfMdaswxckkzPQzkxJCIL0JPPjlXzz69SK8qudDzvfLWNUde851UdB1KujB433gG7UUd42ZkTPwilUPVDIJASHgGATsKVwdY8Sp0wMGMRYAACAASURBVAvhljocpZbnj8CUcT4YGm2ymq/weA2dhn2VpoNcOrkduoZtUm0s9myBj/2WJ9regzs3kG2OadEZ6XcZrp5ZrOqXzHWrMImCrh+TlBACDkXgzorjCD12B9nefAFZGhSyqm/2lI+ioOtU0IPG9Ydf9DI8Nnogc+ANqx6oZBICQsAxCNhTuDrGiFOnF8ItdThKLc8fgSkTfDA00qSgf+X2P7QZsS5NB7l60rtoF/6ramOlezN0HG5yd4+fblw8g3yf1UCE0QVugXes7pPMdatRmTMKM/3MpIQQSG8C16f8hag7Ycj9USV4lMphVXfsOddTXUGfN28epkyZgmvXrqFixYqYOXMmGjRokOjAGzdujG3btiX47o033sDGjRvV5127dsWyZcvi5KlVqxZ2795t/iw8PBxDhgzB6tWrERoaildffRXsR+HChVMdeHBAX/hiBSKMznALvGtV/ZJJCAgBxyBgT+HqGCNOnV4It9ThKLU8fwSCJ/aHb4RpjbLOtT5ajjStXZJLa9asQvazS3HarQT6+ybuop5U+e8mvIVWkX+or79zbYBWIzckmvXfkwdQbM3/8ACZkC3gakpdMn8vc91qVMJMPyopIQQcgkBMRLSK4A4jUGBULThndrOqX/aUj6mqoH/55Zfo1KmTUo7r1auHhQsXYsmSJTh+/DiKFi2aYPB3795FRESE+fM7d+6gSpUqqgwVcyb+98aNG/j8c9O1Ikxubm7ImTOn+f979+6NH374AUuXLkWuXLkwePBgsO79+/fD2dk5Reh6gE8a0xvDnUwRVEfffx/jZqZtxNYUOy8ZhIAQsJqAnrludaX/gYzC7T/wkGWINhGYOrEfhkSY3Mx/cnkZzUdtSbGe+UFd0Tv0O1O+gAcp5rfM8NP4Jmge9Zf6aItzdTQZvTXR8mcObkfp9W/jOnIjf8A5q9uQuW41KnNGYaafmZQQArYSiHoSgoMTl6Fiv/fhlT+3TdVEXHqEm3MPwSmzKwqOqm11Hfac66mqoNOyXa1aNcyfP9882PLly6Nly5aYNGlSigBobR8zZoyyvmfKlEnlp4J+//59rFuXuNvYgwcPkCdPHqxYsQIffPCBKnP16lUUKVIEmzZtwmuvvZZiu3qAjxvpjdGupiAwY0NaY0zwZynWLxmEgBBwDAJ65rpj9NgxeiHcHOM5SC8cj8C0yX0wOGyl6tg2pypoNGZ7ip38bHJ7dA97amnXqaBvH9sADWP+Vm3sNZRFTf+9ibZ3bMdGVPylPf51KoxiY46l2Cctg8x1q1GZMwoz/cykhBCwhUBUVBT+GrQKRbxewOUn51BrdhcYDClfjxa/rSd/Xce9b87AvVR25PmostVdsedcTzUFnZZwLy8vrF27Fq1atTIP1sfHB4cOHUrUlT0+kcqVK6NOnTpYtCjW5YsKOpVzWs2zZ8+ORo0aYcKECcibN68qvnXrVuXSTot5jhyxZwhoiefGQGBgYALwdInnP8sfJCr0VPazZs2a7IMaPqwLJnmYNgsmRrbDiAkLrH6wklEICIH0JWBP4Zq+I03d1oVb6vKU2hyXwNRJ/fFe+E/41vNVDPKLNTYk1ePpQd4YFGratE9OYbYsvzC4C3qGmNYR59rtRMmyFa0Gsj/wZVQ3nlb5T6MwygQkrnwf3roGVbb3xBmXUig9ar/V9ctctxpVnDVktmzZrFpD6q9dSggBIaAR+HPwZyjuWtoMJKRhZpR5w7or0iwp3v/+HB7vvIrM9Qsh+1svWA3YnvIx1RR0Wq0LFSqEHTt2oG7duubBTpw4UZ0hP3XqVLIA9u7dC1rg9+zZg5o1a5rz0m0+c+bMKFasGP755x+MHj0a3EGh+7q7uzu++OILdOvWLY7CzcLNmjVDiRIllJt9/BQQEJCo4m6Ngj556EgMy/SJqnISumB4wGyrH6xkFAJCIH0J2FO4pu9IU7d14Za6PKU2xyWwdHJbdA370erz5DODe2JAyBo1oKMojkoBh1Mc3Nzg7ugT8o3KtzSvH7p6j4hd80xshbzRd5H7jcmoXL1OgrpOBlRCOVxSn980ZkfewH8TbW//xiWo/tdgHHOrjIoj/kyxT1oGmetWozJnFGb6mUkJIaCXwJ5xq1DwcRFlMX8c+QCZXbPhVuQNvBjcyqrjzJbt3Vr0N8LPP0CO98ogU418VnfFnnM91RX0nTt3Kiu4lmjtpvv5yZMnkwXQs2dPsOyRI0eSzUf3dyrra9aswbvvvpukgt60aVOULFkSCxYktHA/iwWdnQv3zwV3QxSC0Al+ASZlXZIQEAKOT8CewtXxaVjfQ+FmPSvJmbEJrJz0PjqGb8ZGl9p4c9TPKQ5mdvDH6B9iulrtPArghYDk1zrMNz+oG3qHfqvKTHfrjkEjZqi/H9y7h2yzips+9+qEQb4J1xeXA0qiMG6rPAxWGzPsCjw8PRP0869vZ+Hlv8fgsGdNVPH7JcVxaBlkrluNypxRmOlnJiWEgB4Cx5b+hEzH3eDi5IqLIedQtEtDRH/5L5ydXHCrTCSqdn/F6uqMRiOujduNmJAo5O1XFW6FMltd1p5zPdUU9GdxcQ8JCUGBAgUwduxY0CU+pVS6dGl89NFH8PPzs8nFPX79eoE/8s+PLIZQBDt3ge9osaCn9LzkeyHgKAT0znVH6Xd690O4pfcTkPbtRWDNxFZoG7E12QBsln2xtIZfN+ZA/sALKXZ1UVBn9Ahdr/JN8+iMwcPmqL93bvsZdX9ro/6e7/kuevvFBsfVKr3nXwg5DI/NbRx9czMqvVwrQZu7V09A7VPB2J+5MaoPMbVlTZK5bg2luHmEmX5mUkIIWEvg8p+HEbLuKrxcMuNm6BVUmtACbpk9sWvkVygSXQAPI++h9PjmcPW0LhJ79MMIXJu4BzAAhcbWhcE15WDiWl/tOddTTUFn5+miXr16dRXFXUsVKlRAixYtkg0Sx+jrvXr1wpUrV1QU9uQSI73TlZ7n1Dt37qzO/DBI3MqVK9GmjemHjVZ2XrGWFkHiWP9t/yLIbXiIYJcu8B0lCrq1k0zyCYH0JmBP4ZreY03N9oVbatKUuhyZwDcT30briO3Y7vQiGo4xXWeWXFoY1AU9Q2OD2PKqtXPOxTF42Nwki1kGiZvp2R4Dnp51X7ZkGrpcHqvKrXJvgg7DTW7wWgoNCYFLUGG4GqLNn31XZhpatf8oQVu7lo1AnX/mYm/2N1BzwOqUhmH+Xua61aiEmX5UUkII6CLw6NINXJi+Ezncc+NBxF0U6FUNOcsUUXU8uHoXt2fsg7uzJ67kuIdafu9YVXfY6Xu4/dlRuOTxRP7BNawqo2Wyp3xMVQVdu2aNbuVasLfFixfj2LFjyi2dCjWV6/gR3XlPOj+n27plevz4MXhevHXr1srCfuHCBYwYMQIXL17EiRMnkCVLFpWd16xt2LBBXbPG69d4JzoV+bS4Zo3tXfUvgYKGu5ji1hlDR5h2viUJASHg+ATsKVwdn4b1PRRu1rOSnBmbwA8TXsfbkTuxx6k8ao3ZneJgPp3cAR+Gxb2LfLdTedROpuzyyW3QOczkPr/IswUexeRAq859sWnNZ+j7yGTg+N2pChrHiwh/6tghlF3bSH3/yOipPPk+zTsEH3qPTtDPXYsHoM6Vz7Enz3uo1efTFMeRHgtQqzvl4BlFPjr4A5LuZUgCUWEROOi3FgU8iyIsOgTOr2RHidfjegvtnrgOhR/mUt/nG1wLWfJnT3Gsj7ZfxoNN/8Czcm7k6lA+xfyWGew511NVQecgaD0PDg5WVuxKlSphxowZaNiwoRpf48aNUbx4caVIa+n06dMoW7YsNm/eDJ4bt0yhoaEqEvvBgwfVVWtU0v/3v/9h3Lhx6ho1LYWFhWHo0KHqPDrLMKo7+2GZJ7knoBf4hYAyKI4bmOreCUOGyxl0XW+3ZBYC6UhA71xPx646VNPCzaEeh3QmDQlo94wfMpTES/4HUmxp2eS26BL2Y5x8Z1AIpQOOJ1l29aR30S781zjfT/PsBIPBDYNCTMr0ZeRG4Xj3l//8/Rq8dqCn+v4cCqAkrmFeDm94+yS8xnb3vI9R++ZX2FWwM+r0sN6QIHM9xUeeIIMw089MSmQMAgzKHR0drYJy2zP9Mf8LuJ2IRiGv4og2RuF+sYeo4t0iQRfCH4fivP+vyOKaDZdcr6POuPdT7ObdL08h5OBNZG1aDFlfLZpifssM9pzrqa6g6xqpg2TWC/x0QAWUwRVM8+iYrBubgwxPuiEEhMBTAnrnuoAzERBu8ib8VwhsHdcYr0QfxHEURYWA5IPWksmqSa3RIXxLHDx3jZmRM/BKksi+nvgO3ovYFud75RrvUhKDQ5eZP/+51qd47fX3zP+/8rNp6HhxLB4bPXDOqRCqGM9hbo6P0MdnWoK29s7qgJr3NmB3sV6o3S3I6scnc91qVOaMwkw/MynhmAR4jGbj/AXwPBeDvC4FkcU1Kw5F70PbmQFp3uG7169j3/RvkC8yH3K5x0ZWPxpzCM2D+yXZ/v4Fm5HvgieiYiLh0akU8ldOXum+MesAIq89Qa5OFeBZMflj1fEbtedcFwXdhsXnsYAqqIgLmObZEYP9kj5nluZvszQgBISALgL2FK66OubgmYWbgz8g6V6qEfhzbD3UjzlqdUT2tRNb4P2I3xMqyE2/R816Jnf0+On7Ca/jncidcT5e5vE67hhyYVDoSvPn0726Y5CvKcI704JPRqPX7dlgMLrzzgVQN+Y45mbtiD6DEq5D9k9rheqPtmJ3mSGo3T6hC3xSwGSu63+VhJl+ZlLCcQic+nMfjny5CfliCiCPR0Fkds0ap3OXn/yD2nM6p1mH//5iKe7sDEMRzxLwcPZS7UQbo3E15F9ElDagYT96FxmSbJ8W/qO+65HLNQ+uxFxFreAPksxrjI7BlTE72QDy+74Ml5weusZlz7kuCroNCvrBwOqoajwLy+Auup6wZBYCQiBdCNhTuKbLANOoUeGWRmClWocjsDewJmoaT+EKcqFQwPkU+7duwptoGZnwnvEZrh9j4MipWD53GvLe+wkn3UphgO98Vd9P45uiedTeOHUv92iOe4bs8AmNjcUzx6sN+vkuNuebM2Mo+j1YpNzbLzgXwKvRB7Agcxv0GhKbR8t8KLg5XgrZhb2V/FHzvUEpjkPLIHPdalTmjMJMPzMp4RgEbly9gmvBO5HbI7+5Q3QpvxN2AyHRT1A8cxk8iryH8tOsC8Cmd1Q/D5qCci411HVpTE+iHuFyxAUUaVMdZeonvJ0iqfpPrN+LLLvCwSvUwl7NhtLNqiSaNfLGE9yYcQAGN2cUDKgDg1PSin9iFdhzrouCboOCvmdsbdSKOYFZnu3g45fwnnW9L6jkFwJCwD4E7Clc7TMi+7Qi3OzDWVpJfwKHA6sp1/HbxqzIHXgpxQ5tGt8Mb0TtSZBviksXDB01G6smvY8O4ZtN3wc8UP/R3OgtC611a4wbLnnQN2St+ePFni3wsd9y8//Pntof/R8vw2HDC7jkkg9vRe7CEq+W+Mg31i1ey3xsYkNUjDiMfTWmoMZbPVIch5ZB5rrVqMwZhZl+ZlLCMQhs8p6KF7PWQmRMOC4+OYcbrjdQoeNrqFSjFn7/bi1K7cmvlN7H7TKh/EvVU63TESEh2DH0c5TO8qKq83bYddzMfAP1fbvAK6spALje9NeQL1HApSBuRt5AtWmxR4Ms6wk5fBN3V5+CW9EsyOv9kt4m7HrcTxR0GxT0P8bWR4OYI5jt1Qb9LXa3dT9pKSAEhIBdCchCyjbcws02blIq4xE4EVAZ5XFRnfPOHHgjxQH8Oq4xXo0+mCCfdgTu93GN0Dj6kOn7pwr6jrH1UC/maJwyG11q47Jr/jhXtq3weA2dhn1lzjcnuCf6hazBLqcKuOySV7nW0zW+y7C4N+CwwOnxL6NM1GkcqjcfLzVtn+I4tAwy161GZc4ozPQzkxLpT2D9vLl48UI5uDq5Yf/DHWgxb1iCTp0Z+hM8nTNhl+sfeH/ciFTp9I0zp3Bh9l4UylRc1Xf20RHUmtwJnk9v5rK1kUt7z8L4zWU4GZwR1tgLpZon3FB48PMFPPrtEjLVzI8c75bW3ZQ957oo6DYo6Nru91yv99DH1/rrS3S/CVJACAiBVCVgT+Gaqh1P58qEWzo/AGleEfhkzlSE3P0XHw6eilyZ0yaq8PmAcngB1xBldIJL4L0UyWtn1uNnnO31Afr7LsJfgTXxsvFUHAU9zmdPC25zqoJz7oXRPXSjuapv3Rri3RE/mP9/SVBHfBT6A352eRm3XHKgY9hmrHF/FW2Hf2vO88f+Fbj4x2a8fv835MQjHG2yApXqW++eKnM9xUeeIIMw089MSqQvgZAnT3B0+Hco6FUMt8KuoVRAM2TJnvCKsn0+q5HfszAOPtyJt+f5PXOnj65bD+O2aORwz6Ois58K349mM4c8c71aBQdGfY28Uflw3/U2Ko1rlaDe20uPIezkXWRvURKZ6xTU3a4957oo6DYo6D+Pb4LXov7CfM9W6O0Xe2Wc7ictBYSAELArAXsKV7sOLI0bE25pDFiqt4qAFpBtmkcnuDqFIyLKA0NGWH+FmDWNXAkoiUK4rbJuqbEETd5K/tqexJRtluX95j38luN4QGVUwMU4CvrfgS/hReM/cbqz31AaJ92Ko0P4Lwg3usDdEIXNzjXQbHTsdWya995Cr5ZwNUahe+gGMPp7y5GxSv3BwBqoajxjrvvUW9+hbI1XrBm6yiNz3WpU5ozCTD8zKZG+BL7uNw61MzVWwdh2Z96ND0YntJ6zh1u956FM1so4/+gEGs61/qhMYqPbFjwHBW+WhqdLJnVv+aXsJ/G/kT6pCuLO8Qt4suxfOBmc4PJeXuSvUTZO/dcm70X0/XDk6fEi3F/Iprtte851UdBt+EHaMOE1vBW5G/HPh+l+0lJACAgBuxKwp3C168DSuDHhlsaApXqrCGjKsFJco/fFUXqtqsCKTLf8iyCP4aHKOcujN3yGTU62VGLKNgusdG+GjsPX4mJAKRTFLVXHzZ4nkbdAAZwOqIgyuBynXt6dftitlLp+7TwKKCv+bqfyqD1mt8p39eI5ZPu0DjIZwrEoZz8Yw6+i55Nv8JPLy2g+yuKat4C4i84LH/yK4uVrWDFyUxaZ61ajMmcUZvqZSYn0I7Bv6xZk3RQJL5fMOPnwEJrMS/oKs3V9J6JG5gbqjPhLM1O+Y3zZ1E9Q4Hw03AzucDW4Kfd5Nyd39V9Gh3c2uOB+xB1E145ElTYp12cLpSMB3yFHWG7c87iNygGxVvSYsChcDdilqiw4pjacvFx1V2/PuS4Kug0/SFrU1k893sKHw1bpfsBSQAgIgfQhYE/hmj4jTJtWhVvacP0v1xoeFY3VS+ejXdfecHdxtgqFptg+NHoiqyHUVObpuW6rKrAi00P//Oa6pxi6Y6h/7DVnLD4/qDvyRN9G1VcnomStSokq28y33rUeWozchLv+hZDT8Fi1/GONJXj9rffxb0BpFMNNTPfsCKPRCYPDluOGMTv2uZbDm1G7scOpkjqjfgJFUf7pXeyfTB+Cvg8Xg3esuw06iuVLhsP70Wpsd3oRDcf8YR5ZlH8OuBhizP9/teteFCwe14qUHAZHn+vz5s3DlClTcO3aNVSsWBEzZ85EgwYNkhzS/fv3MXLkSHz77be4d+8eSpQogWnTpuGNN94wvT4BAQgMDIxTPl++fLh+/boVb4spi6Mzs3ogkvE/QWBbn4UomaUCHkXeh1PnQihbpVqS4/5myjTUulMTkTERyDv6ZWTKEvcKtvgFjw1ah2xuSd8tzqvTivasgvwVK6cZ6xsHTiHyq5squJ1n5yLIXbGEaiv8wgPcWvA3nLO5ocBw6yPEW3bUnnNdFHQbhKvmZpdUcJY0e+ukYiEgBJ6JgD2F6zN11MEKCzcHeyDPQXeCA/uhZ8zX+N6zQZxAaMkN7bp/ceQ3xD0X/n2luXjnvY4wxhgBoxEGZyer6ezZ/CP+PLAJObMWRTfvoapchH9OuBmi1d9Bhi7w858dp757/oWQw/AYwS5d4TtqllnZ/sK9CeqHH1ZK9ruRf4Bnyst9tAY5F1aC69P65mX1gfegsbjhXwz5DPcx1a0r3F290O/JPIQa3bDTpaIKOPetawNVxzVjThQINLnCfzq5Az4M22B2e587cwD63P8c+wxlUMP/L3Mfb/oXQ17DffP/3/U+jpx5C1nNxJHn+pdffolOnTqBSnq9evWwcOFCLFmyBMePH0fRokUTjDEiIkLly5s3L0aMGIHChQvj0qVLyJIlC6pUMV3DRAX966+/xpYtsV4Izs7OyJMnz3PBzOpBSMb/BIHVw8ehfkwjda/4nxG/ou30gGTHffvmdTyZekJdg3agyN94p0+fJPP/uXETiv9hisB+5tFRRCIcUYZIxLhGw+jpBPd82VCpY3sUzGVblHY9D+jI6O+QIzI37mW6jcqjTVb0x7uv4v66c/AomwO5u1XSU505rz3loyjoNijoqye1RrvwLVjl3gwdhsdeiWLT05ZCQkAI2I2APYWr3QZlh4aEmx0g/8eamBXUCz6hq3EUxVEp4LBVow/zzw0PQ2ScvJOiu2D4uNlYPGsi6t1bg39cCuDNUT/HyTNtcl9kM9xHnSqtULF5a/N33054SynCiz3fwcd+K7B9y49o+Gdb8/fBLl3gOypWQb9w9iyKrqgBJ4MRUz06Y8iwOWZlO9itC3xHzMb0IG8MCl2Fvw0l8Gfmd+D9aJa5vmlu3TF4xAzc9y+I7IYnmOrWHcUKlsL7F0zRkfcbyqC68TSUd17YBqW0ewaa3OO12Dfa2fa5c4ajz515OI6iqPDUys58WhR6rdEw3yvw8MpsFV9mcuS5XqtWLVSrVg3z55vuk2cqX748WrZsiUmTJiUY44IFC5S1/eTJk3B1TdydlQr6unXrcOjQ00j7VpOKzejIzGwYjhR5TgnwzvNbU/ciu1tu/Pv4LOp90s2qkf498FvkdM+DvaHb8O6sUUmW+XbAJNT0qI8HEXdQcXpLq+pOq0xXdxxFzA/3EGOMRtYepZG9ZCHcW3cWT3ZfQ5ZGhZHtdZNVXW+y51wXBd2GH6QVk9ugU9jP+NLtFXww4ju9z1fyCwEhkE4E7Clc02mIadKscEsTrP/pSj8J+gh9Q9fiX+RFsYDYoGZJQZk6dgiGxCxO8HUwOsE34BMET/CBb+RSU4C1wDtx8z09lz3Dqx0G+i5Q3538+2+U+9bkGv3Q6IWsgdewcPpY9Hw4zVxWu8tc+2DRrHHocW+q+t/pnh0wyG8eHvgXQDZDCKa4dsXQkbMwZVI/DA1fjivIjS/c3sLQiNhAslNcu2HoyJnQNhpmevRA+84+yL2wklL6WYYB6lQE+JAvVTt7mq9Drdr/gxYtfo7XB+jnuwiLFoxHj+tTEvA7EvgSKlsEoDOOuQeDk/VeBY4612kN9/Lywtq1a9GqVey5Uh8fH6Vcb9u2LcG7QTf2nDlzqnLr169XVvH27dvDz88PtJIzUUGnEp8tWza4u7uDmwATJ07ECy+8YPX8dFRmVg9AMv4nCPzYexoqZ6uJ8OhQ/PPyXTRpE7sZmRyAP/t+iuKZy6R4Xv23PvNROkslnH90Eg3nfpzuTI+O+A7ZY3LjXrY7qDy8JW7OP4yIfx8iZ9uy8Hopr039s+dcFwXdBgX988nt0C1sE75xa4jWFleg2PS0pZAQEAJ2I2BP4Wq3QdmhIeFmB8j/sSYWBHVFr9Dv1JnqnIFXUhz95IC+GIYVCRX0p67mUyf1x5DwZer7OZl80G/oWPX35ID+GAbT55r1mX9PGd8PQ6OWq8+3OlfFK6N/x5RxPhgaHatQT3XvgiHDYy3oQWN94Bdj+n62Z1v091toVranOHfF0NGzMGX8AAyN+hxhRlfM82qjrOlamureGd0+HI1c80z3787PNgC9BwaalfwYo0Ep6tM8OqN/6CrlGv9pAT982HMEDgTWQDXjGczy6ggf37lYsXwWOp0fg9vGrMgdeMncxtmA8iiFq7GcdJ7Rd9S5fvXqVRQqVAg7duxA3bp1zeOjMr1s2TKcOvX0KjuLN6RcuXK4cOECOnToAG9vb5w5cwZ9+vQBlfoxY8aonD/++CNCQkJQpkwZ3LhxA+PHj1cW92PHjiFXrsTP0oaHh4P/tERmRYoUwYMHD5A1a/JndFN80SWDEEgDAuvnzUOVC+Xg4uSK/Q//RIt5w61uZaP3VFTJWgs8P15zdscky/098BvkdM+LfSE70HJ24lHhrW40FTJe3HIATlueqOvccvariIeLz8IYHo18A6rBNX8mm1qwp3wUBd0GBV27i/R717p4Z+SPNj1kKSQEhID9CdhTuNo6OgmCZCs5KZeRCGhnqnnf+F/1v0adpq8m2/3g8f3hG2VStC2TpkRPm9wHg8NWqq8moQuGB5gU65nBPTEgZI36W4uszr+1jXb+/atzNbw6+jcEB/SH71Nlnp/zOrfBwz4xNxc8oR98I01KPa9ZjTS4mS3d09w+wuAR0/Drxm/QaO9HKlDb5x5voltY7BVo0zw7olLFxnht30eqjtXFxqNdt364FFAKRZ5Geufn0z27o1PI1yqa/IwsPTBw8BRzMLpZmbrCZ+gsfL9uFd455K02Am532oHcBQvDwysTrgaUQEHcjUX0nCnoO3fuRJ06dczjmzBhAlasWKGU6viJSndYWBj++ecfs8V8+vTp5iBzib1wT548QcmSJeHr64tBgwYl+k4mFliOGUVBz0gS6L/VVy0w3J2wGyg1vjkyZbb+2MtXw8ajLhrhSdRDlJ36ZqLgTh35G54r76nrzY5VvILXOllnnU/LpxATE4OTI35AVuTE42yPkPlBFsDZgEKBdWFwsd6ryLKP9lxDioJug4K+MLgLeoaswyaXWnhj1Oa0fL+kbiEgBFKRgD2Fqy3dliBItlCTMhmRgHZU/1XYbAAAIABJREFUjH2fGNUBI8bPS3YY0yb3U9HO4ycqvYP95mJ6UG8MCv1CfR3k0gV+T8+Or570LtqFm+4S/9nlZbz29Eqy/YE1UP3pfeE7nCqi3pidCA7sD19j7CaAVrfWpua+zv9XZ7+1+80ZxC33MHzY12SVuhBQBsVxA3ucyqNWzAlzl+liny1LMXS/Ybq67eAbm1C1Zj0cD3gRFfCvOd/sTL3xxpP1yhI+3asLBvnOhnY/+5wsH6Pf4KnYves31P7ZdM6TmxxrPJug47C15vPt5sqeEwXdFhf3Ro0aqbPnlgHgaDGn6zst4G5ubom+c02bNkWpUqXinHW3zCgW9Iwocf67fV6/cD5eOldOBXr7I3QL2s2Ke2tBSmT2bf8V+TeZ5srVZqGo+UqzBEXWDgtCHdTFk6hHKDvVdEOCI6R/ftgF1x1R5q645vdCvgHVbe6aPdeQoqDboKDPC+4O75Bv8ItzdTQdvdXmBy0FhYAQsC8BewpXW0YmQZBsoSZlMiKBLye2wgcRpt/PyeiEYQGxlurExjMzyBsDLNzFtTwzvdphgO8CzA7qif6hJkv5FLcuGDpitrpm59DYGqhqPKs+P2Iogcr+pmBgmhLNvw8aSqGq/37zOXat7hle7THQNzYg2bSgPhgcarLSx0/7X9uI6nXqq4+3jW2IRjGHEWF0NkeE5+dzvNrA4JQHfR/PVUq1S6ApIv3usbVR20KRX5x3KKrdWq8Cxmnj0wLLLcw1AD37BeLG9avIt6B8nG7c7nsGWeaUh7shdkGq9xo6R5aRlI/Vq1dXUdy1VKFCBbRo0SLRIHGM3P7FF1/g/PnzcHp6Dn/WrFkICgoCXeYTS1S+aUHv0aOH2Q0+pfnlyMxS6rt8//wT+N17AUplrajuMi89/nVd1nONzqkhG5HJJSt2GrehTVDCQHG/eM9B+awv4eKTc6g7p6vDQKUV/dTwDchiyKH65PVSHuRsW87m/tlzrouCboOCrgW3+d2pChqP2W7zg5aCQkAI2JeAPYWr3pHZYiGSIEh6KUt+RyGwbsKbaBn5p+qOdmVZcn3Tfnfj5/nE83309VuCucEfok/I1+przTV9/oyx6H5/lllhvW/MhOyBJsVMU3j59ykURtmAY5gysR+GRsRa6bVz5lqbM4N7YUDI6sS7aWGpXjOpFdqGx27ea/e20y0+NCYXBoUvwWOjBzIH3lB1bRn3CppE7zfX+2O1BXA/vBCvRB/EXK/30M17FlynFFVn0r8sMQ4fdOmv8ob754qjjC8p1BcfXYnd6LiIvChqRQA+ywE5sozUPIwYnZ1u7osWLcLixYvVefFixYqhc+fO6py6FtGdV6pRge/atSv69eunzqB3794d/fv3V3ejMw0ZMgRvv/22uqbt5s2b6gw6A84dOXJE1WlNcmRm1vRf8jy/BH5YshCVT5dWZ89tsZ5rZPb2X4mCXsXw98M9eGPekATA9vusQT7PQjj0aDfemmu6stJR0tmv/4DHPlNvMr1aCDmaWh8AMv4Y7DnXRUG3QUGfHdxDnTvT3OIc5SWUfggBIZA8AXsKV73PQoIg6SUm+TMygZ/GN0XzqL1qCFPdO2HI8OQt6IuCOqNH6PoEQ17g1RK9fJfB8nstWntwoA98jbFB31g4CF3wSrMWqP5zaxWQjekS8qBIwFlMndgPQywUdE351xpNapPgjjELIkacRwF3kxuo5mWnlfvVuaq633yJ59u4H50bQyI+B8vkCryssqyf8AZaRO4wj+1275PYuaQ73oncqa5ce/m1fnhx/Wvq++0NVqLhq2+rv+/6F0JOw2NzuV9cqqNplEnR//TFaShcqT5eK6PPWuTIMlKxnTcPwcHBuHbtGipVqoQZM2agYcOGasyNGzdG8eLFsXRp7DPftWsXBg4cqCK9U3n/8MMP40Rxb9u2LbZv347bt2+rKO+1a9fGuHHjlGJvbXJ0ZtaOQ/I9fwR+956PUlkrwZaz55Y0fvGejfJZq+LC49Oo/8mHcUDdvXUbD6YchquTG/7K9TdaDU36rvT0IBwdFYUzI35CZqdsuPviQ7zYPvFz9Nb0zZ5zXRR0GxR0bRd9n6EMavj/Zc0zlTxCQAg4AAF7Cle9w9UUdAmCpJec5M+IBH4f2xCNY0z3n2tXliU3juWTP0DnsJ8SZPnM80109/sCn09ubw7IpinWWqR2Rjo3woA8hgeY4tYZxghn+OJzc12asmwZaI5fMgDbdpcqMPyvP5rWb4GFQV3QM3RdnD4wWOxJYxl1fZrBYFDfWdZzAfmw160C2kT8huUer+GmMb+KNn8FuVAo4LzKv3pSa7QL36L+1izrX0xqjfbhW7DKvQkylXwdLY8PVt8/GPAPsmXPqf6OH1xO61ik0RlOo2/C2cVF96vhyDJS92DsVECY2Qm0NKOLwIZPl6DSqReU9fzPkC1oO1vf2XPLxr7xGY9ano1wL/wWKs94N04/vhk3A7We1EBEdBjy+9eBl44AdLoG9AyZz/y+A+GXH6Jsm1fg6uZuc032nOuioNugoE8P8lZXpxw2vIAq/gdtftBSUAgIAfsSsKdw1TsyW1zcJQiSXsqS31EI7Blb2xxATd377bso2a6tndgC70f8niDPKvem6DD8a6ya9B46hP+ivl/o1RI9fZeZLeK8a/2uIas6i84z3RGhrvA1xrqyhxrd4Bl4C9pve/xGgl26wHfU7DibAFqe6Z7tMcgv9pw6P58+YTAGRS5RWRhM9rZLdnQO+xlfur2CS06FMSRsOc6jAF4IMEUe126G4d8hRne4DL+KFTO74MOwDfjBtS5u52qAbteD8MTojkyBN83duxhQCkUtor9rX2j3utvyrB1ZRtoyHnuUEWb2oCxt6CWg3Ut+J/wGSo3TF7k9fls/zJ+Hqv9WVleWeQ4oi7wFCpqzbOozDS9mqYlrIRfx8uwOeruZofLbc66Lgm6Dgq4FijmBoigfcCRDvVzSWSHwXyZgT+FqC2cJgmQLNSnjCAQ2rv0eD8Juol3HD82W5OT69XfgS3jR+I/KMt+zNXr7fZbsMH4c3xSvR+1VCqyXIfYO6m/cGqL1iB/w9cR38F7ENlXHUo/X0XXYGrMlmxHX/3EpiDejdmOx5zu4H51dnTWnhdzDEKnK/FZvJQ4d3IiBiZwx1860W1q6tc5OdeuMISPmxOn7P2dPIN+KRqqf3CxwiYlSyvY61/o471Icg0JXmqLAP10/LJs+FiUe/4KGMX9jr6Esqo/ajTnT+mJAyCr8g/zYlO1d9HkwDzeN2ZE3MDbae6h/HngaIlTblmO5bsyB/IEXbHotHF1G2jSoNC4kzNIYsFSvm8CmpZ+hwvHiqWI9Z+NPHj3EzXF74erkjj0596K1r8mjh2lPvxUolKk4jj7cj+bzBujua0YqYM+5nuoKup47fHleiME44icGPtq4cSMiIyMxatQobNq0SUXhzJYtG5o0aYLJkyejYMHY3RueOfr339gfLdbn5+en8lmT9AKfOqkvhoSvwDkUQMmnO+DWtCN5hIAQSF8Ceue6vXsrQZDsTVzaS4xAdIwRTgZYpWhr5TePexVloy9iefirGD1pQYpgzwaUV9eIMfGc9YfDViVb5o+x9dEg5gh2OFVCvZijiDYa4GwwYqNLbbw56mdsmNAcb0XuUnWscX8FbYd/B8vjaKfciikL+2r3JrjqlF9FY6fyWwLXVZlpLh/C1e2x+V5zy87M8moLH9+F+G7CW2gV+UecfmrW9fid3zG2LmpFn8AMt87I7PIAvUO/U9e8nXAto6LRa5HjLcvNCB6KvLnLoEP3j/HLT1+j8a4eKjDcHK8P0C/kyzhWd1UuIJu5+FVjThQ0mO4/V+MKOJXiM0gsg6PLSJsGlcaFhFkaA5bqdRPY6j0PZbJWxt3wmyg57jWbIrfHb/TQgLXI7ZEffz35A63mjFBfh4eF4dLobfBw9sJul914b7xjBYjTDS6FAvac66mqoOu9w/fu3bugW6eW7ty5gypVqmDJkiUq6uaDBw/w3nvv4eOPP1af37t3DwMGDEBUVBT27Xsakg9QQUEY+IP5tJQ5c2bwnzVJL3DtLlQtsIw1bUgeISAE0p+A3rmeHj2WIEjpQV3atCRAL7H2IZvwhdcb6o5xq9JTZXGeV2t4+yZvDWd9VwJeQCHcUVVrbupaOzODe8IJMejhPQMeT3/HDwdWRRXjecz0bI+oGGdkcnqslN7fnV9C49Hb4kRCX+9aDy1GboIW1G2704s47V4MH4X+AJ4Z/8elGHxCVytrdbWYM3AxxCAYneHlGYq+oWsTDHeRZwv08FuOn8Y3QfOouHFnZrh9jIEjpiYoM2vSMIRHh6LfgCn4dK63qpf9OOheAT6ha0x3pI/ZnSzavwJr4mXjKWx1rqoiulteE6cKWijolveyHzMUR0V/0/l+vSkjyEi9Y0rr/MIsrQlL/fEJGCMicHvfAeSpWzsBnJ+WL0W5o0WV9XxHyK/4YHZAqgDc3mcRXshSHqcfHcErc71VnT/MXYKql8oiOiYKLn1KoFCx4qnSlqNWYs+5nqoKut47fOM/gJkzZ6p7JxmdM1OmTIk+n7/++gs1a9ZUFnNei8FEBZ2KO//ZkvQCnzKhP4ZGLsMNY3bks3A3s6VtKSMEhID9COid6/brmWO3JNwc+/mkdu/C/HObXb+tuUf7qy+WoM1pk8vjGrdX0HbEdyl2yfKas29dG+DdkRtUmUXTx6HHQ5PCO8W1C4aOnK3+1u4tn+rRGUOGzQGV+AEha5SSXdN/L3aMracs60y/OFdH09FbsSCoK3qFfoefXF7GObdi6hq235xfwgn3kvAO+Qa/OlfDy1EnkdUQgiCXLsjq+gi9Q79N0HdtA0Gz4msZaMU/0Px7vFzHFEU8qTQjuJdynWdg2d0eVczKesMxca3x8ct/Nrk9uodtNH8cX6nfPraBcov/2q0xCkbdQt2YYyrvPqeyqDHGFCFfb5K5rpcYIMz0M5MSthP4anIQSl0vjhxuuXEn/CZuRlzB3dxhaOnrg8xZsiAtrOfs7Q99glA1S13cCL2M6rPaqQF83zcY1TLXwa2wa6g6s43tg8ogJe0511NNQbclwFH851G5cmXz3ZZJPastW7agWbNmuH//PrJmzaqyUUEPDw9X1vgiRYrg/fffx9ChQ+HmZrryJH5iXv7TEoGzHC32Wp3JvSvBE/rBN9IUYGamZwf4+M7V5QqYQd5D6aYQeO4I2FO4Pk/whNvz9DRTHkuMf3bzFWTWKOgTRnpjpKvJRX2bUxU0GrM9xUYs7/CmAt18lCmK+aRRfTDcZaX6m2fJy9boiEP7v0W3kO/VpoF2Z/r0yd4YFLYKx1AcFQMO40BgDVQznlHldjpVQN0xu/Dp5A7ms9//uBZRSvJ+Qxkcci9j/rxWxHEUMNxV0d2zOT9I9Cq3Da618dbIn+O0wXYsr0pLbsBaVPfjKIZtnjXQO/Qb8yZCcuVmTBmIgU9ivRG4ufC/0bHHAn/54SecPvMD6tfrjWtbBqJ5pEkp/9O5MuqPNt0xrzfJXNdLTBR0/cSkhK0E1vT1x8ue9eDu7JmgiidRj5SiXMiruLrybOeTX9FmTupYz9nYV/6TUDe8PsKiQ1Bqiunaxz/7forimcvg1MO/8eo8x7pezVbGyZWzp3xMNQXdljt8LSHs3bsXtMDv2bNHWcgTS2FhYahfvz7KlSuHlStNP+BMvAezWrVqyJEjB1jP8OHD0aJFC+Uqn1gKCAhAYGDC6wasVtAD+8WJAMsf9qHxgsSkxYshdQoBIfBsBOwpXJ+tp45VWrg51vNI695YWretUdCDAvrCDytUty4jNwoHnEu2i3OD/dEnZKY5z59OlVB/jOke8MmB/TDsaYR1Kt+b3BphaMQy9d0joyfmxLyHEeM+MUdo5zVmxQNO42RAJZTDJZXvb0MJvOh/CCsnvY+O4ZvVmfQrhkIYHLYCZ1AIf7mXV1eYfeHeBLXCj6EkrmGaR2dkx12luMdPmsJ/OqAiysB0dznTWRREqYATKT6OqZP6YUj4crCvmz1rq00A7ex8coU3bfgKb+yLPbqXXJm1k1vh/bCtqrotri+jyUjThofeJHNdLzFR0PUTkxJ6CVy/chlHJ3yHcllfUkXvht/CkZiDyBGRHfncCiK3e344O8Veq8jr0F4Y1yxVzp5rfT199BA8VjyAk8EJp1++ildaf4ATg39AFtfs2BP5J1pPG653WBkuvz3lY6or6Hru8LV8Mj179gTLHjmSeFR0BoyjZfzixYv4/fffk7V0f/PNN+rs+u3bt5ErV64EL8CzWtAnB/TDMMRe0WLNFTEZ7i2UDguB55CAPYXr84RPuD1PTzPlscS5XzvgQYoFgif0h2+kSYlmmhTVAcPHz0uy3MRRfTDiqZWcmQ4bSqKK/wGVP3h8f/hGxdalAsiFbQBvTfkejeAX8InKZ3nHee7AS7C8ckwLkqZdzbbM43XcjMqLoVHLcMuYDTvcKqNl5J8qOF3N8GOobPwH0zw7IrfxNrqE/YRwowvcDVHm/p9GYZQJOBbn3Dy/pMt6Df+4Z9ITG/SUCQMwNPJz1fb3ng3UeL5zbYBWT936kwP80L+AcsFn+tqtEd4b8X2i2ZdP7YjOj39Q3210r483h8e6xqf4AC0yyFzXQ8uUV5jpZyYlrCewYf4CFDyZHXk9C6lC5x6dQL7uNVCuejVzJYf/3IHjX25GgegCyOqaHUddj6Pz1LHWN2JlzuODv0dW1xzYFfk78tZ/CSX3ZIfRaMStt5xQrUF9K2vJuNnsOddTTUF/Fhf3kJAQFChQAGPHjoWPj0+CJ0flvE2bNiqS+9atWxNVui0LXblyBYULF8bu3buVVT6lpBf45EGDUTnnUXVlC5M1EWhT6oN8LwSEQNoT0DvX075HGaMF4ZYxnlNq9fJ4QGVUwEVV3YTQthgZtDDZqqdM7KeuLdMSld3kgstNDuiLYU8t7ixjeSf41Il9MSTCZI1nOo1CKIMr0NzMtc81S7u6XizwNm77F0Fuw0P19S1jVuQJvGSO7M6r1e6E5sAwLEOk0RnbXarg1egDYEC7GqFHUdN4CjO92iJP9G10CN+iFOk8hrgbE2vdGpvvYY8xGtQRAJ5hf3X0bylinzZxIAZHmFzV1TnymBP4yq0x2oxYn2LZEwGVUf7ps4gfTM+y8JI5vfDRndXqo++8XkUr34Rn6VNsTJRNaxAlyCPy0SZsUsgKAiv7j0JNt3rwcsmMyJgIHHi8E63njU6xJJVmg8GQYj69GXb1W4YimV7A0Yf7EOIahpqe9XE/4jYqTW+lt6oMmd+ecz3VFHSS1nuHr/Z0li5dil69eoGKdXyLt6acnzlzBr/99hvy5MmT4kPdsGED3n777TiB5JIrZCvwZZM/ULvtye1qp9hZySAEhIDdCNg61+3WQQdtSLg56INJo24dDaiCSjDdox3s3AW+o02B2pJK0yb3Ve7jWtKinieVP77FnUr2LJf28B01C9OD+6or0OKn5R6vofOwr8wfB43pCz8nU5uLcgxBp7uzzXeCRxidMdO1E6obD+PV6INKEY+KyY/+YaaI9EdRXI1vlmc7vBR+HI1iDuMTz/eRN/oW2kT8bnJdf3oFXGJjUPeMG+5ZbQWfN30MvB/OilPVLM+28PFLfuODBbaOa6wiuDN95vkmuvt9kSjWxUt88fFlU31fZXkdbQavsentkLmuH5sw089MSiRNYNWkSch50R2FPYojh7tJ53kQcRcHPA6h00T/dEX3s/cMVMxaA5eenEN4TDhKZamgLPqN5vZI137Zq3F7zvVUVdD13uGrAW3QoAEKFSqENWvi/qDwOrXWrVvjwIEDoNKdL18+8zPImTOnCgK3a9cuZSn/3//+p+5JZ5T3gQMHokaNGli/PuXdaVZoK/BPgj9E35Cv8btTFTS2IiiOvV4gaUcICIHECdg61//rPIXbf+sNOB9QDi/gmhr0NI9OGDzM5FaeVJoe1BuDQmMVx5Ssw1Mm9lfnyrW7zFlvlNEJMz07wtkpUgVzi5/iX9+2eul8tLswTGULMnaCnyF2gyB+WR5Da9K0N15Y11QFmnto9ERWQ6hya68YeUpdnTbfsxXyR91W95xrCnxS41V3mBvPYqV7M3QcnvBatvjlzp87gdAVbVHSeAW7nSvgL9eXMHR48pseWh1fTWyJNhEmK/1Cz5bo6Rfr/m/ZzrLVk9Dl1GT10aocrdDBZ6lNL63Mdf3YhJl+ZlIiLoHvZk2G60knFHYvoe4a11KMMRoXn5yD01v5Ubf5m+mObe2gcajj1lhtGEQbo5HTPQ/+CtmBVrNNsvh5T/ac66mqoPPB6L3D9/Tp0yhbtiw2b96Mpk2bxnm2Fy5cQIkSJRJ93rSmN27cWCnv3t7eOHnypIrMXqxYMbRt2xa+vr7w8vKy6l2xFbgWRfYkiqBcgOl6F0lCQAg4LgFb57rjjsg+PRNu9uHsKK1c9y+uLMRM1sRYmR3cA/1DvjR3X7ubPKnxTJ3cD0PCluMKciGP8T7cDNEqK6O5n3Utnuhd5NM9O2CQX9xz7aH+eZTVfIpLF3W+PKk03bM9BvnNh+W4mJcBXksbz5vPo+eLvo23Ineb3eqTqm+Lc3U0id6PxZ4t8LFfrGt/Uvnpbnr25Elcv/4v6jVqBicnJ6sf9aKgzubI8p94vY++vokHv/3mx8/Qes9AVe+KvO3QyXuB1W1YZpS5rh+bMNPPTEqYCBzb8wduLDuCUlkqquBrTJQXt8Ov41L4PzBWzYIWPUx3jjtC2rxqOSocKYEYY4zqDvt8ssp1NGn3viN0L837YM+5nuoKeprTSYMGbAUePN4HvlFL8cDohY05x6G9z0dp0DupUggIgdQiYOtcT632M2o9wi2jPjnb+v3QP7+yMDMt8Xwb3YYug7OTc5KVzQvuru4Vf2J0RyZDOLSgakkVmB7kjUGhq3DEUAK/eNRFXuMtdAzbDLqmr/Zshi5hP+IcCqjo6lqa4tIZQ0fNiVOlpnAr5T10lTpf7vpU2bfMqHkBnAqoiLIWUdiDDZ1RzPUyPojYiuUezZE/8jaaRe/DVueqZrfyxMbA9hqF7cUWp7rwS8H937YnEFtqVnBv+ISYvBNmebWHj+/8RKvcsX8L6v3QWn23vFA3dP44Nkq+nj7IXNdDy5RXmOlnJiWApUOG/5+96wBr6vrivxdWEgT33nWvunfdtc466hbFvQVxsBWCgCz33nvb2rrqqNZRtY666t6jjr8bQQmQkPf/7g0JCSAQeAkJ3Pt9/Wreu+Oc33338M47Cw1UjZHPVp3MmmRmfx77GJ/KKTDA0zwt0rFyOZ77nYLYSm0A/ayIQtU52W/ZN9XzZMqzzhT0LAjXQJ/RmGGrthrMjB0Av9DMfbE21YPF1mEI5HYETClccxLWDLectJtp83J456/4/uYwWHG8tuM6cWcMdF8POyu7VAevChuMUfK90Lh+E0X9YsP1aN21c6r9F4SNwST5dlzgqqCRv7p2978BdfAt/xjveEea7I3WRlcmZUgPSRgE70B1DLmmXQ+oQzOw05h3+R5E8VJtxnPdfppSqBcCGtGEcJoWhmEoLn4J59jD0CR+I/dIPLo1p8DnBAeU4f+jcenkWp2423hoWwr9XdfCTmpvkodi/mx3uH1eSdeaL3WGm4f+RwoNES/f/IcSS2vSnxuKDcGQsRlzoU/OBDvrhm8rw8xwzMxthPJTHKzzpi7fhKb15dPHuBb6K6o71oUVZ03ril+KOYt+S1KWfxZ6bSHmuzxpuzaj/NPPD9B88TAhprWIOUx51pmCngUFnTxNGktDuI0zPHxT/8NpEU8dI5IhkAsQMKVwzUlwMtxy0m6mzUuQ5xhMl6RMMBYKZ3jJUv8btyG0P7V6/2bzHbrFn6EZzkNUA+E9U23t5RN4gAM4kTqr8OKwkdSN/aSoNlol5m9ZH9ofQ2MPaonbbtsW7eL+QWEuitY/v9NmJxq2bqlH/InAVmidcBW/2LZEr/hTeMUXwFZpZ9SJv0WztGtauPUQeExfiKOBbalrOmmRvD1e9fgdZw9HpKh9vlDSH66JCdzWhvvjXfxHTB49HQqxHaSOeU36MPyyax163XSja863HwY39zQs4zI1bRsL9YPzRLVSb2hjZ91QxJgF3XDEzGvEmgA/1P1QA5GKd/jWtxcKlUyKARea0k0BMtT8WB2FxcXp1C9jnuLZNy/R281D6KWMNt/xCctQyUH9MfBK9Dn8uMTdaGuZ28SmlI9MQc+igq5xmUuvrIy5PWSMHoZAbkTAlMI1J+HLcLPc3YyMicf2xaMQy9vDLVkMd2pchflPTDXh2my7IZj2lcRm20N6on/cn9hi9wPaxv6D4twH6PYPC3RF/4SD+F3yHcZ5rsOysKEYJ/9VbSWffpSSoXGT19C0QdwRteIeoh5/Xx0TLruVgtzdwV3xk+Iv/C2qjqaqW2q3eNkdhAe4wINPig0PgzM8ZYvwW3AXGm9O2inRt2jp95eWFs3kJGRthU0fqtCbQ/sSHQ37OaUoKfPth8PNfd7XyUpU0Dfl64nBbixJnKn2j8lHUyFtnHXOu2xESXt1vqu7Uf+i3dIJGVpIpVJAJLLJUN+jO7Yg7sRLVHeoCxuRHS2Z9u/nC2gzaxwc8+XL0Bzm0um3CSFo4KCueX6p2E10dxtrLqQZnQ5TnnWmoGdRQT81swVaqv7FYklvTPRcY/SHgy3AEGAIZB4BUwrXzFNpfiMZbua3JxmlKFw2CR5Yj8+8GDuKe2LE2ClpDiXKtGeCul74IdvG+FFxlvafJx2AyR7qMK5gnzEQcdbwClgEzlqEX4O70uzna8VdUDvuPurz96BbRkxj6aaDZZ+wJtSJWq332DRHd9/f1cpn+Fi46WRvJ7XLiyvfoqvib60ynZxwjdWdJJsrifc0pr2W/1UsifDHhC9JluYIbjjc/edhS0hvOMX9QafRlCzC8cjoAAAgAElEQVTTWPPJNfJRwLbJCAxo/UNG4TVJP/LxorDyPSqPWIPaRQt9dc39wR3ROv4KzrRbhQ4tu2WKNnbWDYeNYWY4ZuYyYvsEf3zn8D1NeqZJ0nbt0zl0WZa2VXiTiw/K8xXwOSEKrySv0cXdBUWKl0zB1joPb3zzpTzK2H9DFXPS3sX+D9cdrmFwYJC5wGAQHb/On48Gr+pBnvAFJf2/g72Dg0HjLbmzKc86U9CzqKDvnvUjfoo/hfXiThjqlbm6o5b8sDLaGQKWhIAphasl4ZIerQy39BAy3/sRs1zgHq+2JodZDUk3qVlEkCvNiP6Gz4ciAU9xOOh7dFBexHJpD4z1UGdKf+9fCgW5aATFDcD0kOU4FNQeHZUXaJ9Siv/RTOgkudxIT3U98ysB9WlZMtpkn7AxtB+cYw9hp20b9PX5jV6eHTIR0+KSSqWRsmq2fDxGyvfp9dNFekn4cEyI+UV76TxXFY39zyeuk+SKfrbNdjRr1QmrwwbR+UjTJI7TxMNTGsTOmOZluaFq79+9g1wpR/HCJWBl9fWkfmk9reysG36WGWaGY2YOI/ZvXodKV4vA3toR96KuQ8HHo0be+jSL+vnoE+i91C8Fma9f/oergb+gmmNdrUJPOpE48jfyl3ileo7PpUSQvlCignVVFJGU0M4RpfiIRzF3UHlyD1SuXNkcIMgUDSpVPH6eGgwUFKG3j0+GvQgytZiZDTLlWWcKehYV9LWhAzE89oCeJcDMnidGDkOAIZCIgCmFa04CneFmubs5J3QipsaqFd/5EqcUbu6zZrjAPo8C0ZE8poes0CrKT1AU5WT3sC2kFwbEHcVWu+8x0PsXBHuNha9YXac8wnYIuAQ7NOTPo5XqGk2k5sBHY0jsIXVcuI9aGb4lq4XqeJaoOH/Cjlk9aeb0zeIfMMhLXUc8PNgFHookt3RS3u1ztB0K5IlGlNweHjL9BHFkTPL667ox7TH+RSDl4rRrkn+sCx2IYbEH6LXZohGY5jdXGw9Prv1cdT569889CY9Se6rZWTf8rDPMDMfMHEZoYqlJJvLHDT+i8fcdcd1/Nyo4VEMCr8RfX45i0OJgLalbF85F5YfFUExSml57/uUxVdJJPLmNyDZVlohl/pX8GR6o7qJr4FTkzZ/fHFhnNGQSAVOedaagZ1FBXxQ+Ci4xO3FGVAPN/dSugKwxBBgC5omAKYWreSKQOaoYbpnDzRxG6Sqxa8RdMcJrix5ZG0P70izmK6Q9MMZjA+aGjseU2C24hbKoLvsXK8KHYEzMbzhk3Qgdp/+hF99N3NAHxxyEmFPQOedL+4PjOUySb6MW+DXKrvAOXoJHsqr4RlMyTfYJZ2Y2R3PVDSyR9sIEj7V0bMgMF3hbJSnoqX1MSI6nrncAubfLtjX6+Oyh3d74l0URLlI9RPaJ/m9J+AhMiPlZ71qozBXdcBznJLUw3FNdziw3N3bWDd99hpnhmGX3iDWTPdHetjNVsP+KPoIBSwIpSY/v38HrhRdQyr48FKo4/Kk4ghHzwrHOzQvNrFtQa7tSpcDV6HPoscyHjrly4RxubNqHkgklUNiuBPLbFaLu30+/3MfL4h/gPMM/u9ll6wuEgCnPOlPQs6iga6wTmuQ0Aj0DbBqGAEPACAiYUrgagfxsm5Lhlm3QZ3nhheGj4RqjLgf6u3VjdJ5+RG/OA0Ed0EV5Dtvs2mGA925tLPhFrgoa+l/Q/r7EVUJ9/39SuKLrTjZX7ARFrB2csBel8E5d/sxzI176l0cJ7gPterrpz6h11hl5uRiE2w6Bh486GdvBfTvwwz9jtOXd5ogHYapXSqu57nphsonwRJJb/EJpX7h6rKJdkn8UINeWh05HHtzFaxTDVAt2Zc/yQ5HGBOysG44uw8xwzLJzxKN7t/F52S0UsCuC/748QtNFQ/TIOf3HQdgfiKaWcbnyCx7H3EUVh9qw4qwQrYjEWf40RswN+yoLezauh+O336JNnXrZySZb2wgImPKsMwU9iwq6JqGOnLdFYFQvzJrHaqEb4UywKRkCgiBgSuEqCMFmMgnDzUw2IhNk6GZHv40yqCa7rjfLXzO/QwvVdVoirYfvAa3LtybL+ewQV0yL24AXKISSsocpkrnpTjbbbjCmeS/WzkHGFPe4jsiwSijAfaZdw62GwCNhA2J5G6yynwAXj6Tav2/9S9OyaqRpapenxfL2DcvQ/7GXtku4zRB4+KoVfk1ddfoj0YKeCfhy3RB21g3fcoaZ4Zhl54j948JRJ29TxCfE4rjjGYyYIUtBzs4VC1D9blnksy2ovffiy2O8qidHj2FjspN8tnY2ImDKs84U9Cwq6H5ewzFTrE5SE6J0gnfQ0mx8dNjSDAGGQFoImFK45qSdYLhZ7m6uChuMUfK9lIE43hqLMAzTAmZrGboWUBe1+UfakmfJS6BprNRKXoS1Bd2RIL9HS6Sl1iKsh8B9+kJoSrWpeA4bi3ij75s52nhwEqdOaqBrLPK689yT1UBlPKeXNLXL00U+sbQY6Xfyu81o9f2PdMj+4A40WR1tTEFPF0ZNB3bWMwyVtiPDzHDMsmvEav/paCdvQ2PGL386g27Lkj7wJadpTaA/mkc2hNQ6D65HXUSzoOHIXzBJYc8uHti62YeAKc86U9CzqKCTx+Sdf2kU4qIQYTME7olf77Pv8WErMwQYAl9DwJTCNSftAsPNcndzQ2g/mrRN03StzOTaE1lllMNrbSkzTQk0jUV95cJZGP4+AtacCqEYjBLiNzRmPbUWzjnDw38Rls0PxLhI9UeAENVAeHLbIOJ4+vuAdRPqUr/dti36++gr+udnNkFj1W3aj6zlJVucPvA6CrquIk4+EjS1uoZL4pqY7LEs/XlYD4oAO+uGPwgMM8Mxy64R5103oaS0HN7HvkaRqQ1RvHTZNEnZv2MjXj98iBE+SZ4+2UU7Wzf7ETDlWWcKugB/kK4H1EEt/jHmSpwwxZNZ0LP/CDEKGAKpI2BK4ZqT9oDhZrm7qcmYruFgvnQA3BLrmZNrkf4lkI/7orVoa5LG7bBti36JCvQL2Te0zniEnTMqqx6iu+JMqoAQZdx7ploZ1sw7224IdZHXtP/x+VGM+4iFkv5w9VyhN49uvfTQhMHwCsy4gn4PpVBZdtNyN8pMKGdn3fCNYJgZjll2jNg+0Q/f5WkPFZ+AI8qDGDnn63Hk2UEfW9P8ETDlWWcKugAK+rHANmiXcJkmxHn8XwJCFutnyTX/R45RyBDIHQiYUrjmJEQZbpa7m3uCO+sp1OvEnTHMS10mbfFcf4z/tIBat++iFKrIbmLnrB7oG38cG8Ud4eylTi53OaAB6vH3MU86APVjb6Kl6t9UAZmlGASfYHVit8eyKiiP/9HSa8SlPXkjJdrcExPEae4dCWyHHxL+oT8P1V+Jjj/2Sxd4kgTvx5iT+Nn6B7hPt9wa5ukyaqIO7KwbDjTDzHDMsmPEOZeNNDv7g6ibaL10bHaQwNa0cARMedaZgi6Agq55oSHP3SMUx/oP9TFzIVPSLfwcMvJzIALGEK6PHz9G+fLlcyBaSSwZA7ccDZgRmUtQ8bAScRleQaP0PkNhlMFbHLFqgB9mHKPjQ6aPh7e1+m+VJgmcRqFfLfkRIz0303t/BrZG24QrtCxam5h/UB1PU13/eL2taNOtC72nUeq32H0Pp7ijKfqHWQ2B5wx1QjdN2x/cEV0Vf6t/ZjBuXKXiITIAjwwDl0s7Cn3WmXzMpQ+SGbJ9b9rvkFo74M8vB+G8aJYZUshIMncEhJaPafHLFHQBFHTdJDwE7PmSgXDzZDFv5n7QGH25DwFjCFcrKyu0bNkSI0aMQO/evSEWi3McsMbALceBZCKGVoQNwffy8/gF38MjAzHamiztmtjv+yiJSrJblNrwQFeaUZ20T7wUeQNe4XDQ9+igvIhlkp4Y57me3tMo7aSOejf5XyjMqeuKp2g6SvXxwFZok3AVJ0S10Vp1LUXXEIUTvIP1Q8J2B3fFT4q/DFLQTQR7rllG6LPO5GOueXTMmtHVM3zQUdEJKl6FqzUeopvzcLOmlxFnnggILR+Zgp7OPmcV8AXhYzApZrt2laNW9fH9jD/N8+liVDEEcjECWT3rqUF348YNrF27Flu2bEFcXBz69etHlfVGjRrlGKSNgVuOAcfEjGhyniyS9oVLYs3vtEjQWLKpwi3/FSQbe2hcf/iGLMXsUFe4x22kwxN4DoerrkGe+/OpC7vu/FtCelErOEns1jfuuDbhm+66J0W10WLGSYg4tXV/b3AndFOcxVMUQVm80SORZHff9+1CdO/lrHdd1xstoxZ0E8Of45cT+qwz+ZjjHxmLYHDnhAA0c2iLyPh3qDm3p0XQzIg0PwSElo9MQTeygu7nPgYN8z3De6u8GBp7EPG8FeYoB8A7MRbP/B4xRhFDIHciYEzhqlQqsW/fPqxfvx4HDx5EpUqVqKI+ePBgFC5c2KIBNyZuFg1MNhD/QlYBJfEOqyTdMMpzU7oU3JXVQBU8xxwxKbf2Cxy5GLzlHbHFvgtUvAhT5EnhWEEx/dHV/iLq8A9pvPnkxGRyq8MGYaR8H06LauI71Y0Ua4bxg1GiYm0MHjxKe0+j1KdG4Ec+D/IHvEhxKzzYBR6KjdqM8ukyxzoIjoCxzjqTj4JvFZvQAAT+HL8UlR1r4VH0HbRckiSnDJiCdWUImLTKBXNxF8DFXfeZvSWrhep4pk6M47maPc4MAYaAGSFgrJdPXRaJFX3p0qXw9vZGfHw8bGxsqFU9LCwMxYsXNyM0Mk6KKXDLODW5t+e18xdQ5ffOEHMKbLX7HgO9f9EDY47MExVsbuClTVGMc18DjuPwXFYBpfCOZmDvEndSGz9+mauE05J6cI1RJ4IjbYO4o7Ykm6amObm+OHwEJsb8DE0Gdt1FieX9RN3NaNejqx4tGqU+td16gqIoJ7uX4lZ8rBKzgyejXLkaGDiCJXHKjifd2Gedycfs2FW25lW3XSgkLoZ/ok6hx1JfBghDIFMIGFs+6hLFFHSBFfQNof0xJPYgDlk3RMfpR8HzPH1JYo0hwBDIfgSMKVz/+ecf6uq+fft22NvbY8iQIdSC/vLlS/j5+SE6OhoXLlzIfhAyQYExccsEObl2SKD3WMywU2dg32/TFF19k+qbk2sLwsZgkjwx3CoxHvyjf0nk5z4j3GYoSopewinuCB3/HwrjgOQ7jJXr1yIn99aKu2C411YtzvPCx2FyTNJv3Q2I5O2RL+Blij1ZHDYy1eztpOM1rgJq+1/Otftozowb66wz+WjOu56zabv292nk/TUe1iIb/K7Yi9FzInI2w4w7oyFgLPmYGsFMQRdYQZ89ayKmxW+iCXfCPrRDhZI87Ph43PtQBTMjgoz20LCJGQIMgfQRMIZwnTt3LtatW4e7d++ic+fOGDlyJP2/SCTSEvTgwQNUrVoVxM3TEpsxcLNEHLKb5vAAF3jw6pjxv0S10MLvtB5Ja0MHYnjsAfU12Sfs27gDHR+Ogw2XgFAMRnysAoXzKzBO/gte8gVwRNKYhmXptiheirPVl6Bjv5+0l2eHumBarHpd0h6gBCpCrZTT7PCyBymgmR82Hm467vM0OR3Ubu2nRN+ipV9iMrjsBpWtr7//UVHImzcvPn36BEdHxyyjw+RjliFkE2QRgbVuHvhB/CPiE2IhdqmIEmVydtWVLMLFhqeBgCnfhQRX0IlrZ0REBF69eoUaNWpg/vz5aNGiRarstm7dGidPnkxxj7zcHjigfskgFuiAgACsXLkSHz9+ROPGjbFkyRI6t6aR666urti7dy+91K1bNyxatAj58uXL0IMmJOCe44fCq/Af1GKxQNpfmzxujngQpnosBERWGaKJdWIIMASER0DIs66hjsSaDx8+HMOGDUOxYsVSJZq4um/bto1a1S2xGQM3S8Qhu2mOCHHRJnW7iXKo5n8FIi7pQ9COWT3RL16doPS3sstx7e5x+IvVLuyzEpzhE7gIGiU/hrfDfrum6Bt/Qo8tTT103YvhQa7wUKqzvZP2h1V9tE+4RP9N6KghS5mlfXbIREyLS4qR/9WmBXomZminGeWnH85uONn6qSAg9FkXWj4a8o5J2IuMjISvry92795N3yFJScw5c+bQj6iaZuicyWETGjP2YAqLwP5x4aiTtyn+J3+OBgsGCDs5my1XIWDKsy6ogr5jxw6aEIkIu+bNm2PFihVYvXo1bt26hTJlyqTYxA8fPtAYTU17//49ateuTccMHTqUXiZxm8HBwTTxUuXKlREUFIRTp05Ra5WDgwPt06lTJzx//pwq8aSNHj0a5cqVowmbMtKEBvxgUHt0Ul7ACxRESbynJDxEcVy0q4anytIpar9mhEbWhyHAEMg6AkKf9axTZBkzMNzMY5/mho3XJnWL4iW4LSqL6+JKGOGxiYZSHQjqgC7Kc5TYcOshKGH9CoNi1S7t8+0mwM17Fmb5joWPjdpNXlfR1nCYmnU7VOYCLyRZ0DeIO9FQLtLOiaqhiZ96Td2mq9QTd/qj4oYYFvs77bLLtjX6+OwxD1AZFXoImPNZN/Qdk7xfknfRIkWKwMfHB6VKlcJ///1H3x3JuyZphs6Z2uNizpixxxs4M3EdyuapiNtRV9B+qSuDhCGQaQRMedYFVdCJdbtevXpYtiypBni1atXQo0cPhISEpAsIsbaTWE1ifScxnMR6XqJECbi5ucHT05OOJwlGihYtShX3MWPG4Pbt26hevTrOnTtHrev0heHcOTRt2hR37txBlSpV0l1XaMDnh42Dmzz1eD2aBXfGaYDFpae7L6wDQ0BoBIQ+64Q+4t6eJ08e9OnTR4/cXbt2ISYmxmKt5rrMGAM3ofc2N8z31bjuxHjz0zOba7OsU9dzvKWwEGu5NEBd6mztykUY8mIGrDget1CGJjXVbbttWuAn3/1618JmuMHTap322kJpP4z/sgvWnArHrOqh3YzjKeAPmTEe3lbqDPGkFvo9u3IYLVcr5VTB90oqTZob9s5SeBT6rAspHw19x1y+fDn16CTvgiRZZ2rN0DlTm0NozCzlWbEUOm9P3QcHm3z4K/oIBiwJtBSyGZ1miIApz7pgCjr5UimVSkFeSnv2TKoxOGnSJFy9ejVVV/bk2NeqVYsq1hpL+KNHj1ChQgVcvnwZdevW1Xbv3r07dV/fsGEDTco0ZcoU6sak28j9efPmUbfT5I0o+eQ/TSOAly5dWrCYK+Lm7lLkL5o5lzTdFyXym8QCuvUdD3H16mb4+DGSGAI5FwFjCFfyEZC8CLZp00YPOBK+Q7x5iLePpTdj4GbpmGQH/V/LjD7Pdhom+8zAHVlNVMV/KUh7y+dF4YAkRfyDf0kU4D7jMy9GHi4WsbwNzQxP2lpJFwz3TPmB+bN/UdqXNFKybYR8N/JxX7DXphm6+erHsZM+m1YtwOAXfrT/z7at8Nq6ECbEqLPOr5D0wBjPJJf57MCSrZk6AkKfdaHkY2beMYkbe4ECBei76Z49e2i5y4EDB1KDj5WVFfXgzOp7K0FRaMzYsykcAptnh6D1u+/ohCcKncagad7CTc5mynUImPKsC6agk0zFJUuWxJkzZ9CsWTPtps2aNYsq0um9pJLsxuRL5vnz59GoUSM6/uzZs9Q96cWLF9SSrmnkpffp06c4fPgwyPzE/f3ePf2SLcQdnijnpNRR8iaTyWhce/ImVFIUMu+qMGeMku/BO94RK5VdYOtgg1Zx59GQV7+sE8vF9i/NMDNihZYMlSoOHGcNjmNx6rnu1DOGTYKAMYSrWCymFhoSVqPbnjx5AuJBJJfLTcKbMRcxBm7GpDenzr0tpBcGxB1NwV6IaiC8Zy5DlH8xOHIpn7fkZc0ey6qgPP6nnUc36dvXSoRqyrWRQeFWQzAw4QD9CL3dri36e6fMBE8nl+Wl/yM12+WcRFvSbaG0L1w9VuXUbbJovoQ+60LJx8y8Y5LEnEQOOzk5Yfz48bh//z4mTJgAYjgi3pqZmZNsrrGNPBb9AJkZ8dsmzEALhx8QrfiIanO6mRl1jBxLQ0Bo+ZgW/4Ir6ESpJlZwTSPx45s2baIvsGk14q5Oxl6/fl3bTaOgEyGqWz941KhRNI7o0KFDVEFP7QMASUxCShx5eXmlWNYUwtXPawzqOrzAM+uScHFfCJHIDsndE+dKnDDFc6mWPhJf2CTuCk5zDeExY6GlPbeMXoaA2SNgDOFK8mssXryYJqfUbcRiQ14GSX4MQ5qhCYtYEiRD0LXsvvuDO6CrImW8N6lZrojj4WOVFCeuy6muizu5fi2gHmrzD7Vdjlg1wA8J/9DfxDo+1WtxCqBuyGqjJp7Q68Gx/fGT+Cyq4RnWiTtjmJc6pj152x3cFfUVd7FF0R5SR2izuif/22fZu5KzqBdaRgolHzXKtCHvmMRQExsbi8ePH1OLOWkkq7wmkXFm5iRzmMLIk7Oequzj5o/xC1HNsS6efn6A5otTetRmH2VsZUtEQGj5mBYGginoWXEVInGaRAGfOXMm/bKpacZycU8OiLEA5/kEPWu4j9dQ1HX8iD6JWXO32bVDl5HL4Vi4CHzdhmBsvjMojbc0Xq+13ylLfHYZzQwBs0bAGGfdw8MDO3fupLHoLVu2pPwT93aS2b13796YPXt2hjExNGERS4KUYWhzRMe/Zn6HFqqkj9gapkiVEJXSCu46mdZTMJwYp06un5rZAi1V/9IuSl6ErZL2cI5VZ1UPtxkCD9+UH4jPzGyO5qob0NQ9/yegIRrw99J0V4+XK3Hu2FG07NoRc0InYGrsZrrGbFtnTPNZlCP2JKcxIbSMFEo+ZuYds1WrVjT2/OjRJK+TgwcP0gzumjDHzLi4m8LIk9Oeq+zi59KkbSgqKYUrn87ix2XqXFasMQQyi4DQ8jEtOgRT0MkixEW9fv36NIu7ppEEbiRmPK0kccRFfezYsdSVvWDBgtqxmiRxkydPBhHypBEhTTJyJk8Sp+saT/7dpEmTbEsSlxbgKl6FReHjMUmutjjcQykckjaHCiK4xSRZIWbbDcE0b2ZFz+whYuMYAqkhYAzhSmQSqV5B8m9YW1vTZVUqFZydnWlsuq2tbYY3w9CERSwJUoahzREdb8pqo0aiFVuXoUXSvlDwNtoM76kyq6Og62Z7f4FCNMO6Jit7UPwATJ+1PMUUmuokd1AaVWU3cCjoe3RUXsR86QC4eaTsn3wC3RJxX/sIkCM2ycKZEFpGCi0fDXnHJJnbt27dCmLsEYnU5QgXLFhA3x+J9Twr76262yw0Zhb+CJkN+S+fPUbsogewtRLjcOx+jJgfZja0MUIsEwFTnnVBFXSN9Ye8NGqSva1atQo3b95E2bJl6QsriVNPrqyTOunk+vbtKbO6EkFK+hPrFHFbJy7tJ06cSFFmjQhbUtaNNBKjTtbLrjJr6T12IX7j4C1KSsLzkc+Dl1wh+uIVxUvhyMXgOlce2+V1ERyalDn3a/NGKpT0Vj4btXLAGkOAIZA6AsYUriQPxrVr1yCRSEASXhIZZEjLjIWIJUEyBGHL67sjYjXuvj2LGaFrwIk4vPQvjxLchxSMrJb8CAVsMU6uTsKm217xBbBN2hFTPJOqq+yc1V1b//wSVxn3bUqhf2L9dOgo8rrz7JrVnXp/acqwhQa4II9Yjugoe3gHL0gX3PCgSfBQrqf9wvjB8AxI6Uaf7iSsg9ERMJaMzKp8JIwb+o5JQiGJkYiU7XVxcaEx6MSzydXVldZGz8icGQHcWJhlZG3W5+sIrJzqjs423aBUKfBlkCNqfNuAwcUQyBICpjzrnEKh4EmcOBFaJJN5VhuxnoeHh9NSaTVr1qSZ1DVun61bt6aJlIjFXNOI0CZZPo8cOYL27dunWJ5Y0UlCN6J8f/z4kVrplyxZQufWNFJPnQjcvXv30kskFpTEhJJM7hlppgRcQ887/9IoxEXpkRfNS7Dcrg9Gxu1Gfu4zzXz74ksT2kfp8ALxn3l4ByV5JyiVSmqxWxc6AE1jr+M3tIGXjLkNZmTPWZ/ciUB2nPWMIp2ZhEUsCVJG0bXMfnuDO6F9/D9YwPVHp06DUfX3TrDjlLjGVdCLId9h2xYxIrG2zrgut+EYBA/ZEj0A1of2x9DEOua/WzdGlJU9+sf9qe7zFQV9TagTRsTup3+Xevuo/9Ya0ohC78WrY+QXSifB1WOmIcNZXxMhYM4ykkBg6Dvm33//DeKFSaoJEUMQyU2kyeKugTStOTMCu7ljlhEecmKf38YHo4FjS7yNfYW68/vmRBYZTyZGwJRnnVrQSQ3fGzdupMhCbGK+s205UwKuYXJe+Dg0ir2GO7bl6UsPiQNcIBmIqV5LQJLFTZGr68euEXeFCCr64nWZq4Q90U3BW8dDIrJCLftH+CySaF+sSN8RXupxrDEEGAIpETDWWSeJ4MgHwmfPntEwHN1GkhJlpGUmYRFLgpQRZC24T2IW9M3iH/AsujB8bNTyPRTOKCF+DVteQeX/IeuGiBQ5JFnBdVgOjBuAGSH6LujLw4dgbMxvtNcWux/wPK4o+uAojkkaYpTnplQBC/OfiOKSt3gZWyRTH4LXr5yPqv/bjg8iR3TwPqhN2mXBu5MjSTeGjBRCPpoz2MbAzJz5tRTaTk1YhW8cquJe1HW0XTreUshmdJoxAqY861RB79GjB8h/xA0oNzZTAq7BV6XiIRJxmOMVCEmBx4hViTHZYwl1YyRtZZgzRsv3pNiOFygIBz4Gl60qo7Xqmt79v0XV0dTv769uob/7GOTJb4spnvMz9HJEvBeWhI9EAqwxZtICkHIprDEELBkBY5z1Y8eOUa+d8uXL09Ab4t1DSvuQ81OvXj38+WeiZTId4DLj4s6SIFny05g27TuXbUDf1660E3Fhfx9fAJ4JG0Aysh+rOR8/9hmIBWFjMEm+HRe5KnhlXRDdFGdTTLqisB/GTJiqd31h+GhtybNlkp8w1mMtvc9x6nhjHxMAACAASURBVL8/xmjkPBh7DWPQndvmFFpGCiUfzXkfhMbMnHm1JNpuTPkV+WwL4Wz0MfRdIrMk0hmtZoqAKc86VdCJ+zgpG0FqRZIEHPb29nrQJC8fZKa4ZZosUwJuCJGklvrAmEOw5+LwHIVozdm0WjxvhdC4vvALXY4Q3wmwdQCkseUhlzyCUmmD2vxNdFBexAJpf4yaugxSK3XSlK81jUsise6HK/vBJzj9RECG8Mf6MgRMjYAxznqjRo3QsWNHWoXCwcGBxqGTRJZEnpLr48aNyzCbhibaZEmQMgytWXZ8Gx2HNXOnIeaLAjPD9eVryPTx8LZWW8yXSHtDrpRgWvwm/IfCKC17QK/PDpmIaXGbQOqcP7IqgbYJV/T4/MLbwT7gTQredb205koG6sWnmyVQjCiTISC0jBRSPpoMBAMXEhozA5dn3VNBYM/Gtah7swJEnAiHxIcxUhbEcGIIZBkBU551qqBrslumRjn5op6QkJBlpsx5AlMCbhAOPI+Q6ROpov0lUoFOkqtI4ESolPAcBblo3EA57I5tCmsbGzhZHUJZvMFacRe8VRRCr4Q/UBEvsdemGbWqfOKlcIAcIo7HQxTHvzYV8cqmCMa4r4FVotUkXDYRygQOPoHqOPb54ePgFqNOZjdHMghTPfXjGA3ihXVmCJgBAsY460QpJ/GNFSpUQP78+XH69GnUqFGDKuqkggWxpme0sSRIGUUqZ/TTKNipxXVHBLlqy6YtlfZCPC+mdcSvcd+gtr9aEQ8PdIFHwkZ85sW4JSqLRvxdvOcd6N8H0t7yjigc8F8KsGbPcsG0eHU8eITNELinUlYtZyDMuDAUAaFlpJDy0VBeTNVfaMxMRXdOXmfjRB+0zdMJX5TRqDK7c05mlfFmQgRMedYFzeJuQowEXcqUgGeF8MjXMXAsJMa82S7oJD+F3+1aYZq3OhPuzlk90Df+uMHT+8X2wszQtQiXTcB4/mdEcnmwNqYV/MLXQjeR0EZxBzh77TR4fjaAIWBOCBjjrBcrVoy6sZNswUQxJ1UniNcRUdCbN2+Oz58/GwQBS4JkEFwW3XlJ+HBMiPkFV7iKqOt/SY+XOWETMFWurhu+QtoDCt4aE+U/44SoNlr7naLXg33HwddG/RH1GQqjDN7iFsqgOp7Ra09RBGVl91NgFBHsCnfFBno9ROmkl3zUogFlxGcZAaFlpNDyMcsMGmECoTEzAom5bspD4+ahZt4GeP7lMZoscs51/DOGjYOAKc86U9ABmBJwIR4ZEsun+qyAlUNSfWWiYJezfY6a8Y9RHU8Ry9tACSvk4WKRwHMgkYUa63kFvNKSMUc8GFO9FmNJ+AhMiPlZ+zIYGeOABlY30C7RZZJY649ImiPyYxxmhq4Rgg02B0PA5AgY46yT/B1dunTBqFGj4OHhgV9//ZXm89i9eze1qB89etTkfAq9oDFwE5pGS5xvVdhgjJLvpS7q27kOsLHjMchlBoraF8XisBFUISeNJAAljSQUpV5Rvge17H7xL0LDoFQ8R2X8SVFttErMT3IbZVBNdj0FNIG+4zEjMeHcgYpr0GVQb0uEj9FsBASEPutMPhphk3LRlO/k77ArIAy2cg5ilQ3sEuxgy9vCDmLYcDZ4bvUCzotmpUDkgutmlJCWxb+fLqDzMv0cHLkIPsaqwAgILR/TIk+roJ88eRKzZ8/G7du3aaKYatWqwd3dHaRGeU5vpgTcFFiGBbqCV/EoZfs/DIo7ggPWTfDQtizsEIdP8nxoILqGesp7yMd9wXpxJwz12o4Tga3QOuFquuStknT7apbfdAezDgyBbEbAGGf90aNH1Er+7bffIiYmBtOmTaNu7hUrVqRlJg2th57NEKW6vDFwM0c+TU3ThtB+GBJ7CJG8PR6LiqMu/wAR1s5wn76Ils8k1TtI2yDuBDs+jmZsJ1nXnbx3aUl9IquMcnit/b3bpgV+UvxFf1/iKqG+/z8p2FIlqBAe6ApVAgevgIU0YSlrDAGCgNBnnclH9lxlBQGNJTytOe5EXUWZia1RuXot2u3dmzf4GH4ZEmt7HIv5HUMWhmSFBDaWIaBFQGj5mBa0VEHfvHkzhg0bhp9++om6ZBIL7dmzZ6kliNQsHzhwYI7eHlMCbkogp08ejMLF7PHpowozQlZoM/SqVEosnT0GE2N+xj9cZRxTNYYnpy6tE8VL4cjF6JFJsgZLuTh6jVpnEt0rTckLW4shIAQCQp91kp+DKONEOSfW8pzahMYtp+JkKF87ZvVEv3h1lv8oXgJHTo75Eie4eS7F7uCuWkV7i1175EuIRhflOaySdMcoT3X8OGkXAxqhIX9X+3uduLNWsT8tqonv/M4YShbrn4sREPKsM/mYix8kAVjfvXYZat+uCDsrMeTKL4hTxUKhike8Ko7+n1jQS9qXpyu9kb/AlYK3McIvACt9vNFZ1RkqPgH3m7xFu559BKCGTcEQEP4DZlqYUgWdWMtHjx6NyZMn6/Ul9XtXrVpFreo5uQn5B8lScCJWdlKyR7e9QCFsQmfYShK0ddjJ/cWSPugXcxiFuSh1NnnZQ71x5IOOpjzPTI/hKFBQBCkfg/eqgnD3USecY40hYA4IGOOsk/KDREaSMms5tRkDt5yKlSF87Q3ulKI0GpG3Ez1X4+TMllpX9Z22rVFS+Q7NVTewUNoXrh6rtMscCvoeHZUXtb8XS3vTj6+k/WFVH+1nZKzMnyF0s745FwGhzzqTjzn3WTE2Z/vHhaNO3qaIVnwCnEugWu16KZb8ZVwQ6jk0hY3IFnLlZ5yNOwX7BAmaOLbBh7g3+HZeL2OTyebPRQgILR/Tgo4q6HZ2drh58yZ1ydRtDx48oDV9Y2NjczT8pgTcXIBcFbwALRUrUQXPKUkkTn2NtBtGJ1pmSIKiSTFb8ZtdC/Ty3IPQGRPgbasu+TNLMUBbcs3PayQq5ovGOxSEm8cSrIwYhrHyX2m/RyiOb2R3zIVlRgdDQHD3TQJpw4YNERoainbt2uVYhHOjjDTFZv4R2BbtE/STw2ks5LdktbTJ3n6z+Q6VFc/o7+QVNXSt8NG8BGulPTBJvo2Sv8+mGX7UiVc3BU9sDctGQOizzuSjZT8P2UX97WuXwW18iTw2eXH109/ouszjq6SsnOKO7/AdHG0LQMWrEK2IRF7bAngYfQutlozJLhbYujkQAaHlY7oKOlHMSbz5mDH6DzKpj07i0u/fT5kFNifhbkrAzQk3UmfXWmoFeVQclEoVZBErac1I0ohVPCJgIqI/xyBw9jp67YWsAkriHWaLnTHNS20Z12R6Jy+Gi1R9UFnyFL3jT2rZnBk7gNZlZ40hYA4IGOOsHzlyBJ6enggMDET9+vVhb2+vx6qjo6M5sJ4lGoyBW5YIyiGDz8xshuaqm3rcbBb/gEFeu/Dev5S2XBrJI1JfcRfFuI+IsHXW80xaHTYII+X71DIaBbFD0lHrAbXLtjX6+OzJIWgxNkyBgNBnnclHU+xazltj5wQZmjm0Q1yCHNeqPcRPw8elyeSv61ej6D/WKJOngrbf+agT6LV0Rs4Dh3GUbQgILR/TVdCXLVsGNzc3DB8+HM2aNaPuyiSuksSfL1iwIIXinm3IGGlhUwJuJBZMMu3xwFZok3AVyyU9MdZzPUJlLnDjt0HMKej6W+2+RwnFW7ROzCBMriV/mTQJoWwRhsBXEDDGWReJ1B+1SNOEepB/a0I/SBympTdj4GbpmAhB/7WAeqjN64cMkSRv/0aXgEy8Q7vEUav6aKm8ClsuAWEYDE+ZurwmaYvCR8ElRl0Ck2Rt/13cElNj1eXZSOy6k7fa3Z01hkBGEBD6rDP5mBHUWZ/kCFxz+xkFxUVxJ+oavl86MUMAvX39Gn/L1qG2Y2NwEOF37iDGhoZmaCzrxBDICAJCy8e01tRmcScJ4ebMmaONN9dkce/evXtGaLboPqYE3JKB0mQc3mPTHJeiS+AnyWXU4R/iPxRGabylpd1ec/lRFm+0bCaPl7Rk/hntlo+AMc46qYCRVmvVqpXFA2cM3CweFAEYeCirCt2yl2TKI1YNcDmhGrygTtxJ2mWuEurxak+2mTG94Be+VntvTugErUJ+nquKv2wbY1qcOr/IOnEXDPNS10lnjSGQEQSEPutMPmYEddZHF4H1Ll743r4LEnglDtkdxZiZwQYBtMLdA7bxIgxbwJRzg4BjndNFQGj5mNaCnFKp5HNDFuK0QDAl4Onuvhl3mBs2DlPkW6HgrXCfK0XrrZPyQCtFvTBUtRdFuEgt9edF1dBYdTtFSSAzZo+RlgsQYGc9c5vMcMscbumNeu1fFkV15CbpT2TnSVEjeCiTkni+4gugOPcBn3kx8gQklVQj/SOCXOGe2PeYVV1c5r7V/l4p6a7NK5IeLew+Q4AgwM664c8Bw8xwzNIacd5lI83O/uTzPXy3eISwk7PZGAJZQMCUZ51a0HNDlk2moGfhiUwcOsN9PJrlvY9Oygv0CrGYL5H2w1TPJTg3swmaqJKy/a+W/EjjIk9Y1UHrGWlbGMMDXGBlp8LoCaFwcHDIOqFsBobAVxAwhnA9depUmni3bNnS4vfDGLhZPCgCMPDFvwjsE0tYaqa7g9I4IG6DqbFJpdQ0956hMMrIHuitHOI3Dt4itZV8r00z3FZV0lboWCLtjQkeawSglE2RWxAQ+qwz+Zhbnhxh+Fzu4Y7OXFeaD+lg3F6MmhchzMRsFoaAAAgILR/TIokq6LkhyyZT0AV4MgFsnLMc0QkXYcvH46M8LzwSYyF3zeqOPvEn6CKknu8qSW9Mjd2EpyiCsrK0kwzekNVGTTxBmPUQeE5fKAyhbBaGQCoIGEO46sZYapbUjUVnMejsUUwNAV+X4Qgu+EuKW8RavkPaCW5yddUM3fYvVx7f+l/Vu7Z+5TI4vfCFDZeA7XZt8SSuFLygVu4XSvrD1XMF2wCGQIYREFpGMvmYYehZRwAnJ6xABYfq+J/8ORosGMAwYQiYFQJCy8d0FfTckGWTKegCP+M8TzJiaSddFjYU4xLLq91DKfyiakmtOiqeQ2BMP/hHfP0l8ZN/ceTlYlKUDxKYYjYdQ8Ao7pufPn3SQ1ahUODKlSuYMWMGgoODc0T5NVP+Ucotj+ks37HwsVGXQ9NtxDNptbQHJsp3IYa3g1THwn5WVB3N/P5OMeaVf3nqAk9izl99KQgfK7WCPlcyEFM8l+UWSBmfAiAg9Fln8lGATcklU6wPDUSrD81oTfMTnw9h0GLDYs9zCUyMzWxEQGj5mK6CnhuybDIF3bhP9JzQidRiTtop0bdo6fcXovyLw5GLQbjNUHj4LtASQFwy7aQcYj6JYGMrhie3it5jCeWMu0dsdtPGVxLXzsmTJ+PSJf0615a4D6b8o2SJ+GSG5jDZRHjqJILTnWONuCtGxO7HExRFOSTFnP9hVR/tZ/yZYrl/A+rgW/4xlkl64n2UA6bbqBX0OeJBmOq1JDPksTG5FAFTnXUmH3PpA5YG24fGzUPNvA0QGf8Ohd2boGjx4gwkhoBZIWAq+UiYpi7uuSHLJlPQjfuM675skjJBP/nuxz1ZdVTGC8yVOMEeX/BR7gCpNB6jvvwKCRePxZI+iI62hbe12pWTJTQy7h6x2U2roN++fRskfOjz588WD70p/yhZPFhfYYBPUFGvI06k9jwKD3LVSwSnO4zEkndTnAXJyt6Yv6O9Ra/7Hkyxwt7gTrT/HMkgmhNE4V+AurzPthuCad4sbCinPlPG4MtUZ53JR2PsnuXOefqPgyh6GJBY58GFqFP4aamv5TLDKM+xCJhKPlIFXaFQ8MQNk9RAL126dI4FlSnoxt3azfNXofvHGXDg5Fgr6YLhnltxdmZTNFPd0lqBSGy6DRKock7abzbf4Z6qAjwS1NmKN4t/wCCvXcYllM2eqxEwhnD9999/9TAl9c9fvXqF0NBQEHf3M2fOWDzmxsDN4kExkAGikA9UHsBvkjaY6Lkas2e5YFr8RiTwHKw4ns4WzUuoDL3EVUZ9/h5+t26Mzsrz2pW227ZFf59fU6wc6DsekjwiONpUwuhpk/DRvyTyc58RbjMEHr5MQTdwq3J1d6HPOpOPufpxyjDzv44PRkPHlohRfsabDsB37TtleCzryBAwFQJCy8e06KYWdJI5+/r16yhXrpypeDSrdUwJuFkxLjAx1wLqoTb/EIukfeHisQr7gzugq+LcV1e5gXI4aNcS7nFqd8xfbVqgp+/+dKnaungtPsacQYzCHu7s5TNdvFiHJASMcdZJiBBJCkcUc93WpEkTrF27FlWrVrX4LTAGbhYPioEMaNzQ6TDZJ8wNHY8psVtwDyUhQTzecvngwMegEl7gLZ8XhblP2Gr3PQbGHdWutEHcCUO8tqe78pLw4Sis/ACFw49wcmFlitIFjHXQIiD0WWfykT1cGUHg+uRfkd+uEG58+gcdl03OyBDWhyFgcgSElo/pKug9evQA+W/o0KFZZnbp0qWIiIigFqQaNWpg/vz5aNGixVfnjYyMhK+vL3bv3o2PHz+ifPnymDNnDjp37kzHkI8GT58+TTF+/PjxWLJEHVvXunVrJHfT79evH7ZvT/9Fhow3JeBZBtiMJ5gbNh5VFQ9wVf4NfIKXY0tIHzjFHUlBMU10pLqFON4aS6R9aW110o5Z1UO7GcfT5XD2rImYFr8J17gKqO1/Od3+rANDQIOAMc56cvlEXkgLFy4MUr4ypzRj4JZTsMkoHy/9y6ME90HdXfYJC8LGYJJ8O3VjPxRdA9Y29ugoPkct55pGw37ke/R/e6Ysv5ZRGlg/hkB6CAh91pl8TA9xdn/F1CnoYtMTCXwCjuc7jqHeAQwUhoBZIiC0fEyLSWpBX7FiBWQyGZycnFC/fn3Y29vrjenWrVuGgNqxYwcGDx4MoqQ3b94cZN7Vq1fj1q1bKFOmTIo54uPjab8iRYrAx8cHpUqVwn///UdrYdeuXZv2f/v2LXTLFN24cQPt27fH8ePHqWJOGvl/5cqVMXPmTO0aEokEefPmzRDdpgQ8QwTlkE4rwoZgjPy3FNzMkw7EiC+/wpGTY7PdDxiUqMRTt07/i6lyH+Q1CVXKNUSfsYMwP3wc3GK24n98fhQLeJJD0GJsmAIBdtYzhzLDLXO46Y6K9C+BfNwX9SXZJywOG4GJ8p9x3KoO2sw4SS//GdgabROuaIctkAzAJHlSpvfF0t6YyOqaZ30z2AxfRYCddcMfDoaZ4Zjpjjg4bi5q5W2I1/LnqM9Kq2UNTDbaqAiY8qxTBT21OpUaDonrZkbr+DZu3Bj16tXDsmVJZV2qVatGrfMhISEpQFu+fDm1tt+5cwc2NjYZAtXNzQ379+/H/fv3qVupRkGvU6cOtdZnppkS8MzQZ6ljFoSN1Xu5JHzE81YIjeuNjpKraMTfBa3ryz+mLD5EcVSQJSVE0vAd5D0Rve1OgAeHPcpOyOPwgZYgIuWIxAHvLBUeRnc2IGCMs+7q6oqKFSuC/F+3LV68GA8ePMi0XMoGeNhLuxFBj/UvBDGnUK8g+4SVYc7UOn7Augm6TD9ML2uSvWnImG03GNPi1NUxSFsg6Y9JrK65EXeJTS20jGTykT1T6SFwxW0nCouL4+qnv9F1mUd63dl9hkC2ISC0fEyLEaqgC8EpsYZLpVLs2rULPXv21E45adIkXL16NYULOulA3NgLFChAx+3Zs4e6hQ4cOBCenp6wsrJKQRZZo0SJEpgyZQq1uGsasaDfvHmTxoAWLVoUnTp1gr+/P7XEp9bi4uJA/tM0AjhJkEfqdTo6OgoBB5uDlPgJdcHU2CR3TJLw6JlNCQyesgT7Igahf7x+uaCPfB7kD3iRArvZIa6YFqdOJBeOwXCUfMbYxJrrM2P7wC90NcObIZAhBIwhXEuWLIm9e/dS7yPddvnyZRDvo+fPn2eINnPuZAzczJlfo9Am0/Hokn3C+tD+GBp7ED/btkJvn710yXWhAzEs9oB2eVKiclL8ZthxSnptrtgJU7yWGoU8NilDgCAg9Fln8pE9V2khsCZoOtpHt4eIE2E/9mBs6GwGGEPAbBEQWj6mxSgXGRnJa1zBSTb3CRMmIF++fHTM+/fvafw4cVFPr718+RJEEJOMxc2aNdN2nzVrFjZs2IC7d++mmIIkT3ry5Al1rScx5cQqTtYnSr2fn1+K/jt37qQK/LNnz6iirmmrVq2isevFihUDcYH39vamFq0//vgjVbKJO39AQMoYF6agp7fLht0PC3SFZ2KG9kjeHo6y51QIk7Y4bCS1gus2Fc8hVOEMn1n6WYc1libSl5QNKsC9w/DEl9gwDIanbLFhhLHeuRYBYwhXEmtO5A6RObqNWM9r1qyJ2NhYi8fbGLhZPCiGMpBMQd8W8hMGxB1Th/l4q2UhyeMxRa4uO0laKJwxnt9Fw4Go/LMdjGk+TN4ZCj3rn3EEhD7rTD5mHPvc2FOTvf1j3DvUmpdk3MuNWDCezR8BoeVjWhxzr1+/5kkMOGnEekys3d988w39/fr1a6oIZ8TFXaOgnz17Fk2bNtWuSZT+TZs2UTf25I3EjZOX18ePH2st5nPnztUmmUvev0OHDrC1tcW+ffvS3MVLly6hQYMGIP8nLvfJG7Ogm+YQBHiNgb9YnajvFsqiuiypHJUm0VtySsL4wfAM0H8BPRbYBu0S1Mng5kv7o3DCezjFqT++RFg7w336ItMwxFaxeASMIVyJEj527FhMnDhRD59FixbRcJ+MfOA0d2CNgZu58ywkfXOCAzBVMTdpStkn/BbcBT0Up7FG3BUjvNRKeajMBV5I8jryj+2LiXaHaUZ30sKth8Jj+gIhSWNzMQT0EBD6rDP5yB6wtBA477oJJaXlcDvqCtov1Q8TY8gxBMwNAaHlY1r86SnoxCX82rVrmVLQM+Pi3qpVKxp7fvRoUhmZgwcPUtd3okQTZVzTSCZQ8uGAZHvv3r17mntGXN3t7OzohwGSzT29ZkrA06Mlp92P8i9GrT/HrOqi3YwTWvZCfCfA22ZzCnaJS6eHb9IL6K+rt6Dlf54oyEXTviukPVBI+QG94k/R37PFzpjmxRT0nPbcGIsfY5x1UkqNKOfu7u5o27YtJf3YsWO0GgXJizFq1ChjsWOyeY2Bm8mIN4OFZs1wgY9VkuIt+9wbTfM9RQflRSyT9MQ4z/VJVCaztD+XVUApqHNthGIwvJjHkBnsaM4lQeizzuRjzn1WssrZ4V2bUOViSViLbHBEvg/DF4RndUo2niFgVASElo9pESuYgk4WIUniSBwmyeKuadWrV6cKdWpJ4kgc+datW/Ho0SNoEtUtWLAAYWFhIBZ53Ubc0klWeJLl3draOs0NIO6mtWrVonHvLVu2THezTAl4usTksA4PZVVRAa+ww7Yt+vn8qsfdB/+SKMB91ruWXOEOD3aFh0Idf07aNrvvkS8hCp2UF+hvkhF+skdSUsIcBh9jR2AEjHXWiaWceAtp5BYpD0lklrOzs8AcZM90xsIte7gx/arhQZPgoUxSwkPindBCfA3fqW5gobQvXD1WaYl67V8WRblI9W/ZJ+gq6IEKJ8wIZjHopt/B3LOiMc46k4+55/kxhNNtE/zQwqE9YpTRyDulDorqhK4aMg/ryxAwFQLGkI9fo5178+YNT5KzkUYs6P/++y+N5ybNEBd30l9TZo1kZydu7itXrgSJDycJ3MqWLUtfVkmcukZZJ8o2UeBJ/XUXFxcagz58+HCaDZnURtc0lUpFaRowYABCQ0P1eHn48CG2bNlCre6FChWi7qRTp04FKbN28eLFVJPNJQfDlICb6iEyl3XOz2yCxqrboPV8k9XvvRzQAPX4+5TUBJ6DFcdjnnQAJnsspwnmHLlIKGGNcfLdWnYOWTeERBWPVqpr9NpiSW9M9FxjLuwyOswcAWOfdVIWksiePHnymDkShpFnbNwMo8byes8JnYipsUnZ2Emyy/bc36jLP8B8yUC4eSZ9ZLwU0AD1E+UiUdB1FfZFjl5wmeJteQAwii0GAWOedSYfLeYxMAmhf01YjfIOVfAw+jZaLRltkjXZIgyBrCBgTPmYnC6uc+fOPHEHJ43EdhMXTU0ddOJmfujQoQzFoGsmJtbz8PBwvHr1iiZImjdvntaKTbKtE8vS+vVJloS///4bkydPprHvRHkfMWJEiizuR44cAYk/J4nmSNy6biNK/qBBg2iSps+fP9Ns7F26dKFZ3EmG+Iw0UwKeEXpyUh+SDK6T/DR+tv4BntP1k7/plhR6iiIoizeU9bmSgZgi36oHwy2UQXU8w2WuElTg0IC/R++vknTDKM+kF1/NoDkzfQHbSHyJVMAvdGVOgpTxkgUEjHHWSQ4NpVKJSpUq6VFGPjiSEB4i8yy9GQM3S8fEEPoXhI3BJLk6Hwdp4TbO6KE4hsp4gTniQZjqtUR7b174WEyO2YYrXEXU9b8EPU8jmToWnTWGgLEQEPqsM/lorJ2y7Hn/e3gHscseQ2KdByejD8NpSZBlM8SozxUICC0f0wKNGzp0aLpl1tatW5ejgTcl4DkayFSYS1DxsBKp69Unb2tCnTAidj+9TCzjHZUX6b8vcZWSLEiJg1ZIemCM/De8QEFEwR7V8Ize0c2ArDv/wvDRcI3ZgV22rdHHZ09ug53x+xUEjHHWSS4N4vkzZMgQvVU3b96M1atX48SJpNwLlroxxsDNUrHICN0kD0pkXCTyi/PT7svDh2BszG/aoRG2Q+AUtw8luA+IsHWGu09SHg15dDyWLJ4CxWce3sFLEO1fDA6JWdyJRZ01hoAxERD6rDP5aMzdsty5103yRHtJVyhUcXjS/CPadO9jucwwynMNAkLLx7SAE6wOuiXvjikBt2SchKZ9UfgouMTspNOS5EdVbJ6gp+IvfOKlyMvFaJeL5iVYyvWGJzZByYvwmsuPknhP7++2aYGffNVKPmlR8VFwsHHArpAe6Bt/Av9y5fGt/1UoU8g3VAAAIABJREFUFAr8sWsvOg/sJTQbbD4LQsAYZ51UvyA1z1Mrs0aqSURGJsYTWxBOyUk1Bm4WDEe6pEcEueKHhL9wTNwUUzyXYlNoXwyOPawdN0c8GKPkP9MEmmHWQ1J4F+kuEOtfCGJOob7EFPR0sWcdsoaA0Gedyces7UdOHX10/GJUdayN518eo8minJGrJafuFeMrCQGh5WNa2DIFnSh1UVEgteBZHXTTHsPZIRMxLU7tnr6z6EI8en0RXkjprn7cqg4ui5piUvwKWHMqPSKPWDXADzOOaa/tnvUjCis/QszHoyF/F595MU5VXoJHzw+hX8xhrLfrCXcffVd7zeAg3/GwlVpj0uQ5sJPaGAyGXC7HvKApmDJjHkjtV9bMDwFjnHUiO4iVvG7dunoMkzKPJKwnOlpdgcCSmzFws2Q80qM9wT8fzanxls+LwgHPtCXVNONIGI9bzDaIOB7BGARfWZKLe/K5Vf75aD/amIKeHvTsfhYREPqsM/mYxQ3JocNvTPkN+WwL4sKnk/hp2fQcyiVjK6chILR8TAsfpqAzBT3bzs/OJesRH30An0QOGD95NSKCPTGZXwMbLkFLE7GYL5T2xxTPZXgh+0ZrOdd0OCeqhiZ+5+jPEL9x8Bbpx66T67Q0UaLi/xyFUEr2MFWeT89sTrMqk/hQD1/DS7eRRFCT5FuwTto11bj4bAOaLaxFwBjCtWvXrpBKpdi2bZs2KWVCQgIt8fjlyxeQ0pGW3oyBm6Vjkhr9a0MHomHcLdTiH9Pb5ANhnoDX+DOwNdomXNEOWSztjYkxP9PfQbH9MT10xdfhSFZ2LSfixngyHwSEPutCy0eS5ygiIoLmOapRowYtZdmiRYtUAST5joYNG5biHvmYrvmITqptBAQE6PUpWrQo/ve//2V4U4TGLMMLW2jH5R5T0VXUAypehT/z/omhPvr4WyhbjOxcgIApzzpT0JmCblZHSrek0BlRDdzKPxCjXCZSGvWyGydSfRtlUE12nf6aGzYuRXI5cn2OZBCmynVqrqdihfrjl71o/O8YOHIxWCDpj0meabwwJ64dH6vEovluUCpE8Ji+AGvDBtGYemLxbzPjpFnhyohRI2AM4UoqR5Byjvny5dO+KP7111/UI+f48eM0WaalN2PgZumYJKd/w+xlcIr20fPyieIl2JM3ANWiV2sTW5Jx68SdMSz2dxqyc7PzYdRu3Igp6DntgbBQfoQ+60LKR02lIKKkN2/enJbeJXk+yBplypRJgThR0CdNmkQTDOu2YsWKaX8SBf3nn3/G0aNHtdesrKygqW6UkW0UGrOMrGnJfQ6Mm43aeRvjjfwl6i3oZ8msMNpzGQKmPOtMQTfSS3sue2YFY/efgIbaF9m9Ns3QzTfJ+rgvuBN+VJxNsdZyaQ9ERhdCKekzDIo7kuL+MklPjJPr1GBPRUEPmT4e3tZb6NjUSsKlxqCmtrHmI8GWkF5wijuKi1wVNPRX12lnzbwQMJZwJfXPFy9ejGvXrtEya99++y0tHfn06VPUqVPHvEDIBDXGwi0TpJjtkJleY+En3kbpi+HtIOXi6L9DFIPQy+YEKuM53vGOKMRFYbdtS/wUfwqRvD3yBbxMmydmQTfbPc+JhBnjrAslHxs3box69eqB1FXXtGrVqqFHjx7a8r26e0IUdDc3tzTzgBAF/bfffqOVhDLbjIFZZmmxhHGX3XagiLgErn06hy7L3C2BZEYjQ4AiYMqzzhR0EwPOnvG0Efg96Ad0Vp6nnTaKO8DZS51EjrS1YQMxXH4g1QnmSweimfwSGvH6X8pJ559tW6F3fJJFe32pYAwdqbbKa1pEiAvc4zbSn9vt2qKf124sCJ9Af49zmwdNKULdMZokd6SG+3zr0agguokeitO4i1KoIrvJttoMETCFcCVJ4bZs2YK1a9fSlz7i7m7pzRS4WTpGYbKJ2kSWW+CCzliPwtwnmqV9cNw+FOM+4jpXnrq/n7Cqg9YJV/EfCqO07EGarO8P7oCuinM4bN0QHaYnWfksHS9Gv3kiYOyznln5GB8fT0OJdu3ahZ49e2rBIxZyImdPnkzptUYU9JEjR9ISvkQOk4+lgYGBevlCiIJOXOZJrDz5O08+AsyaNQvffPNNhjfI2JhlmBAL6Lg+fCbavm8FESfCfuVvGDt7jgVQzUhkCKgRMOVZZwq6iQFnD3naCGwJ6QOnRCv4MkkvjPNcqx2wIHwMJsWoawmTzO7a0kPUZbQLBsiPJGU7JvvKS6nL+nlRNdRKeKS1aIVzQ+Hhv0CPkIVhY+CaWKeYvAj/I68AXxv1WrMSnOETmDImXZfWcOshqMPfxA8J/+AVXwDFA9QxqKyZFwLGFK5//vknVcp3796NsmXLolevXvS/5MnjzAuRjFFjTNwyRoH59woPngQPxXp85PMgf8ALXAmoj7r8A8yTDsDYL79AwsXjmFU9tEu4jBsoh5p4At0Qna9xGOA1Bo4FOER/APxCl5s/EIxCi0bAWGc9q/KRWOGJon3mzBk0a9ZMizFRpjds2JDCjZ10OHfuHB48eIBatWrRF+sFCxbg999/p55OlSpVonOQHCExMTGoXLkyXr9+jaCgINy5cwc3b95EwYIFU93LuLg4kP80jcxdunRplmg4A0/+L+OC0DhvK3yK/4Aac7tnYATrwhAwHwSMJR9T45Ap6ExBN58nH8CysKFad/T5Eie4eS7V0hcxyxXu8Rvo7/soiXz8Z2qhon+ISbI41W3qMvpQVILWUT9g3QRdlOfwlndEYS5KO88c8SBM9dLPmqxrnSd12P/gm2gTy30tadzxwFZok6B2i5srcULTuCtoqrqldm8NeGNWuDJi1AgILVyfP38OYqUhijlJCNe3b18sX76cvgBWr149x8AuNG45BhgdRmaHuGJa3AY8Q2GUkT2AxhtorbgLhseqPX922rZB3/jjeMPnQxEuEv9wldHA/2JOhIPxZKEICHnWhZSPGgX97NmzaNq0qRbd4OBgbNq0iSrV6TWVSkVd5EnOkIULU6/mQuR4hQoV4OHhgSlTpqQ6ZWqJ5UhHVgkovR0AzrlsQCn7b3A36hraLdX3ZEx/NOvBEMheBISUj+lxwhR0I7y0pwc6u/91BOaHjYebXB0LTlxD3X2SLNchPuPhbau+RyxP+6zaoIroAborzmhjPq9wFXHMphkq8o9wDxXgoVAr9Lptk7gDnkQXwozgJOVfN779BQphi3UXeCjVY0nN4qlei1PM80RWGeXwml5fIe2B72Kuogae0N9zbcZiim8Y22ozQ0BI4dq5c2ecPn0aJEuxk5MTOnbsSLO429jYZElBZ1mKzeyhySA5c0InYGrsZtxCWVSX/autff6HVX20T7gEFc9hrbQrRsr3aWc8KaqNVn6nMrgC68YQMD4CQslIoeVjZlzcU0Nr1KhRIB8O0qqu0b59e1SsWFEv1l13LmZBz9xz+NfhvSh1TAobkR3+iNmPYQvZO1LmkGSjsgsBoeRjRuhnCjpT0DPynJisT8QsF7jHq2PBQ+EML1ky1/LEhEmv+XwoGvAUum7vZMwh60boOP0POj7Ebwq8RWtSpf0OSqOi33VYizh6/1JAQ9Tn79F/K3grLBAP1NZoXyzpg4meq/XmCZk+EZ5Wm7X1iUmce+P4WyiNt7RfGD8YngEplXqTAckWShUBIYWrtbU1XF1dMW7cOK27JFk0Kwo6y1JsXg/uar+ZiJS+RfwXpBrmokvtgrAxmCTfjgtcFTTyv4DF4SNoKTVqUcdb6vq+XfoDxsl3a4cdtG6ETonyyrw4Z9TkVgSEkpHGkI8kPrx+/fogHzE1jXgqde/ePdUkccn3kOd5NGrUiLq8E6+n1BpRvokFffTo0fDz88vQYyAUZhlazII7/Tx+Jpo4toFc+QX8yNKoXLWGBXPDSM+NCJjyrDMFnSnoZnXGZvmOxVTrXYiFLVZwg+Ahi9CnL1FBJ+WJrAM+YnaoC6bFqhV60rbY/QAn713a3+/9S6EgF50qj0tLBGH8aBd6741/WepyqmlUKZer51kj7ooRXmrLvaZFBLvCXcc6T0rC1Up4TGPeSSMx6R7TU3ehMyvAcxkxQgrXv//+m77k7dy5E1WrVsXgwYNp7fMSJUpk2oLOshSb1wM5J9QFU2M3glrBZ/yZJnEahVxTZnFO6ERMjd2kHfMERbFP2gouMUmJL2k2d58ki7p5cc+oyY0ICCUjjSEfNR8wSRgRcXNfuXIlVq1aRePFSd4PZ2dnGqceEhJCt47UN2/SpAn9gEr4Im7txB2exLETRZ20adOm4ccff6Rl2t68eUNj0EnCuevXr9M5M9KEwiwja1lqn71b16HypSLIY+OI21FX0H6pq6WywujOxQiY8qwzBZ0p6GZ11MgXbvJSzPMcXNznQ2xjpU9fspJDYUGu8Ex0RScdl0l+wjjPddox92Q1aHkj0kh29QPiVpgSq1a2NcnfgnzGYLqtOiHcF94O9lwcttm1w4C4Y/QazQLvs1ePDk1SOU05pRcoiJJ4r+0TYecMd++UieXMCuxcSIwxhCtJMLR9+3aqrF+4cIFmC547dy6GDx8OBweHDKOcGRdOY2UpZi6c6m3TKN0at/W0NnNlmDNGy/dgv00TdPU9jLBAV3gmJIXY/MuVxzFJE0yOUZdiI22L3fdw8v4lw88I68gQMDYCQstIoeSjhm9iPQ8PD8erV69Qs2ZNzJs3j8aUk9a6dWuUK1eO5gUhbfLkyTRp5//+9z+apZ0k7CTx47ox7P3798epU6fw7t07WvucKPQk07shOUSExszYe5wd8x8eNx818tZHjDIa16o8Qp9RLP48O/aBrZk1BEx51pmCzhT0rD2tJh69JaQ3nOL+wFa77zHQ+xfM9BoNP/EOLRUkWdsUncRyZ2c2RTPVLXpfU5881r8QzfauyeYeEeQKd+UG6oL6XFSYlkE6I6qJ5qobdBwpidRy+gmIOLU7PH2xTqTjqFV9fJ9wKQUKc8VOmOKV5IZnYphy5HIkec+2FRMQZ18UE8ZkLnbN2ML17t27WLNmDbXSkHJCJJZx7179jztf2xxzylLMkiCpd2lNqBNGxO7XJn5L62BtCO2PIbEHscu2Nfr47EGInxs8ufXaMBgiU87Z1qFx6pq2VtIFwz235sjzypiyTASMKSOzIh/NGU1jYmYOfJO/vSR0y9bWNlPkLPPxQEdlB9iIbHH+00n0WjY9U/OwQQyB7EbAlGedKehMQc/u592g9YO8J0DsIEJMpBJ+4cvo2M/+RZGHi6X/jrB2hvv0JMv1gaAONJM7aX9a1UXbGSfw2r8sinKRINncJSI5lLCGa8wOXOO+wTtRXrRLuIL/8flp3WLS4nhrXLSqir+t62mT1l0OaIB6/H0skvbF0C/79Eq+kTELpP0xyWOFQbyxzmkj8PvJXeh8fCQ0+Qcyg5ephCuxou/bt49a1Q1V0M0hSzGzoKufrm0hP1FPmg98HhQIeJHmI7djVk/0i/8TJAnlYK//s3cW4E0efxz/pt5CizsMGG7DXTcGw92lxaVGoSU1aJIClZRCkeLDdbgMGWx/YLhsyIYMHy4b3lST/3P39k2TNm3yVrKkuXuePWve3N37u8+9d+T33k84M/ZnksooK/qX/k3iY/xhXUMd24JcW+bUB5PEGQNZZufZZm0YgdwgYIw9Mjv7Y26MLa/6MAazvJJdX79bPUNQz64R3iS8wj8tgH4jJ+hrkuH7055rULFgVbyJf4HS01uhdLlygvtgDRgBUyBgzLXOFHSmoJvCM58jGR5Ia6AyXtA+0ucs539gk+/227ZCz+BDuCOtjWp4ShVve1Gy+t4kYNMnKycMTDyuUx7ezDU82AO+NltgJ0qBXOSKbqqTNKexZkmfwz1HA2SNKYFNO+dj+HUp4lW2cJC9yRYVY26uQgXMjom7rnvkRpTi9P2aMjehnIXUPzDnO/RIOkcDR65zkGJcYOZ+k/vmdEWvpDNY5dgT4/y5U/KLsmZoqrpN/yauMg+Ulai1Dl90BaAUIh+rywjkNgFLXes54ZgfmW1cKEfF20VR2bmGGs3bhDc4bXUKk6KjDca12tsfnZ160PpHFfsxeoHc4LasIiNgagSMudaZgs4UdFN7/gXLc17WHM1Vt/BB5QQX2XOt9isjR2K8gjMx3mr3DYYE7QZ/+p3+RusduiAJNtSkVVe5hzKoIr2FueGe9BSMnOTearoMiivz0CX5glYTXYHlBA+MNdBmul6Csfdj6LWEoJewt3MQTMiYm6tg4QCwKMXZoZZ3bX4NbYO2yuv0BqFx/REi1x35mXz/86yv0THlNyxx6g93MVdPM30jOVl/El8a/qr1arP3+U5DMVW8LO8GwHpmBAQSMPU9UuBwjFI9vzFb6xWA5nZt4GxbiPJ7+OkvlHYsDwdrJyQqE3Dx8ykMjpXqZfvi6VO8jDqLYg6l8OjTHbRePEZvG1aBETBlAsZc60xBZwq6Ka8Fg2Q7NLsTuiZfoLnRa0m5H9N8WSQfr46avNahK0YFbMXJ0LZop7yWoW9ymqUSibSiLGtW4nMW836pR2ya4rsZx7AuYjDc4g9r9WdKwZ9INOn2Cefxi3VLs44sv3L5NIx/zqXNezL5KsqXqmTQ86FZyZibq2DhALAoxdmhlndt/pDWV1vHyEGySsRmerOzoS3RUnkDCx2HwNufc29ZGzEEo+IP0b9XOvaG29RVOCbvgW7J5+k14mbjG5B5n3k3MtYzI6CbgKnvkaY4b/mF2bF924HDL1HduR6sRFb4nPwRF+JPYeTiMCwJ8EOr+OYo7lCaTsGdj3/Apk8ltO3UNdMp2ek+C81dOiBJmYjDtj9h8pzsxY4xxTlnMlkmAWOudaagMwXd7FcZb8ZOgrl1mHlCazzzItzVUdt5f8+DszurfyBrVo52cAWg1AripPn9JVF1NJFcxOnQ1jSA3DLHvpjkvxYL5ROoD7tm2WPbBn2Cf8wVtksjx8BOlYAhk1ejQCF74X2mRr5/guIoL70nvL2JtFi1cCLG/ctF27824hd8VbWxYMmMubkKFi61AYtSnF1yud/uqbQKyoFzp4i0cYN/FqkTr8sa0ACTmoEqF0eOU6dr5M3Z5bO9IU41c2fZHnJ/zliPOSNgDntkzkaY+63zA7Nl06ahtaoNitiXoIAefbqLG2UfYHxQqBrYr0cPIWn3Q1R3qUuvEZ/yMw7n4R4xNwPU7SsXo/7tKnCyKYg/3l9Cl6VTcx8865ERMDIBY651pqAzBd3Ij3fu326BfCKmxG3Vm698odMgeItXYkdYLwxI1FbkiVQRGAkrWyuINfKb04BkqfnRb6ECdiW1g5/NVs7/3NYN4uCFmBvuBb+EtFzspK+frJug80wuTVtOyspFYRj9Jgo2IiUi4IoAaTZSt6VLTZcTef7LtuuiR8DtI5cz+nTv7WjdsLNgcYy5uQoWzoQbWCo3haQEHEWJdGai7NwwPWhhprP0UFodlfAScx1c4RfArdO5EZ7wS82FPt9pGKaKucCWS+RjUDrpFW4lVkKQbLEJzzwTzdIIWOpaz8k8mzuzHe6z0LhgKxplPSFFgd/izmFgbEimSLZ5SNG0QBvYWdkjWZmEfxJe4mXiMzx2eI5evj4oU748jrovQi2XBviU9B73mr9F90Ejc4KYtWUETIKAMdc6U9CZgm4SD31OhFi3ZCOevzoPh8KV4OPjq9VVhNQLAeCU53mOwzDNfyk2RAzCyPgjWvUUKjucqrcKF38/giBbLk86/YFtPxIiKxV8FRvxFMWx06kjPS2/g3KoJuXSt4XPdEegNdfmjcoFxUUfcNaqNlqGnM3JsGhbTfmJLH6B2fgxn08U9G2R/TFYcYxyOfLtSnzXZpBgvsbcXAULZ8INLJGbJGAiZA6cxQYp+szR30gq0LWvmUkiQuaJANWG1PYj4RvArV+lMgFWVtmwhjHhZ4SJlj8IWOJaz+nMmSuzg9s3oMBxBao416IIXsU/w1mHC/CI0B8EbpmvL1opW6GofUktfCTP+av45yjvVBk2VrY48/FnDDLAXz2nc8DaMwLGIGDMtZ7rCjoxz4yKisLz589Rp04dxMTEoG3btplyI7mCg4ODsWvXLrx9+xaVK1dGdHQ0unXrRtvoysdbqlQpvHjBRe0mRaVSQSaTYcWKFbQPEmgpNjaW3t+QYkzghsjD6uQegWiZP6Yql9OgTMSE3TdgETQDx/F3+gvlUV36J/34UVJanTZNbusKlUoE/+R1+KByxHmb2uiUchnrHLrALSDNrP2dpCwKiz7jiqgKGqju4U9UQh3pVb0DiZrtBUdbBWrW7INve3ORTjVLVJg3pidyUZ81fVsz65j4mzdJvIbzqoYQSxZw1fKJgr4/rBt6Jp6mQ9rTci76fDdeL9/0FdhaF4yMNrBEbnLZFIhVa9XANE/AdVGMlxSHgygJESJXBEi4E/TQAC8E2m+CrSgFUbZumB6c+Ql89maGtWIEcpeAJa71nBI0R2ZLfKehjbK1WsG+9eEqSoxuiPpNWxuM48mju/gxZhkqxJdGSbtyKG5fiirlfHmleIay4jYsrZrBRFlFUydgzLWeqwo6H+CIKOmtW7fG8uXLsWrVKty4cQNffPFFBu4krRCpV7JkSQQFBaF8+fJ4/PgxnJ2dUb9+fU63kEqxY8cOHDvGnZyRYm1tjRIlOD8ZUiIjIzFnzhysXbsW1atXx+zZs3Hy5Encvn2b9qWvGBO4PlnY97lP4Im0CsrjDU2JJpYswmL5WHjG7VDfiKTt2unwNYYHbqfX+DRs5G9iVq6CCIHglGSa4kuUhCg7V3VOdHL9qqwR6qvugaRqIwHrHqMEKkjv6h9MqvIc4zQUPjqiOc+LdMc0BXc6r5m+KbOOkyRFqTJwVVQF9SW/0WqaZrqQvtcvk4nW+Hn21+iYzI1pWwMZBvfxESwpW+uCkdEGlshN8+UYYZBVSrSQgHEIdeD2j7CkoQiakxaZfVdYT1RJeoKdisYIjViVvQlgrRgBIxGwxLWeU7TmxEylVGKrlxTNnNrC3tqBmrRfiDuFobFpvubZ5bF74xrEnb2HcqpycLJxxiXb3+EuICVbdu/L2jECxiJgzLWeqwo6Oblu1KgRli7l/OxIqVWrFvr06YPw8PAM/JYtW0ZP22/dugVb27S3bpoViYK+Z88eXLlyRSd/cnpetmxZ+Pj4wN/fn9ZJSEgAOWUnivvEiRP1zpsxgesVhlXIdQJR4V6ws0qC56QFsC5kjxj5RPjEcaart1EeO+LbIyBsEaytrOm106Gt0FrJnabPThoBKwBBtlxeY77E2LjDZ0baM706chiGxf2EZU4D4R23hZ7Y6/JZJTnUXQrF4+NHZwTMilGfbm+364CBQXszjD1WPhYeqS8TSB7lAUFcyrhMi47T8leSiiiZ6kd/vM1mdPi2e64zNkaHF2TN0Cw1p/SmmmIMHxIs+LZsrQtGRhtYIrfoSA/q2sIXPsikLoKREk/4izhTdqliJKSRaa4oyUkpsLHl9hZWGAFTJ2CJaz2nc2JOzH5yX4DaLo3okP9NeIVfrc/AY65+k/bsMCK/z0UiUXaasjaMgEkSMOZazzUFnZyGOzk5Yfv27ejbt68a7JQpU6hyfeJExqBcxIy9aNGitN3evXvpqfiwYcOook1OyemPHamUKvGFChWCvb09NV8PCwvDl19+Sb+/f/8+qlSpgt9++w0NGzZU37d3794oXLgw1q3jTj41C1HgyX98IcArVKiA9+/fw8XFxSQfCiZU7hHQ/OF9zqoWWoSc0+p835yu6JV0hjstl3ERnBMkxWAvSqZ/v1UVRBHZU602ye8TMH9eAKbOnIPDkX3RI+kcTlvVResQziSbL3ykZ3UatlSF+oBtS/QI1k7VRtqsiRiG0fFcNHiS5s2+tQy/Xd6AuBQn3f7oGgr6/nqL0bP/SPDBq0gfUXDDdKl5mtnelNZDLfxNWWz40hMjXecIfiiMubkKFs6EG1git4Xy8fCO+0E9K6sdu2OM/2adsySf5Q1xyjp8VDnCWZbmfmXCU8pEYwR0ErDEtZ7TR8FcmG30DEaHgl3ocO99vIGkzkXwbW/hsVxyyou1ZwTMlYAx13quKejPnj1DuXLlcPr0abRq1UrNnijTREkm5ubpS82aNfHw4UMMHz4c7u7uuHPnDjw8PECU+pAQLoLkoUOHEBcXR03XX758Sc3XyYn7n3/+iWLFiuHMmTPUTP7p06f0JJ0vEyZMwKNHj3DkiHYwMPK9Lr92cp0p6Oa6ZITJrWm6etimKbrMSHOfID2tjxgE1/gjeK0qhBIyTiF8LamAEqIP9O+/UA7VUwPE6bozCew2TbWJRnqPtHaD/0wNhVgj5dnBImMw4a2cdvGzdSN0nPm/DN1pRpwnp/37bDpievI6PEBpVJZmXFNxkpJwEnEvn3gzfM1UUebsB/tU+iXK4R86tvXlx8J13DxhE2+hJ8GCIeloYMx/lHJD3tzoY0WkKyYo0qxaNtt/i2GBO3V2HRXmhemJ6/FcVRSFQu7ByZrY3bDCCJgfAUtc6zmdJXNgtmfd96hxrSScbQvj3sebaB87IafDZu0ZAYsjYMy1nusKOlGYW7ZsqZ404hu+YcMGqlSnL0Tpjo+Px4MHD9Qn5vPmzVMHmdM1858/f6Yn5mKxGNOmTVMr6OQFQZkyZdRNxo8fT/3ZDx/OeCrJTtAtbk1pDZg/7SIXdZmWkxRI7nE7cQ9lUEXKPbcPpDVQGdzJmK5T9/RE70lrogqea6Vckks9IQZnBntZVA0/JbdEoDUXYT6zqO8/z/oaHVM4v2sSpG6VUz/qk56ossat7kfwVbOm6lsvmOOPKUlpvq9LHftisv9a8NGlScVoxxHw9Y/V+wAsjJwIG1ES3DwWoUCBAnrrG6OCZvC+DSWHYaR7miuNofc35uZqqEzmUM8SuW0MH4gRCT+pp2eXbVv0Cz6g/ky+t1Mlor8W3TT6AAAgAElEQVTXdny/ZBxV5sm6biy5ZA5TymRkBHQSsMS1ntNHwRyYHXNfhJouDRCX/AknS1zAOH9JTofN2jMCFkfAmGs91xT07Ji4t2/fnvqeawaAIyfmxPSdKNF2dnY6J79Tp06oWrUq9XXPjol7+k6NCdzinmYTHHB4yGQEWnGmqmscumF0wBYtKaMjPOAbvxGnreqgdcgZ+t01WQN8pXpA/z5o0xzdZqT9cNc1xMuypmis+gvznYZiamrwN6L0eis433ei/O+07kzNYknRTNum2d/vssZoqEoLNkeVbsVuWiVC6YqA0LS86HKZF8SqtHzsP9q0QPcZR/BZUhIFUk/Vswp0xd/3wpn/of6RAdSkf671GPjNnP+fz+LHuA9wlldQy7GpaD8M914jWC621gUjow0skdveOd3QO+k0Z0kjeg9Na5vQgAkIceCyOERiJAbgGH0hF+vUHx7i1dmDzFoxAiZAwBLXek6xmzqz5VP90MWuB6xF1iztWU4nm7W3aALGXOu5pqCTGSP+4Y0bNwaJ4s6X2rVrg/iD6woSRyK3b968mSrZVlacSeCCBQtocDdyIq6rEMWdnKATE3ZiBs8HiZs6dSo9VSeFvCwgkeFZkDiLXkeZDj5C6osAcNGUlzr2x2R/7R/UR9ftws2Xh6FIcFCbp58JbYlWSi7v+Vb7bzAkkFOSMys/z+qAjim/0xcANRMf4rx9Q1RIeYz+iSdpE5J3PdZhKPwSOAX9s8oeN77egaYd2ml1yUeg5y/us21F/eNJibJxw/QZaebzc8M84ZfIndCTcsaqNor1XYGqO9rCWqSi17536IGxAWl53nXJHxMuhk/Ccp33yMkT9fjOMxw6vBauY6bDoYDuoJDp+18uH4Uiye9QoZMfWv6YFtxum3N3DPbV7Q+clYzG3FxzwsrU2uZHbiqlCkqlCtY2us3Rfw1tg7bK6zgvqonmqls4afUV2oX8SqcmcpY3/FNfrtGXXortdA3PSx6AmXPS/v0ztXlk8jAC+gjkx7Wub8w5/d6Umd25cQWfV9xBcYfSeBb3CGWntUH5SpVyOmTWnhGwSALGXOu5qqDzadZIdHZi5k7ykq9cuZL6i1esWBGurq7UT51X1okJOlHgR40aBS8vL+qDPmbMGHh7e9Pc6KT4+fmhZ8+eNE3bq1evqA86CTh3/fp12if9sRQZSftcs2YNqlWrRoPIHT9+nKVZs8jlY9ig+VPlGKch8BFzymhW5adZHdE5hTNdNSTd2Z453dEn6ZRWl9RvPNVMnnxB85qnnqiTzxEpIxAwK838/Or5C6hxsBtN60YD04k+4Qa+QO3UQGnzHIZjWkCaMhATORk+ijSl9aroS/xZYQyG/T1DLccPdh0wSEe0eE1Bo2Z5Y3qq8jHXwRV+AWmn9Po4ZfX9qsgRGKfYj8WOA+Dp/71hXaX67K8q0AfjPu9Rt9nl9C36iXX7A2fVsTE3V8MGaB618iO3GQFjMNThMh7YlkH3oEMZog3fktZFTTwGzZ6QeAK/iaqhUar5+txwT/glcC/Djls3QIeUK+AtVsxjRpmUjIBuAvlxref1XJsys72Tw9G4UBskKRNxUHUAHlH/vUVcXs8H658RyCsCxlzruaqgEyDk9Fwul+P58+eoW7cu5s+fj3btuFPBDh06oFKlSjRfOV/Onj0LcvpNIr0T5X3s2LFaUdyHDBlCc5q/efOGRnlv0aIFZs2aRRV7vpBTdJlMRvOuv337lp7kx8bG0vsbUowJ3BB5WJ28J/BcUhllRP8i2mEkfAPSUiJldmdNhdsQM/H0/qt8vyQyfAqsqMn5JvvOGK7h45r+RDwixAsBVpzJ+imrumij/IP6npPgc6Skl4P3nX+nKoDCos+4jzLYIeoGsSpNGSb9lOq/AtXq1MkUsjzMG+JE7mR/vtMwTBUL9/XW2bmOFHBZzbTi82c4RnGBH/9EJdTBQ3X1A/Zt0SMwzR/Y0CeGrXVDSWnXy4/c5kZ4wS+eW18h8f0RGqFtSfOvpByKij5hmWNfTFLsxl8oj+pSLv3ifPkkTI3jXGNI8MYaeIL1Dt/BNSAt6nv2SLNWjMB/SyA/rvW8JmqqzBYH+aFr0nc03/m19xfQbalvXqNg/TMC+ZqAMdd6rivo5jgzxgRujnzyo8zfRwxH7cT7OBr3FUIi9J+gbwnvh6EJP1MU6U+udfFZGemK8RoRoPk6R60bo4TyHRqo7uFXq3rUhJYv8xyHY5p/2om4fI4XxEnr8V7lhKP2TekpnmZJb66+JmIoRscfxBVRFdr/K1VhrBb1RgC0Uw3+ZN0EX4kPo7S9bjNz3gef3Gux0wB4ivWfds8N80Xb5NM469AAPqk+9xm4pCro9AWCTLcLi2abmzevo9a2Njofv59sm6Fz8FHBjyZb64KR0Qb5kZvmcy63cYNYw10kJGA8Qh04ZTvaYQSNSfFMVRRlZVwciqWRYzBZwVlw0NRqIgVWOvbCeP80F5PskWatGIH/lkB+XOt5TdRUmZ3xXIsvClbB24Q3+NS7IFp26JTXKFj/jEC+JmDMtc4U9Hz64zNfr5D/YHC88ktuLbdzgzgo61ziiyPHUb/U9CXGaShqJt5Fl+SLVIEuKXqnrpLeHz46whO+8RtwF2Vx0rEhxii4fOh8SR+Bnk/JRnOqJ51FnMoei2yGUF/ZTyoHbHLqgokKzkx8e40FGDh0FP379s//w5O4f9GxZ3/6eb58MqbGcabyhpjzk3qL5WPhGbcDV0VVUF/CRZ3PUFIV9MxSxKWvf/J/R9DuhO4crSet66PdTM6fX0gx5uYqRC5Tr5sfuS2InIgpqS4mZF1qvlgiqRIDsB7E4mWhzTAazJFkUXBJzXG+NmIIRsUf0po2Q19mmfpcM/ksm0B+XOt5PaOmyGyTVzDaF+hC4zQdjT+AMQu4lK6sMAKMQPYJGHOtMwWdKejZf1ItqKVmTuQIuCJAmrVf9rxId5oOTbOQk+PlqgEo7/gMwxMynv7utGuH/kH71U34qO/nrWrhon0deCp2aPV3zLox2gYfg31qgMVjs77BtymXsdqhO8bEc8o8fZmQuA5vVC7YXWwSxv/L/SMttx2FUtYv8TK+BLrhJOyRhL1W38EvZD40Xy5ssv8WwzPJ/awpzHK5GybG7UGCygYXv9mENu27aMn66OE9VFzbiF7T9OUln/99/wFbl/tAISoKb98o2FqJaL29uzag9zVPnU/ZRauaaBpyXvATaMzNVbBwJtwgP3LjXUIIdrpmAtLiN/A+5n+jBLaousBftAFKlQhyTEaALBy7wnqiX2rAR37aDI1nYcLTzERjBPKltUxeT6up7Y9bYhegwf0qcLYthHsfb6B97MS8RsD6ZwQsgoAx1zpT0JmCbhGLKqeDXBk5EuMV+2g3S5x94O4ry7LL9BHVSfqluMQCmBIYje/nTlCnSlMrrKo7IAr8Ogc3TAkMp33zLwVIWrdbtlUzKPykDjmxPqRqgwDpQlyWNUFj1R0scByKKQrOP5aa48dvwhMUR/yg/aj6Q0t6/RFKoiJe4SmKoRz+oddIlOqivebizJFYmtOZlD22bdAnWPvkXtfAicvA2HjOJ3yu3Sj4BS3QqrZi4SxM+HcuvXbCqj7ah6SdfvPKPTmttJW+hrWIU9A3rl+EEfe5AHcPUQolVO9w1rYevk2+hOuiyqgnuSJ4Wo25uQoWzoQb5EduqyOGqV9kpQ/wFiOfCJ+4rbgsqo49H2pBVnAfrEQqRKpGwl+2GHyWBs0pi3YcAV//tCCPJjydTDRGIFMC+XGt5/V0mxqzne6z0NylA8t5ntcTz/q3OALGXOtMQWcKusUtsOwMeE3EMIxOPZWG9L3eLuSzvNU5zknl8OQRCJzN/XiPjvSAr2Kjuo8Vjr3RM+5XGrSO5E1PTrZDEet/UUAZR/3et9h3xBNleUxP0vYl5zvgg1M9lFZHJbwEibzuodgKR1EiF0hOsZ2ayVeV3oRCUoJez6wQJaO46h+4pZrv/mzdEB1nHtc73vURg+Aaf4TW05ULel7EFEyL54JD8vnl4+Li8Or1c9iu6aR+SaDJ9vuVYRj7NJK+XCgvvYckRQL2Hl2FAb8FqcejV7B0FYy5uQqVzZTr50duW8P7YkjCLxT7NVFlfKXxwmeZ3A2T4vbgiE1TGuvgtbQSdUfh3VuuyBrROA+aJcrODdP1uL6Y8hwz2RgBQiA/rvW8nllTY3bCYzmqONfG3Y830IGdnuf19LP+LYiAMdc6U9DZP0gWtLSyP1Qtk3UDFPTwYHcE2nIm7uRk+Pc229CyU0f6WS71hBhpwaSIEl1Y+R4jEn4CMVsnZuqahQSfeqMogsB0wd74OmscumN0wGZ8lJSmwaoibdwwOmkvVSioD7liP/5AJdSVXsVbSTmari2zstKxNwqlfMCgxP/RKpdE1dFEclEvuK1hfTEkkVN2dtu2Rd9g7QjrMfJJ8EmNen1ZVA2NJZewKXygVhR70vbhiPOoVLUm7Wdp7AxMfr0If6Ecqku5HPQHftmAHic9uZN/6X29cqWvYMzNVbBwJtzA3LnFJ6VgvtQbipRkhKYGhTwwpwuN1UAKidGw0cofkyTT6Gf+2dxq9w2GBO3GdVkD1FM9AB/I8bG0KirgtdaMya3dIJ6ZdWwKE55iJhojQAmY+1r/L6bR1Jhdm7oTRe1L4vz7E+i/NC3N6n/Bht2TEchPBIy51pmCzv5Byk9rJ8/GsmvTHjx5ehDxSY4QB2ubb+u66f7dG9D1ijdsREo8RglUkN5VV7vwy3HUPDEULqI4ei3GcThSVFY0IByfskmzz4VOg9GgcS+0OjmS9peiEsFapFJX2WTfCSlFW8L1eSi9Fgk3DMRP+BLPsdX+G3pKSEx1G0su4pmkMsqK/s2UE1GubZGsVlzuoByqpSrHWcHdNacH+iX9SqvQXO3StOj05JqmDz9NmSa9ikfSatTMXrNsqSTD0FE+9FLsAj94vF0Jks+9vuR3eu34hQPocHA4dQcwJBJ8epmNubnm2cP4H3Rs7twiJZ7wwHY8sCqDX1Uj4C71w4nQdmivvKqmGYGRCJByKRcPzPkOPZLOqSOz/29We3ydcoVahziqGmNonDSDJUq4chgCQ3MpJeF/MMfslowAIWDua/2/mEVTYrZ301o0uFYR1iIb7EvYDff58/4LJOyejEC+JGDMtc4UdPYPUr5cRKYwqNeSCigh+gD+xFhTpkuypmii+oteIibpSqWIBnN7qSqMUhqR3cn3vG8rn7udBHy7bf0FWiv/oO132bXDX4mVaNTpZJUVLn27FY6/BKC+6j4O2TRD1+QLOG1VF61DTuOBtAYq40UGPKTP4qIP9MT8o5UTVUZIea0qhBKyv/Xi/HH2d+iefI7WIzIcqDsXfQaOVbfTNCfmze35U0gSbd5JlEDrxrpMhse0CO7v+d7weL8OJEhe8xCu70s3TqHJD93p3zsKdodDn1D0qFpVr3x8BWNurgYLZQYVzZ2bZkq1aAdX+AYsQnoz9RinYfARcwr22dCWaKm8AfJyzFu8AnyGhHUOXfH3x6KYmWodozl1kk/9IJu7xgxmk4nICGROwNzX+n8xt6bEbLW3Pzo79UB8Shzs3aujQuXK/wUSdk9GIF8SMOZaZwo6U9Dz5SIyhUH9Ja2N6ngKkne880wuhzpf+B/85HOUjRtSUlQIUK2nUdDtRcladfkczVdlDanSTRTcsuJD2LBYQiOnH7ZpiuuohenJ6/Fa5YISssc4E9oSrZQ3OOVWeRO/WDfENzOP44a0Hmojo8LNK/L/qJzpKSP/8iBJZY3nbpfwxZdfZon051lfo2NKWnq1uXau8AtKi3T/06yO6JxyifbB+5Tz5vYxLhPR+cNh1MYjxBRwhc90rt2S6Ilw/7gVx63qo0NqULm7j2+g6vdcoDtS9hcZgJ5T9Odp5+sbc3M1hWcwt2QwF27BAaNRrIgjPr1VIiRimXr4C+QTMSVuK/18wLYFegQfAR+z4RYqoCYe4we7rzEoiEtDeFdaC1XxjMuBHhALPqAcCZr4l7KKVnwJUp++ZJJpW4PkFnvWDyNgTALmstaNyUTfvUyJ2Y+To1C/UAs8j3uMpguH6ROdfc8IMAICCBhzrTMFnSnoAh5NVlUIgQuyZmimuq31w59vvzRyDCYrdtKPkRgJKK3gb6U7CFyE0hUBoYvUkaN5c/WF8vHwjvsBp6zq4rxdQ2oiz/tr8ynX6Gk1nnEn6TOO4ndZYzRUpZnb8/LEOg2ARxyXxi39KX6sszc8fGdlOfRToa3RJvVEn1Rc5tgXk/y5oHCkXJU1Qv3UoFrkJYLDtD/gOK8SNdlfVTYQNV4cQFvldSx2GgRP8UraZnnUGEz8vJO+gOgy4xi99u+HNyg6r4q63zOFuqHVVC5ivSHFmJurIfKYSx2h3OZGeKGC8gluvyuCEPlqow1zWeQoTFLsBh84kb/x8kg3TFRwyjeJCTFPORTuVjtRWPQZqx27Y4ziR869RPonrfNBUhouIgV4v3I+9eCvVvVwga619VpjeqEqgtKyh0YbJ7sRI5BXBISu9bySw5z6NSVmZ7zW4osCVXDj/W/ovHSKOWFksjICJk/AmGudKehMQTf5BWGuAh6d9Q06pVzG9w49MDZAOye6ZiT38OTh6Nx5GOr93At2ohSt4SaqrHGq9ff4pnNftZnt/6wb4OuZJzAvcjKmKTbTVGv/c2xK00JdENVAM8kF7JvTFb2SzuC9ygmFRHHYa9savYMP4lxoC7RQ3syAlJjZD1Mc0OmfHmXthunpgl+plCrcvHYNtep/BZFIBN5knz+NPGDbEj2CD6vv87e0Kr5IDapFAnJd7rAa7U9wb/ePNF+DxN9WomfSGS6onT8X4f57+UiMjdunlp1cS0lOhvXsYup+z5Z1RcsJWeek1xysMTdXc31udcktlNv50BbUckPTbNwQHmEzvWBlDXgGhaOgXUFDmmjV4WMhpLda2RgxECPif1LXnWs3EtMSNtLUaXLbURAncS+TiB95UqIKIQ7cS5/Q+MEIiVihzrxAnu+fnZrBI24nPqic1HEk/kJ5VE9V7gULzRowAiZEQOhaNyHR/zNRTInZTd8DNP/5iY9HMDx29n/GhN2YEciPBIy51pmCzhT0/LiGTGJMJPJ7u/iL+Nm6JfxnaEd3Dg/xQKAVp4gebrQCXXoNxmvJFygh0k7h9kxVFGVlD2i9VZEjaER24nPeL2g/5oZ7wi9hA+6hDI44tYJ73E4uCvzMX7AtrC8Gp0ZVJ22323XAwKC9OB7aDh00AmPxoCKt3dBGdQmtldwJombRlT5q7bJ5+PrFUty0qYTOQT/hZmgD1MFDzlog8X8Z0qC9k5Slp5WkEB/1DRUCMPpJGA14FzftEfYtGYvhCUdpSrmhgbtovXURQ2i6N152tUzSQuo/z5UYiBYeqwyeb2NurgYLZQYVhXL7U1qfPg80zZ+/4fPzm6wJ6invI1o0TB2wzRA8RLFPUaagg/01aolxUVQDTSUX1E33zumG3kmn1Z8XOw6Ap4KzGJnxsT9GOF+gZu4xTkOQmGAHccp6Gtn9TL0V6DygN+Szp0CcvBZvVQVxwq4B+iSd4lxXUt02eKsWQ2RldRgBUyYgdK2b8liMJZupMIudIUbv5J502PsdD2OyZI6xELD7MAIWQcCYa50p6ExBt4hFZYqDlM+ZAnISLQ6MgcjGCrzPuqasmvmZI0K8UMbpFV4klYL/zIWImu2N6cnraCC3/U5tqJnuLtu26Bd8AOsiBsMtPu0Ee5P9txgeuBOavuCa91lTLBgFPp7GoMS0nOfUbFf0Vh2kTrM+b15Pr0nf4560JqrgOWKchtJ0akqVCJsrzcKI0V549ewJii+vS08r+TK/4HhM/bSSO+GXPVdHef/RpgW6z+DyqW8N74chCT9jk31nDA/crm57W1oXNfCYfr5YpDuaTtls8PQac3M1WCgzqCiUG+/DvdyxDyb663bd0DVsPi4BsejwCzDMMmJWsDvG2B6BlUqJRJENzQxwH2XwpfSW+hbpX0zxL5LoKbjsufqF1g679nhk9QV1F9HsIzzIHYF2nBXMQ5RCJbykEd3JSTopmnESzGA6mYiMQKYEhK51htJ0It9v8QhBW+dO+Jj0FrWie7GpYQQYgVwmYMz9kSnoTEHP5ceXdZddApqR3fk+eHN2XX1GyLxoYDniU7vXvi09Md/g8B1GBvyAlZGuGK/Yq2621qErRgVshWbuZ/7Lf1UFUVT2FDHyidRMni/0FFJ1Wx3JWlOG5XI3GqCOlB1VI9Hyrhzl8A+i7F0xIv4Ayoj+xVx7N/gFLsT2tbEY+DBIawjznEZiWtwGdcC4RfIJ8IrbhjNWtdEqhMtNvSusJ/olnsQax+4Y7Z+mhJ+/ug2KY1vR4eMvuOTcEU18uRN3Q4oxN1dD5DGXOkK5PZFWQXm84fy7NeZO33gTJMVokEQ+37i++uT71ZHD6MspzcIr3vy1a7IG+Er1gHve8AbnRTXRXHULj1ASFaV3EBM5GT6KzdQa5UfHdvBWbNPKHvB9+CIMiw/VSq1GrE78U7iXD5ovlgyRmdVhBEyVgNC1bqrjMKZcpsLsqPtC1HJpiEef7qL14tHGRMDuxQhYBAFjrnWmoDMF3SIWlTkM8pdZHfBNCpfvmy/8ibgu+eUSb4hFnIJw1Lox9Xdf4dgbE/zXI1Y+Vh30jXzP+3bvDOuJ/okntbrj85ZvWDkPI5/K1N+RiNXElJdX7jUbbQwfiBEJnE/vXNuxGJu4DUVEnxBlOwo9kn5BLfyNeY4jMM0/FgvlgfCOWwKFyg72SKIn6YucBsEr7gfcxBeoJb2OGLk3fOLWaQXq+nHOd+hOclE79cF4sfYp7Pnt0Wj+Zyh+d2qFhuJDBk+vMTdXg4Uyg4pCufEpBjfZd8LwQM6UXLOETp2OmfPkNH4BX0J8RiK08D76cYHjEEzxX879HTkRTRKuQyFywG/KOhBL0k7WiWm7p9UOtS+45j1mxPfH7AguQN1T6Zf0BRJ1AUm5jHeqAtTl4qroS9SX/A5yQu5vu5k+m9TNIuHnDEo3H/Wd9odiOOLkC9fPM2igwwxuGGYwp0xERkAXAaFrnVE0nRP0S1O2oLRjeVx5fxY9lorZ1DACjEAuEzDm/sgUdKag5/Ljy7rLLgFNP9k/UQnxIjv8z645/AIX6+zyzIlDaPHLUKpUUCUbf2Oh0yB4i1diQeQkTFGkRTfno6pr5iMnnZL0a9fsa6nzP/8lrYPqeELvt9KxF8Yr9qkjwGsKoWkqP9fODZ4Jm+EgSsJc+3H4OvEkGqv+wnynYZgqXoroCB/4xq8BMZkvhM/0FJLvm/cVjp0XCI8PS0Dzscs483U+dduygoMwyY+L7M6XS/uWoslvAbhu3wj1Av9nMHJjbq4GC2UGFYVy+yQphYKieOy0a4f+Qfu1RkiU4RF2P+F322ro5r8fNjY29HtNM/LFTgPgKebS5z2XVKYWGaSQPOTDxFtga8Up9iTOwzSFdgBG/mZyjIRYuhixkiiMQwQ9mV/t0B1j4tNO209afYV2Ib/SJn9I66MuHlKXERILgncL4fvbFD6Axkkghbds4WMrrHfoAteAbWYwk0xERiBrAkLXOuOZ9wp6UkoSbK1ts0T9+MEDJC65C3trBxxR7MPYBVFsahgBRiCXCRhzf2QKOlPQc/nxZd1ll8Dm8P4YlsClE0vvd51Znx8kZejp4WeVPQqIEtSmwZpR4klbXuHZEDEII+M5H29SjjVZhW97DFR/jpFPoj7kJFr1Qce2NEr8DVREbek1LRH4IGBUSXIcrlaSFjt7of7n4zRQF/+yYF6EJ6bRFHDlUVz1DkVFn7DF/lsMTTiG49YN0GHmCWzbuBSD7wZQ3/V/Jl1HiTIVcDq0NVor/0Cs8wh4+MZq3f/3I+vQ8Kw3btrWRq1gziTekGLMzdUQecyljlBuyZIi9GRZl+n39xHDMTb+ADd0aVpQRLnUE2JsoJd5SxBNpZ1cJxYlJVPeIkFki4ufO6JgkUfwVKTFJ9DkGWXniulBixAWPAlBttzLKs1nlXzWfIGguf7Id8ud+mCihuVGRJA/yrk8QH/Fcawo0Bc+4uV4LK2KCniNlY69Md5fO/Waucwtk5MR0CQgdK0bm96SJUsQFRWF58+fo06dOoiJiUHbtm11irF27VqMHp3R1FuhUMDBwUHdRkifum6U18xOeKyArZUdPvUqhM6d+uoc69Jp09DTri9SlMm41ew5vhvAcqAb+9lk98v/BPJ6rWsSZAo6U9Dz/4oykxFqKi6a6cayEp/39eXr8H7ffIR3/vpCp8HwFq/A6ohh6hPEBJUN7GX/aHWvSlFiXpQXUhJtACsVxMnrEKeyx+PBR1CjdkNa9/mTJyi4sgmcRQr6eYlTfxpBnipQteah4F+baXTrpY79Mdl/NXiln0S6LqN8Q1O5UcUt+ZxagXvw6AEqrm5IrQH21YpGr8HjcFnWBI1VdxBbeDQ8fGK05Lx6fCfqHx+De9ZfospMbbeArHgZc3M1k8fOIDGFcJvhORSzix+k/eqKofDj7O/o3JMSFN8XYRFcijP5HC+Ikzgll3erIPnU/TRyjv8uqoqGqru0TnjSCJR0fkeVfT6goeZgeD92+Wxv+hx/VDliqe0g+jdfNKPMR0d4wDeey6xAygLHoZjivywDn2CfiZg9fxk1z78prUfdOWhUeH/uxJ8VRsCcCQhZ68Ye57Zt2zBy5EgQhbp169ZYvnw5Vq1ahRs3buCLL77IIA5R0KdMmYLbt29rfVe6dGn1Z6F96hpzXjJbPH0q+lj3o7c99ekohiwO1Yl9l/scNHNph3/iX6J+zABjTw27HyNgEQTycq2nB8gUdKagW8SiModBxsrHqKNCxzoNgEeqiW9Wst+Q1qOm7XyRi1ypjy6vlPDXeXPzFZGumJAaPI6PoJ5Z/0cP7kWH86NhK52yrRkAACAASURBVEpBlPUYTJ85n1NcIgIwJX6putlGh87qHNOP3C7i6uYpNAc7NWP334DFkWNpSityWl4x5QUq4wXOWdWi+dh5312VSoV/pF+guOgDlhbxwOQpYeDHFlvMHR5e4Vpi3jh3GLUPD8ZjUVlUkGTM657ZmIy5uZrDM2eojEK4kajqM205s/PzVrXQPOQcoiO8UBRvkCCyRyfFORrxn5QIjFSnU4sK88b0RE555tPtaa4Jcv2DyhEuqS+GomxcUcHqCYYk/qJ+4aM5Hl75Jvf2jV9Po6+vj++AEIc0U3TSx/QZnE97yDQ3+Dn/pPZnj3Zwha+eSPInQ9uinfKaoKB2hjJn9RiB/4KAkLVubPmaN2+ORo0aYenStH9/atWqhT59+iA8XPvfCCIbUdB9fHzw7t27TEUV2qeujvKS2Q73ULRw+Zre9lncIzRbOELnWMgpexXnWrj74U90WDLJ2FPD7scIWASBvFzr6QEyBZ0p6BaxqMxhkJpR1Gm6MnHG07v04zgva06jUfMlSjQG0yXzESn1hp9qPaxTU5vNcxiOaQFLsEQ+Rn3aTU8dZQ+zRMOnT4t2GAnfAM4Xfm6YJ/wSOVNkUg7aNEe35PM0CJyj7DW2h/XGwMTjWOfQBW4B27AyciT1ZT9g2xJVkp7SE8c7KIdqeKqOOk/6uS2tgxp4goUFR8HbbwH4oFzLS03DxMkSLTnvXPkV1fb0wEsUQynpfYOn15ibq8FCmUFFIdzCpd4IBKdo/4FK+OFtPUwvfExtcaE5XN4MnVyLjvCk6c1IoQEKg3/ED2G9aeo/EpOB5FXXLOSZrpl8lz57xCR+WNwR6vfOF94KRdOCo7HkIiAtpK4z48MgzJ6XFt9AM8sB/7Irq+mRz/FGQdtPeP5KhFlz2Qm6GTzKTEQ9BISsdWPCTExMhJOTE7Zv346+fdPMvMkJ+ZUrV3DixIkM4hAFfdy4cShXrhxSUlLQoEEDzJo1Cw0bctZg2elT15jzktlx92Wo6lKH3lapUmK/cg88oriX5Zrl2tSdKGpfEuc+HMeAJTONOTXsXoyAxRDIy7WeHiJT0JmCbjELy9QHqmliG+0wAr4B2n7XuuTXjPyeqLLGnc67UKd1ByQnJuKH6KFqn3Y+r/TiyHFqn12az1n6V5ZY+P6XOvbDZP81tO5C+QR4x6WdQl4WVaOm6P+onFFM9gQbIwbSE/Wt9t9gSOBu8H7v2+y+QY2kR2iguqeOoq1pyn8mtCVaKW9gkdNgeIlX4IWkEs3DvrbCTIwa66cl56Nbv6Hi1q/xDgVRWPrU4Kk15uZqsFBmUFEItwipFwLAmao/QGlst/sO4tST8fRDjXYcAV9/7jnXDPh22KYpusw4hnOhLailBR9ZXbM9OSFvlPAnfWaIC0c7xSX6bP2NEvgCr3HKqi6u2NdC3YS/0EF5lYvgPvMXLQVd0wc+/bMdGtcfIXIuCjwrjIClEBCy1o3J5NmzZ1TRPn36NFq1aqW+dVhYGNatW5fBjJ1UOHfuHO7evYt69eqBjGvBggU4ePAgrl69imrVqiE7fZJ+ExIS6H98IX1XqFAB79+/h4uLS65i4RXvZGUSbKxscfP97+i01FvrHrvWrETjW9VgLbLGvqTdcI+el6sysM4YAUaAI2DM/THXFXShwTaI6VFwcDB27dqFt2/fonLlyoiOjka3bt0oDGK2RL67desWHB0d6cYcGRmJGjVqqJ+XDh06ZHh7OnjwYGzdmpbTOauHy5jA2UPOCGRGIGqON6YncSePUbZumB68UC+s/XO6omfSGVqPKtwhNwEra/p56XwJ+rxbj+J4j2irEQiQLNSK7s6nOMvqJnzk6h/svsagIC7vuVaQL+KTripKo2w/RXGUk95Tf7/bti36Bh/AjrBeGJB4gvoV10x8SBUuvlD/dTGnBPG+yXyAMD4A3rYaURg8dIKWmM8f3UaZNc2QoLKFveyNXk58BbbWDUalVVEIN/mcKRAncX7lr1SF8YNTJ/pSiLg1/G1TGoMS06Lu03R7Yu4Ee4F8IqbEcXs2H139jaQCdXuIcRwOn3TR2tc4dEer+KvU6oIo+iqlCGXwAvEi+7QgdBqjIIESPaavgkhWmF59jBKoIOX82fkSEjAGPRz/wBvrwvhm+no42Kf5qmaPHGvFCJgXASFr3Zgj45XpM2fOoGXLlupbz5kzBxs2bKC/EfUVpVJJTeTbtWuHhQsXqhV0oX1KpVLIZGkpSfn75raCviV2Hlr/3QhWImv88f4S6hZqgrjkj/jQtwCatG6vHu5aL398W6AH4lPiYO9eHRUqV9aHgn3PCDAC2SBgzP0xVxV0ocE2iHkRCfRRsmRJBAUFoXz58nj8+DGcnZ1Rv359iq5Lly4YMmQImjZtiuTkZKrMX79+nQYFKVCgAK1DFPTq1asjNDQteAZR5gsVSjNlzGoejAk8G88Da2IhBCKlnvBPjWIdiZHwl+pOr6aJY1tYXwxO/IVeor7gAdoRrRfMCUR80if4Szk/W81TShpwS3I5S7rLI90wUbGHM2OfweU9503Y76GM2peYXL+LsqgqvYllcjdMitujTs92eHYndEm+gGVOfVAr/gHaK6+q77nQaQi8xVy+6y3h/Wj+aT53dpKkKPV/P9x0Nbp0768l57+vnqHoklr0mnLGP7BKTdWl71Exh7Uu5CWnKUYp1vQlJ9kFDtm3oC9oSNqyW69KoHApG9RPukHzkfNxCsi8LZaPhWcclzOdWGX8pGpFTeVJZP/I5OEItE0L4Ebq7LJrh7YJV1BC9AFRNm6YPoN7oaVp4fEExXHVpipuWNXA9CDu++VyN4z8fAhL7AfBLyjjGlMonsDBoZxWjnZ9zxX7nhHILwRMdY/MLXP08ePH48mTJzh06FC2TdyNdYK+zisQHQt0gyL5M67WvIuGt6vD3toxQ7C4HydHoX6hFnge9zeaLhyeXx5FNg5GwOQIGHN/zFUFXWiwjWXLltF0GeTNp61t1jke+Vl6/fo1VeiJvxF5C0oKUdCJbxFJt5GdYkzg2ZGPtbEMAnND/eCdwp0mx6iGQxzKKdVZFf50mtSR246COHhBlvU1/XzPWtVGy5CsU5TxJvHHrerjku1XsLFOQp2EO+iUchk/WTeh0dr5cl1UGfUkV6Buk5pC7VRoa7RR/kHTrtVMuK/VZr7jCExNNXFeFTkC4xT7sd+2FZqN+R6llnMK+KVuB9GkWWutcSk+f4RjVHl67bPvIxRw5k5F9RVTX+tCX3KaYpTi9JHXr4kq4yvVAyxwHIIp/tzLGD6l2Wb7bzEskMsAQBTniXGclQaX5q8dTd/Hv/j5LClJUwnyhZyyt065TuMsyDECYilnKq+ZYjDKzk2tmPPt3sa/xdzA6Zgzf5W+x4V9zwhYHAFT3iPJb8zGjRvTKO58qV27Nnr37q0zSFz6ySPBSJs1a0ZN3lev5v6tzWmfpI+8YnZo8jzUK9QUTz8/RPNFI/E/j6Wo5lw3Q7C4s17rUKHAl7jx4Td0XjLF4p5ZNmBGwFgE8mqt65I/1xT07LzdJGbsRYsWpYE/9u7dixIlSmDYsGHw9/eHtTVnppu+EH8i4jtETtHr1q1LvyYK+p9//gmy+ZYqVQpdu3aFRCKhJ/G6irHefhrrgWH3yR8EyPMbEzWZDmb8lMUoaG+jd2BauZs1ckpn1lAz/Rqfgzyrm/CB6y6KaqCpiktVw0fSXu3YHWMUP6qb0zqSC2ozej6C91VZQ9RX3cd8x2GolnwfPZK4FFukzHMahWli7qXC4qjx8Pz8A361qgfHLpFocpBzc3k58SZKlSmrJaYyJQVWs4rSa/9M/hPFSnHKur5izM1Vnyy6vhf6ktMUoxRrKsiaY5Rbu0E8kzvF1gwc2CP4ML22OnKY+nkiJ9/HHJpiVPwh+sKmZ/AhpE8pyLtWkLbB7/pgTgznHhIcMBrtC/yN+/blMUkjj3l25oO1YQQsjYAp75H8C0xyuEPM3FesWIGVK1fS338VK1aEq6sr9VPnI7oTM/QWLVrQ34xkXMSsnZjDEz92oqiToq9PQ+Y/r5hd8N6Isk4Vce39BXRb6gs+13n6YHG3fA+goG0hnPh8GMMXzTFEZFaHEWAEskEgr9a6LlFyTUHPTrCNmjVr4uHDhxg+fDjc3d1x584deHh40LyVISEhGeQlCgx5U0p81X/99Vf192SDJr7rJLflH3/8gcDAQFStWhVHjx7Vid9Y/kPZmHvWhBEQRCA8xAv17P/CTVGaCW9WHcjDvNUBu/hAXFnV5wPX3UZ56uurWdL7BRPFum3IKbUZPT05DfkdD2Q1aWo1kraqsvIh+iWeVHcz33kCpvpG0c8L53rB+9N63EBF/N1Ugi4XxyBJZQ1b2b86RVRISsBRlIhnoy6gbKW0mBRZjceYm6ugicxmROG8ilKck5eYMZHuGfzFSQ5y+Yc+mDWfy0ywSD4eXnHcyxjyzJCyKXwghidwbhTvVAVwzboKTWHGByi8LmuAeqoHGbD+qyqIojLDAwUKnRdWnxGwJAKmvEeSeSCn53K5HM+fP6eHNPPnz9eypqxUqRJNr0bK1KlTaQyjFy9eUJdHEr2d/P7T9GHX16chc58XzB7du4ekZXfhYO2EY59/xKhFEVSU331+QAmHMupgcYsD/dBH1Zt+96PTEUwMmW2IyKwOI8AIZINAXqz1zMTIdQVdSLAN4jceHx+PBw8eqE/M582bR83eyeabvhDl/ccff8SpU6eov3pm5fLly2jSpAnI/0lAkPQlJz8+szGfrAkjYDIESFoocWogun22rdAr+FCWsvEp1WjOdFGcVl25zSiIk7kfQqQctW6MTjN/AW/iTJSy56JiqJ6q2Ec7jEM55X2at5ovy0v6YaI7lxJmaUwAJr9bCpL+7USNQAz+S4wPKie4yDLuBaT+W2l5FMFHPBr8MyrWamIQY2NurgYJpFEpOy858ypKcU5eYi6InIgpCu0Anb+JqqGRJM0dgj9lp+nTpFxMAj62Afk7WWWFD3BCUdEnzLV3g1/gQvwa2gZtldczYP0L5VBdekMoblafEWAEdBAw5T3SVCcsL5gtmToVvez7IUWVjPPVrmPQOC5y+073WWju0kEdLO7ulp/RpmAnfEh8i9rzepkqIiYXI5AvCOTFWs8MTK4p6NkxcW/fvj31PT927JhaPhK4g5i+EyXazs5Ofd3Lywt79uzByZMn6Wl5VoWctNvb21NTJhLNXV8xJnB9srDvGYG8JBAp84K/ikuBtd2uAwYG7c3ydvLZ3hAnc6bD6cvB+svR8ooviog+0a8O2LZAj+AjmBs2BX6JaYo7325ZIR8UTLhBU7Dx5VD9Jejalwtqs2vDQvS7N5Oemq8vNRVjX83FS1VhlJI90nn/F9IqKI03uNN7H6o1TItom9WATHmtm1KU4py8xNRM5cfPBW+mzn/mA8mRlzGlZVx+c82MBHw9kjpQmtALYRFr1VH+088v70qRl+uG9c0IWAoBU94jTXUO8oLZLvc5aObSDv/Ev0T9mAHqoe/4PhYNb1WjweJ+/XgUJVQlUNOlAR59uoPWi8eYKiImFyOQLwjkxVrPDEyuKejkBkKDbZDI7Zs3b8b9+/dhZWVFZSR5KkkaNfJjlRSibBPlfPfu3Th+/Dj1JdJXiJk7CQKiGUjOXH+06xsr+54REEJALpsKsYoLjkOiag9PDdCVWR/y2T4QJ3P5zzXLW1VBFJE9BZ+7nHxHomr3C9qP6PCp8E3ImD/6SJOVePbHHoyO5/zWNZUz8vnx/duosJ7zC1xUcCS8Pm1QBwjTJd+j0DqoqHyCPztvQZ1WnL+6vmLMzVWfLOm/z85LTl33yI0oxen7FcJtaeQYTFZwgd/4stqhO8YEbFZ/jpB6IgAb6MuY+fGeEEeG4uisb2jwQc1C3SQkV+glzYwFJH1bSdE7et0QVw2hc8HqMwKWSkDIWrdURjnZHw1ldtJjBb50roU7H//A17FcbBq+aAaLI7nPSzmWx+/vz6DnUn9Du2f1GAFGIBsEjLk/5qqCri/YRvoAHiSlGonAOWrUKKqEEx/0MWPGwNvbm6ZTI4X4phMlngSR08x9TvyJSCq1e/fuYdOmTfTUvXjx4jT9mq+vL/3u4sWLmQab05wXYwLPxvPAmjACuUZgYWQQvBVctGuSl3xUgLYpcvobLZ47A56fMkaTpz7p0j/BR14n7bbYd8TQwF1YPDcInp+4e/CFRIEvOjIG53+Yj/GKffTyL9YN8c3M41r13knKorDoM9Y4dMPo+IPgA8/pAnB3ViNUTbmHq+1Xof7XAw1iZOprXehLzvSDNoUoxSsjXTFeoW2ZoRnBncgcFDAKYQ67qfjhicMRGLYEfLR/zTHtsGuPAUHc88IHkSOuEydt66N7Mhds8Ae7rzEoiIv+zgojwAjkjICp75E5G13etM4LZn9M243CdsVx5uMvGBQr0RJcM1gcMYG3tbLDEcU+jF3AxXNhhRFgBPKGQF6s9cwkzVUFndxESAAPUv/s2bM0kMeVK1do9M2xY8dqRXEXiUQ6ZV+zZg1V7ImSP2LECBoc7tOnT6hQoQK6d+9Oo7iTCPGGFGMCN0QeVocRyCsCJ48dQrtTQ2j3qxx7Ypy/dm7p9Pe9fO40Gh/OeDp92qouWoecxtwwb/glcibwm+w7Y3jgdmxZswhDH81Qd7XUsT9G+y6Bg40DlkaOxmTFLvodjQLvn3aqSq7dldZCVTzDEZum+C75Io5ZN8a3M9N81jXluzmnFWol/Ynfm8egYdfRBiEz9bUu9CWnKUYp1ozGzk+KrnRn/MuYKDtXTA9ahMuyJmisuqM1j7FO/eEh5qwxlsjHwD1uJx6iFFb90xTly9uiUfwNnLBtkSGVmkEPA6vECDACGQiY+h5pilMmhNlisQ9qfPoSL6srMMJH94n3inAZurzrACuRFfak7IJn1PwMw+aDxZEvkpVJeND+A77u3scU8TCZGIF8Q0DIWs/poHNdQc+pQP9Fe2MC/y/Gx+7JCGgSSJAUg70oGUsd+2Kyf0Zf8fS04iQl4aSRf5p8z/sUP7r/Fyqub0qbkFPyDiEncefmH6i2LS1veYzTMPiIl9I6i+Xj4Bm3nf6tmQOdv+d5WXM0V93CHZRDNTzFLtu26Bd8QOcEXovoiK/iL+FSwzA06e1h0CSbw1oX8pLTFKMUb4gYhJHxR7TmIyzFFUGztC0xToa2pVHalzv1wUTxOtyU1kMt/K3VLsreFdMDuXZ8dHgtn/P4D4C9M5DJi1yDHgpWiRFgBNQEzGGPNLXpMpTZo7t38XnJDbjYFcGV92fRY6lY51A2egajQ8Eu+Jz8ATXmdtdZZ+fk2WheiIu98ib+BRrEGGZFZmrsmDyMgDkRMHSt58aYmIJO8jp/+EBTcLx//x4uLi65wZX1wQiYLIEPkjJwEcVhseNAePqv0ivnK0lFtb8vX3mjfWeMCOQU7QfSGjSN2grH3pjgzwWg01Tq+Sjc5HqsfCw84nbQOhsqSjFy9FSt+x+a3Qldky/QKN42IiU2OnTGiADuPunLb/LuaBR3Cudrz0DzQdP1joNUYGvdIEwZKgnhtjW8L4YkpLN6kL7P0CefC/1/1g3w9cwTeCSthop4pVUv5PMQhEYtp9dCfEagUhkl/kkpzk7MszeNrBUjoJeAkLWutzMLqSCE2YHJcjQo1BKfkj7gzbcpaNM1Y+T1n9wXoLZLIzz+fB8tF7nppKgZLE6Xn7qFoGfDZASMSkDIWs+pYExBZz/ac/oMsfZmRuClpCJKid5hgdMQTBFzyk9W5b60Jr6EdqqzZU59MEnMmbYvjAgErP5B1Yrt0W0wF5H9jaQCios+0L8XOEzElAA5/XtFpCsm8P7JOpS2LeH9MDThZ7U4Kx37YLy/7ijyl+b1R5MPx3Cu2jS0GK7to5fZeIy5uerjak7fC+G2K6ynVq57Ok4dcx0V5oXpietpKr05b7rAr/gxlEh9ZtRsdLQzJ25MVkbA3AgIWevmNra8klcIs40xkWjxtAHNb37+w3H0X8KlGdUsl6ZsRmnHClmespP6P06ei9rODfBLwhHmf55Xk8v6ZQQ0CAhZ6zkFxxR0pqDn9Bli7c2MAH9SGeM4HD7+S/RKf03WAF+pHtB6D1Aa/4hc8It1K4hnLMi0LX9KTyqcbb8FLb/m/NhXLwlH49c/4JzDV5ioQ/FOH2AstsBQeExfpvM+FxaOQLN/9+NsxUloOTpS7zhIBWNurgYJZCaVhHA7MKcLeiSd1R6ZDkXb32M0gosfptYcxA/dI2FbBlcKXYq9mSBjYjICZklAyFo3ywHmgdBCmfEn5O8S38DZvR4qVq2qlurW9YuwW/8OdtYOOKLYj7ELuJfbukry69dQKVWwLVUyD0bFumQEGIH0BISu9ZwQZAo6+9Gek+eHtTVDAjekX6E2HiHaYSR8AxbrHcG50BZoobxJ6xkSWI7US5EUhrVIxfUt4BR0UdRkeH1OCxy32GUMPKdlDJBDuj23ZAJavNqGc2Vd0WJCxkjzugZmzM1VL1gzqiCE20+zOqJzyiUaXb1Yyjv8Zl2PBoHTVX6e1QEdU37HOoeucIs/RKvQDAF4gt22bdE3k/gDZoSOicoImBUBIWvdrAaWh8IKZbY4eDp6JHWFjZUtTnw6jOGL56ilWzZtGnrY9aWB3+60/gedejPf8jycOtY1IyCIgNC1LqjzdJWZgs4U9Jw8P6ytGRKYF+mO8ilPoSjbA26jxusdAa9EkYpLnPrDPTWqdpYNpYXSvhaioM/zg9eHleq2K4v7YLynTOetzq6YgpbP1uJ8yYFo7q7fl550YszNVS9YM6oghNvx0HbooLxqUIyDhfIJ8I7bhteqQigh4vzUI+CKgk5xePXaRu1/bkaomKiMgFkTELLWzXqguSh8dpgdd1+Gqi518ErxFI0WcJlVSNk7ORyNC7XB6/jnaBgzKBelZF0xAoxATglkZ61n955MQWc/2rP77LB2FkJA02TZUL91ZFNBX7NSjtFP004TfvgyDINcdUdoP7smAC0fLcWFIj3QbMomg2bDmJurQQKZSSUh3M6GtkRL5Q2DYhyEBkyCn/0utWl7ikqE+Qk+8IuQmgkZJiYjkL8ICFnr+Wvk2R9Ndpgt9puKXta9YSWy1sphfsrze1QqWB23P1xDxyWGZSfJvuSsJSPACAghkJ21LqR/zbpMQWcKenafHdbOQghsD+uNgYnH6WjnOQ7HNAP81rOroF8+fxKND/VUk/2t4x40avu1TtLnNoWixZ1oXHL5Fk2m7TRoNoy5uRokkJlUEsLtd1ljNFTdRYzjMPj4c+n1sioHZ3dGt+TztMpbVUEUkfwNWFnra8a+ZwQYgTwgIGSt58HtzbLL7DI77bkGFQtWxZPPD9BikSsd+41pe+FiVxSnPh7DkFjd1mNmCYkJzQjkAwLZXevZGTpT0JmCnp3nhrWxIAIbIwZiRPxPdMRz7Vzhl4k/sRaS1BP0zyp7FJBpp87Sh+6zpCQKiBJoqrXkgGdwcHTU2eT89mg0/zMUV5xaoYGY81/WV4y5ueqTxZy+F8LthrQeauNvRDuOgK9/rN5hRoV5Y3zCDjwXFcMxpxbwmjKPy23OCiPACBidgJC1bnThTPSG2WW2wscX3Rz6QKVS4UDSbigL2KB3Epd2bY/VPniGRZnoiJlYjIBlEsjuWs8OLaagMwU9O88Na2NBBL6PGI6x8QfoiOU2o7KM3s5jWRA5CSPiDmCtYx+DAtFp4uTzqlO/ZNnfmZI+dXgr2pybiFc2ZVByxi2DZsSYm6tBAplJJSHc+LR80Q6u8A3QH7wvKUWJZ+8UqFisgJnQYGIyAvmXgJC1nn8pCBtZTphd9N6EMk5f4MHH23iCR2jr3Bkfk96hVnSaJZkwaVhtRoARyCsCOVnrQmViCjpT0IU+M6y+hRFYGjkakxW76Kjn2oyF34x5egnEJ6Xg/T9vUKp0Kb1101c4L2uO5qpb+AvlUV36Z6btlYr3EMkrQaRSAtNuAS5l9N7LmJurXmHMqIIQbk+lX6Ic/qGp0zKL3m5GQ2eiMgIWRUDIWrcoMFkMNifM1nsF4JsC3ZGiTMbfcfdQuWANPPp0B60Xj2F4GQFGwMQI5GStCx0KU9CZgi70mWH1LYwAH2mbDHt18QCM8QzMUwKHZndC1+QLuCCqgWaSC1nfa1lb4MU1YMAaoG4/vXIZc3PVK4wZVRDC7R9JeRQTfTTY2sKMMDBRGYF8T0DIWs/3MAwcYE6YPbp7F+8WX0Exh7SX2b+9P4NeS/0NvDurxggwAsYikJO1LlRGpqAzBV3oM8PqWxiBmMjJ8FFspj7hL8dcQbmKFfOUwJbw/hiacAxHrRuj08xfsr7XQTFwYTnQbCLQTa5XLmNurnqFMaMKQrjFSUrSqOxykSvEEv0m7maEgYnKCOR7AkLWer6HYeAAc8psm7sErV2+Vd/toGIPJiyINvDurBojwAgYi0BO17oQOZmCzhR0Ic8Lq2uBBKIjPOAbv5GLsC17mucEFkVNhNfnrVjn0BVuAVuzvt8fu4Ado4HSXwGTftUrmzE3V73CmFEFQ7lFTA+G2CkWViIVzWceIGUKuhlNMxOVEYCha52hSiOQU2a3rp2Hcu1LuNgVQaIyAW962qBZ2w4MMSPACJgYgZyudSHDYQo6U9CFPC+srgUSkM/yhjhlHa6JKuMryZU8J/DXsxv4eedWtO7eB1992Sjr+314DsyrCYisAP9HgINLlvWNubnmOSgj3sBQboEBbgh32EMlC0txRdAspqAbcZrYrRiBHBMwdK3n+Eb5qIPcYLbLfQ6aubTD07iHaB4zjKWazEfPBxtK/iGQG2vdUBpMQWcKuqHPCqtnoQTefk7E94t8oUyyhnhmjOlRuLASKFMfKNsIsLZhCnoezJCh/yjN8ByKkl84wxopePJ3PMIXb8oDaViXjAAjkFcEDF3reXV/AxYHBAAAGONJREFUc+w3V5glJ2K9jxQfXOLhGaY/EKs5cmIyMwLmTiBX1rqBEJiCzhR0Ax8VVo0RMH8CxtxczZ9W2ggYt/w0m2wsjEDmBNhaF/50MGbCmbEWjIA5EjDmWmcKOlPQzXGNMJkZgWwRMObmmi0BTbQR42aiE8PEYgRymQBb68KBMmbCmbEWjIA5EjDmWmcKOlPQzXGNMJkZgWwRMObmmi0BTbQR42aiE8PEYgRymQBb68KBMmbCmbEWjIA5EjDmWmcKOlPQzXGNMJkZgWwRMObmmi0BTbQR42aiE8PEYgRymQBb68KBMmbCmbEWjIA5EjDmWmcKOlPQzXGNMJkZgWwRMObmmi0BTbQR42aiE8PEYgRymQBb68KBMmbCmbEWjIA5EjDmWmcKOlPQzXGNMJkZgWwRMObmmi0BTbQR42aiE8PEYgRymQBb68KBMmbCmbEWjIA5EjDmWmcKOlPQzXGNMJkZgWwRMObmmi0BTbQR42aiE8PEYgRymQBb68KBMmbCmbEWjIA5EjDmWmcKOoD379+jcOHCePz4MVxcXMzxmWEyMwKMgAEEyOZaoUIFvHv3DoUKFTKgBatCCLA9kj0HjIBlEGB7pPB5ZvujcGasBSNgjgSMuT8yBR3AkydP6I92VhgBRsAyCJCXceXLl7eMwebCKNkemQsQWReMgBkRYHuk4ZPF9kfDWbGajEB+IGCM/ZEp6ACUSiWePXsGZ2dniEQivc8O/wbFEk/c2dgrWKSlRX6Zd5VKhY8fP6Js2bKwsrLSu9ZZBY6AkD0yvzwr2Zl7Nna2P5q7FR7bI4WvfLY/Gs6M7ZGWuUeSJyQ/zL0x90emoBu+r6hrGtMHIRvi5WkTNvZC1NzX3H+ECX1ILHnehbKy9PqW/KywsbP90dL+bbD0/U7o+C15j+CVNOJexn5HWZ47raU/+0L3CqagCyVm4UHlLHmBsbFb5j+q2dgiLLoJWyeWuU7YvFvmvFv0ZpeNwVvyOmEK+gca+8YSX05Y+txnY6sAU9CzQc2SN1g2dsvcXC153rOxRVh0E0t+VtjY2f7ITtAtevvTO3hL3iMsXUljc2/ZLyj0bg7pKjAFXSgxAAkJCQgPD0dgYCDs7e2z0YP5NmFjZ/Nuac+8+a7W/0ZytkewPcLS9ghLfub/m13GfO9q6c+KJY/fksdOVqylj1/orsUUdKHEWH1GgBFgBBgBRoARYAQYAUaAEWAEGAFGIA8IMAU9D6CyLhkBRoARYAQYAUaAEWAEGAFGgBFgBBgBoQSYgi6UGKvPCDACjAAjwAgwAowAI8AIMAKMACPACOQBAaag5wFU1iUjwAgwAowAI8AIMAKMACPACDACjAAjIJQAU9AFEluyZAmioqLw/Plz1KlTBzExMWjbtq3AXky7ulQqhUwm0xKyVKlSePHiBb2mUqno9ytWrMDbt2/RvHlzxMbGUh7mVk6ePEnn8/Lly3ROd+/ejT59+qiHYchYCQNvb2/s27ePtuvVqxcWLVqEwoULmzQOfWMfNWoU1q1bpzUGMtfnzp1TXyNBP/z8/LBlyxYoFAp07NgRZI2UL1/epMfOhMs7Avl9j2T7I9sfyeph+2Pe7SH5uef8vj/yc6fv94Uhv63M8TkgAaR37dqFW7duwdHREa1atUJkZCRq1KhhEb+bli5dCvLfw4cP6XiJXhASEoKuXbvSz+w3o+FPNVPQDWeFbdu2YeTIkVQBad26NZYvX45Vq1bhxo0b+OKLLwT0ZNpVyQ/QHTt24NixY2pBra2tUaJECfqZbDZz5szB2rVrUb16dcyePRtkM759+zacnZ1Ne3DppDt06BBOnz6NRo0aoX///hkUdEPGSjaeJ0+e0BcWpEyYMAGVKlXC/v37TZqFvrGTH6AvX77EmjVr1OOws7ND0aJF1Z8nT55Mx0mehWLFisHX1xf//vsvfeFBnhlWLIuAJeyRbH9MU9DZ/sj2R8va4XI2WkvYH3lC+n5fGLJ35Iz2f9O6S5cuGDJkCJo2bYrk5OT/t3cuwDaVbxh/dQ8lU3+FJLeKDJnK0IVqXLqMikRTMyRkSq7lnm4aSRMpSildNNJI0WCoiEiZCiUpiaTUuBS5ZlL/eV6zTts++xz7bIuz9tq/b8akY92+3/rWc9bzve/3Lhs0aJAtX77cfUKpUqX8ouL83qT3Qb37Va9e3fuqII+CYEuXLnWzHue+hz3iMOhFIKrooYycZoeCVrNmTY+4atYsLk0voFOnTrVly5bl65JmPStUqGA9e/a0fv36+b9rRkwRdgluly5dshZDiRIlDjDo6fR15cqVVqtWLY8qa3yo6e8NGzb0GdTEWdMog0nuu65VBn3r1q0+FlK1bdu2+aTNhAkTrG3btr7Jhg0brFKlSjZz5kxr3rx5lLvMtR0GArmgkejjfoOOPqKPh0FCYn3IXNDHVDcwk3eruAyETZs2Wbly5Wz+/PnWqFEjy8X3JgV1ZNJbt27NO2MRBjYGPU1Ye/futZIlS9rkyZOtZcuWeXv16NHDjawevrg0vYDqYSpTpox/512/VIYOHWpVq1a1NWvWWLVq1WzJkiVWr169vC7fcMMNntKdnBKdTUySf4mk09fx48db79693cgmNrEYOXKkdejQISsQFGTQZc4VNVd/Gjdu7JkT+mWjNnfuXE9pV8S8bNmyef2sW7euT1olL5PIChBcZMYEckUj0cf9Bh19vN0nL9HHjCUjp3bMFX1Mx6Cnox1xGRyrV6+2GjVqeBS9du3aOfXetG/fPvdM7du39wi6lsnyzpj+yMagp8lKkcGKFSt6OrTWlARNxlWmVOndcWlKTdq1a5enryvFWSnsigavWLHC+6n0/l9++cUj6UFTWve6dets9uzZWYsh2aQuWrTooH3V/Vd696pVqw7ot9jJnA8YMCAreKQy6ErHK126tFWuXNnWrl1rgwcP9pQtpa9r4mbixIneR2VQJLZmzZpZlSpVfAkILXcI5IpGoo/7DTr6iD7mjrodek9zRR/TMejpaMehEy/+IyjLSMEr1SlasGCBX1AuvDdpMkJZpHv27PF3SPX52muvzYm+hznqMOhp0gzEVcKigRc0RRSV4isDG9e2c+dOj5r37dvXGjRo4KZVPMqXL5/X5c6dO9v69ett1qxZWYuhIINeWF8LmqDRjGnHjh2tf//+WcEjlUFPvnAV0ZNZnzRpkrVq1apAsW3atKmPl7Fjx2ZF37nIcAjkqkaijwX/LkAf809goo/h6E22HSVX9VH3KZN3q2y7v6mut2vXrjZjxgxbuHBhXuHcggx6nHRB2SI//fSTZ5ZOmTLFa3Upy1jZxqmCOnHqe5jjFoOeJs1cTk8SIj1AKvrQp08fUtwT0vnjnOKe6tHQxEOnTp28/gAp7mmKR45slssaiT6mXu6EPrIEKEfk76DdzGV9zGT54EGBRnyDbt26+RIYFVBWRmHQcvG9qUmTJu4bVKuIFPf0By4GPX1Wvhb7wgsv9CruQVOBMKWwxKlIXDISpTDr4VIau9Kcldreq1cvj6ir6ReP1iXHtUhcYX0NisQtXrzY6tev7zz0d2UaZHuRuORxsGXLFl/moWr17dq1yyt28vrrr1ubNm18c0XZ9Yk1isQVQVhitGkuaiT6WPDvAvTxf4Y+xkjgDrEruaiPqSLoQYHJOL5Hqm8y5/pk77x583z9eWILisTlki7IlKt48KhRo7xIXC71/VAkA4NeBHrBJzKUuqs0dxmVcePG+dpspf7Gpem71i1atPBPx23cuNHXoCs9RetK1E8ZcU1I6PNbEh+lMUqIsvEzazt27DAV8VBT0bsRI0bYlVde6Z8SU//T6as+s6b0tWDNtSYyxCnqn1krrO/qv4ph6dNzWsqgb1oOHDjQ05b00h18Tk+fzJg+fbqvw9c+Gjsy8nxmLS5qULR+5IJGoo/oI/pYNF1g6/0EckEfg3sdxrtVNo6bu+++25f/TZs27YCv+Kjosr6Lrhbn9ya9J+qdWIZ8+/btviRy2LBhvvxVmWZx7nvY4xWDXkSiip4PHz7cI4WqyKhK3fp0QpyavuGotJzNmzf7bJeiwUOGDPHPialphlAVumVIVfxCs8JjxoxxHtnWNLEgQ57cVHVSpjOdvqqKeffu3e3dd9/1w1x//fU2evRor3we5VZY3/UpQVViV+VNrSOSSRcnjQMJb9BUBETLHvQLaffu3Z6+pGckcZsoM+DawicQd41EH82r8qKP6GP46hH/I8ZdH4M7GMa7VTaOBqXzp2oKaOnTtWpxfm9S7aU5c+a4R9KkRJ06dXxJpMx53Pse9njFoIdNlONBAAIQgAAEIAABCEAAAhCAAAQyIIBBzwAau0AAAhCAAAQgAAEIQAACEIAABMImgEEPmyjHgwAEIAABCEAAAhCAAAQgAAEIZEAAg54BNHaBAAQgAAEIQAACEIAABCAAAQiETQCDHjZRjgcBCEAAAhCAAAQgAAEIQAACEMiAAAY9A2jsAgEIQAACEIAABCAAAQhAAAIQCJsABj1sohwPAhCAAAQgAAEIQAACEIAABCCQAQEMegbQ2AUCEIAABCAAAQhAAAIQgAAEIBA2AQx62EQ5HgQgAAEIQAACEIAABCAAAQhAIAMCGPQMoLFL0Qj8+OOPVqVKFVu6dKldcMEFRdv5MG397bff2u23327Lli2z8847z/+b3K644gq/3qeeeuowXUVmhy1RooS98847duONN2Z2APaCAAQiQwB9DPdWoI/h8uRoEChOAuhjuPTRx3B5Hs6jYdAPJ92IHFtG9NVXX7XHHnvM+vfvn3dVU6dOtZYtW9q///57WK80igLbtm1b27x5s40fP95Kly5tp556aj4Gv//+ux177LF20kkn+b+dffbZ1rNnT/9zJNpDDz1kukfJkwe//fablS1b1o4//vgjcRmcAwKxJoA+5r+96GOshzydg0DaBNBH9DHtwcKGoRLAoIeKM5oHk8C++eabdsIJJ9iaNWvc3Kllu0Hfu3evHXfccRlBv+iii+y6666zhx9+OO39wzLo6V53QQY97QtmQwhA4KAE0Mf8iNDHgw4bNoBAThBAH9HHnBjoEewkBj2CNyXsS5LAbtmyxVavXm0tWrSw4cOHpzToqQyh0rv1R1FwNR1r69atVr9+fRs1apT99ddf1qtXLxs0aJANGDDAXnrpJStZsqQ98sgjdscdd/g+QQT9jTfesKefftqWLFli1apVszFjxpjSyIP2zTff2H333WcfffSRlSpVypo1a2YjR4600047zTfRtrVr13ZT/tprr9n5559v8+fPz4frn3/+sUcffdReeOEF27Rpk9WsWdOGDRtmV199tW+rFJ/E9uCDD5r6ntwSU9z19+RzBZkHixYt8syEzz77zK9VWQnKVlAf1GTsO3Xq5PyD1HRlNPTr18///+eff7YzzjjDbrvtNnvggQc8av/KK69Yhw4dDrikl19+2fknpygtX77cevToYZ988omzv+mmm2zEiBGeGZB4zy677DJ78sknTRMEt9xyi99XnUvt2Wefddbr16+3MmXK2OWXX25vvfVW2EOR40EgcgTQR/RRv9PQx8g9mlxQBAigj+gj+lg8DyIGvXi4H9GzBqa6ffv2duutt9r3339vZ555Zr4IeroG/e2337Z27dpZt27d7OOPP7aOHTta8+bNrVGjRnbzzTd7tF4G/YcffrBKlSrlGXSdU6awVq1abiC13dq1az29/Ndff7U6depY586d/di7d+92A/v333/b3Llz8wz6F198YXfddZefUwZZ68eTm4ym+vL8889bvXr1PI1dP1uxYoXVqFHDlCLepEkTN+yaEJCRDcxs4rESDbrS3evWrWt33nmnX6OaTLXM8SWXXGJDhgzxiLwmBO655x7fVoY6MOh//PGHDR48OG/dePXq1X0S4aqrrrIKFSr4cXTc3r17W9++fb3/2n7WrFn2wQcf+HFknE888cQDDPquXbu8Tw0aNPBsgI0bN/pkgO6FTH5g0DURoHsvI6+JAqWw6l7onJ9//rnvP2HCBO+L+rpgwQLr3r37ER2nnAwCxUEAfUQf0cfiePI4ZzYQQB/RR/SxeJ5UDHrxcD+iZw0EVintDRs2dIOsSHdyinu6Bn3evHmeKn/UUUd5P2SSy5Ur55FvtX379rmZfPHFFz1SG0TQFcWW6VaT8VbhOJl8GVJFjhcvXmyzZ8/OY6PIsgz+d999Z+ecc45H0Ldt2+bF5gprFStWtK5du9rAgQPzNlPE/+KLL/aovZqKv6nIWqrIebBTcpG4VCnumkyQadZkQNAWLlxojRs3tp07d/qyAu2niQKJXGHtiSee8EkLGWa1glLcEyPo48aNc6aKfAcR+5kzZ3qmxIYNG+z000/3qLvumSZMjj76aD92mzZt/P5NmjTJNOGiaL14B+vtj+gA5WQQKEYC6KN5RhT6iD4W42PIqSNKAH1EH3l/LJ6HE4NePNyP6FkTBVYmWlHbr776ylatWnVAkbh0DbqixDNmzMjrg8yoUs8D86t/qFy5st17770ehQ0MulLEFdkNmlLBTznlFI80K/r8/vvv51tTLpMrw3nNNde4QVe0WKa0oPbnn3/65IAERdcVNKXhf/nll3nR+LAMutLsFZEOUsV1PkX2FdlWyr7S62XQFanWMoDEphRyRbG1/44dO3zS4uSTT/YoeLoGXRF3TVh8+OGHeYfWJIa4Brx1/5PvmSLpitorO2H79u126aWXehaDsgr0R/dG6fI0CMSdAPpovkwJffzvdxr6GPennv6lSwB9RB95f0z3aQl3Owx6uDwjebREgdUFygzLUOrniVXclZY+ZcoUf1ELmqK6Mt7Ja9AVfQ9aqs+RJUabCzPoKlinFHQZcBnCxx9/PB/D8uXLe3Q4nc+eBQY9eTJAlddlSOfMmePHD8ugy4A3bdo0ZTr4WWed5RMOqSLvn376qa95VFq6lgdoUkHRbK0R13qfdA168ou19gsMuiZjtJY8+f5rG/FQdXhNZKhpckB/f++993wMKLquNfUy+jQIxJkA+rhfD9DH/36noY9xfuLpW1EIoI/oo95JE9/50ceiPEGZb4tBz5xd1uyZLLB6EZNBVYRbBjwodvbcc895WrXWaAeF1FS4TOvMwzDoMt9KZw8MYdWqVX29tn6m6LKM4ddff23HHHNMSrbpGHTtWFCKu9I4R48enbFBV5p9ly5dnFvQxEe8AuOf6sJTGXQZcRVmU9p50LR2XFH1wKAPHTrUVFhP9yuxZZLifjCBTTy+shZkzJVu36pVq6wZ51woBDIhgD7uT+FEHws26OhjJk8W+8SBAPqIPvL+WDxPMga9eLgf0bOmiqBq7fTkyZNtz549eQZ95cqVXhldFchbt27tBcpUqExp12EYdEWUldKtqLOKtk2cONGLxKnyudZLa9JAael9+vTxnyn1W1FlpbRr7XS6Bl3nUGV2VXHXMZVCr6J0QZE4wc8kgq6q8lpvLmOtb5DrGrVUQAXWtIZbaeyK9Iuj0vWfeeYZv8+pDPq0adOcsQqzae2nlgwomq71+4FBFx8VpdOadhXY0/pwnTfRoCuVXgXnVNxNkytKRZLRV+Q8sUhcYQI7ffp0rymg5QfKaNCSAk2cqG8aDzQIxJkA+og+oo9xfsLp26EQQB/RR/TxUJ6gzPfFoGfOLmv2TCWw69ats3PPPdc/kxZE0NWhsWPHmiK3quStz3VpGxndMAy6DKc+zaY10/rMmqLZWg8fNFWXV8EzrafWdWkdu9ZDy1zLlKZr0BM/s6b13CqKl/iZtUwNutLSFUFX0bpEbkoFVwaAPnMmluqbqqQHReoK+n66MgeU3q9jadmBjL5MdmDQ9XNF6BWd188O9TNrBaUoaQLg/vvvd0OuCRut81d/VEiOBoG4E0Af0cfCXkDRx7grAP0rjAD6iD6ij8WjERj04uHOWSEAAQhAAAIQgAAEIAABCEAAAgcQwKAzICAAAQhAAAIQgAAEIAABCEAAAhEggEGPwE3gEiAAAQhAAAIQgAAEIAABCEAAAhh0xgAEIAABCEAAAhCAAAQgAAEIQCACBDDoEbgJXAIEIAABCEAAAhCAAAQgAAEIQACDzhiAAAQgAAEIQAACEIAABCAAAQhEgAAGPQI3gUuAAAQgAAEIQAACEIAABCAAAQhg0BkDEIAABCAAAQhAAAIQgAAEIACBCBDAoEfgJnAJEIAABCAAAQhAAAIQgAAEIAABDDpjAAIQgAAEIAABCEAAAhCAAAQgEAECGPQI3AQuAQIQgAAEIAABCEAAAhCAAAQggEFnDEAAAhCAAAQgAAEIQAACEIAABCJAAIMegZvAJUAAAhCAAAQgAAEIQAACEIAABDDojAEIQAACEIAABCAAAQhAAAIQgEAECGDQI3ATuAQIQAACEIAABCAAAQhAAAIQgAAGnTEAAQhAAAIQgAAEIAABCEAAAhCIAAEMegRuApcAAQhAAAIQgAAEIAABCEAAAhDAoDMGIAABCEAAAhCAAAQgAAEIQAACESDwf0IC4Qptod2+AAAAAElFTkSuQmCC\" width=\"1000\">"
      ],
      "text/plain": [
       "<IPython.core.display.HTML object>"
      ]
     },
     "metadata": {},
     "output_type": "display_data"
    },
    {
     "data": {
      "application/vnd.jupyter.widget-view+json": {
       "model_id": "d942a3ca6c6c468cae208a2281668000",
       "version_major": 2,
       "version_minor": 0
      },
      "text/plain": [
       "HBox(children=(IntProgress(value=0), HTML(value='')))"
      ]
     },
     "metadata": {},
     "output_type": "display_data"
    },
    {
     "data": {
      "application/vnd.jupyter.widget-view+json": {
       "model_id": "259f791f950d4e9cb55bbbe5b311eb22",
       "version_major": 2,
       "version_minor": 0
      },
      "text/plain": [
       "HBox(children=(IntProgress(value=0, description='Minibatch number', max=10), HTML(value='')))"
      ]
     },
     "metadata": {},
     "output_type": "display_data"
    },
    {
     "name": "stdout",
     "output_type": "stream",
     "text": [
      "Training set error: 0.7601219740744005\n",
      "Training set accuracy: 0.4784\n",
      "Accuracy on dev set: 0.4875\n",
      "Training set error: 0.7083233271608707\n",
      "Training set accuracy: 0.5076\n",
      "Accuracy on dev set: 0.472\n"
     ]
    },
    {
     "data": {
      "application/vnd.jupyter.widget-view+json": {
       "model_id": "eb15fa2a4aae4ba6a12ed890cc64812b",
       "version_major": 2,
       "version_minor": 0
      },
      "text/plain": [
       "HBox(children=(IntProgress(value=0, description='Minibatch number', max=10), HTML(value='')))"
      ]
     },
     "metadata": {},
     "output_type": "display_data"
    },
    {
     "name": "stdout",
     "output_type": "stream",
     "text": [
      "Training set error: 0.7007292306076981\n",
      "Training set accuracy: 0.4856\n",
      "Accuracy on dev set: 0.504\n",
      "Training set error: 0.6968637370850622\n",
      "Training set accuracy: 0.504\n",
      "Accuracy on dev set: 0.486\n"
     ]
    },
    {
     "data": {
      "application/vnd.jupyter.widget-view+json": {
       "model_id": "24377cd8fb2a4aed9bb12df14f71a2c7",
       "version_major": 2,
       "version_minor": 0
      },
      "text/plain": [
       "HBox(children=(IntProgress(value=0, description='Minibatch number', max=10), HTML(value='')))"
      ]
     },
     "metadata": {},
     "output_type": "display_data"
    },
    {
     "name": "stdout",
     "output_type": "stream",
     "text": [
      "Training set error: 0.6950738267303961\n",
      "Training set accuracy: 0.4968\n",
      "Accuracy on dev set: 0.5195\n",
      "Training set error: 0.6938147988983078\n",
      "Training set accuracy: 0.5188\n",
      "Accuracy on dev set: 0.531\n"
     ]
    },
    {
     "data": {
      "application/vnd.jupyter.widget-view+json": {
       "model_id": "0c894da78dba472f9ac06be7e0fede32",
       "version_major": 2,
       "version_minor": 0
      },
      "text/plain": [
       "HBox(children=(IntProgress(value=0, description='Minibatch number', max=10), HTML(value='')))"
      ]
     },
     "metadata": {},
     "output_type": "display_data"
    },
    {
     "name": "stdout",
     "output_type": "stream",
     "text": [
      "Training set error: 0.6916946514443674\n",
      "Training set accuracy: 0.522\n",
      "Accuracy on dev set: 0.5365\n",
      "Training set error: 0.6924601236610456\n",
      "Training set accuracy: 0.5216\n",
      "Accuracy on dev set: 0.5415\n"
     ]
    },
    {
     "data": {
      "application/vnd.jupyter.widget-view+json": {
       "model_id": "72d144126ff54280a47a9e16fd0d21a4",
       "version_major": 2,
       "version_minor": 0
      },
      "text/plain": [
       "HBox(children=(IntProgress(value=0, description='Minibatch number', max=10), HTML(value='')))"
      ]
     },
     "metadata": {},
     "output_type": "display_data"
    },
    {
     "name": "stdout",
     "output_type": "stream",
     "text": [
      "Training set error: 0.6878980425223741\n",
      "Training set accuracy: 0.534\n",
      "Accuracy on dev set: 0.536\n",
      "Training set error: 0.689832535377585\n",
      "Training set accuracy: 0.5184\n",
      "Accuracy on dev set: 0.534\n"
     ]
    },
    {
     "data": {
      "application/vnd.jupyter.widget-view+json": {
       "model_id": "23f897498fd34e1bb5904f24c895f6eb",
       "version_major": 2,
       "version_minor": 0
      },
      "text/plain": [
       "HBox(children=(IntProgress(value=0, description='Minibatch number', max=10), HTML(value='')))"
      ]
     },
     "metadata": {},
     "output_type": "display_data"
    },
    {
     "name": "stdout",
     "output_type": "stream",
     "text": [
      "Training set error: 0.684466218073315\n",
      "Training set accuracy: 0.56\n",
      "Accuracy on dev set: 0.5465\n",
      "Training set error: 0.6850496576815128\n",
      "Training set accuracy: 0.5612\n",
      "Accuracy on dev set: 0.57\n"
     ]
    },
    {
     "data": {
      "application/vnd.jupyter.widget-view+json": {
       "model_id": "da83f5f7b5234a99b38bb8c43a5e3c01",
       "version_major": 2,
       "version_minor": 0
      },
      "text/plain": [
       "HBox(children=(IntProgress(value=0, description='Minibatch number', max=10), HTML(value='')))"
      ]
     },
     "metadata": {},
     "output_type": "display_data"
    },
    {
     "name": "stdout",
     "output_type": "stream",
     "text": [
      "Training set error: 0.6712216225952563\n",
      "Training set accuracy: 0.5956\n",
      "Accuracy on dev set: 0.586\n",
      "Training set error: 0.674948617496396\n",
      "Training set accuracy: 0.5864\n",
      "Accuracy on dev set: 0.5865\n"
     ]
    },
    {
     "data": {
      "application/vnd.jupyter.widget-view+json": {
       "model_id": "73ca091fb7aa4afa80641cbbac581823",
       "version_major": 2,
       "version_minor": 0
      },
      "text/plain": [
       "HBox(children=(IntProgress(value=0, description='Minibatch number', max=10), HTML(value='')))"
      ]
     },
     "metadata": {},
     "output_type": "display_data"
    },
    {
     "name": "stdout",
     "output_type": "stream",
     "text": [
      "Training set error: 0.6611568701747829\n",
      "Training set accuracy: 0.6168\n",
      "Accuracy on dev set: 0.581\n",
      "Training set error: 0.6668421517738384\n",
      "Training set accuracy: 0.6012\n",
      "Accuracy on dev set: 0.614\n"
     ]
    },
    {
     "data": {
      "application/vnd.jupyter.widget-view+json": {
       "model_id": "3d705285de84464c83fdf709414f6c60",
       "version_major": 2,
       "version_minor": 0
      },
      "text/plain": [
       "HBox(children=(IntProgress(value=0, description='Minibatch number', max=10), HTML(value='')))"
      ]
     },
     "metadata": {},
     "output_type": "display_data"
    },
    {
     "name": "stdout",
     "output_type": "stream",
     "text": [
      "Training set error: 0.6548640143927095\n",
      "Training set accuracy: 0.63\n",
      "Accuracy on dev set: 0.6255\n",
      "Training set error: 0.6633663444962348\n",
      "Training set accuracy: 0.6064\n",
      "Accuracy on dev set: 0.6175\n"
     ]
    },
    {
     "data": {
      "application/vnd.jupyter.widget-view+json": {
       "model_id": "bca9ae637cca4c6e9349350f455f40f5",
       "version_major": 2,
       "version_minor": 0
      },
      "text/plain": [
       "HBox(children=(IntProgress(value=0, description='Minibatch number', max=10), HTML(value='')))"
      ]
     },
     "metadata": {},
     "output_type": "display_data"
    },
    {
     "name": "stdout",
     "output_type": "stream",
     "text": [
      "Training set error: 0.6454557846615913\n",
      "Training set accuracy: 0.644\n",
      "Accuracy on dev set: 0.623\n",
      "Training set error: 0.6580427867159977\n",
      "Training set accuracy: 0.6136\n",
      "Accuracy on dev set: 0.621\n"
     ]
    },
    {
     "data": {
      "application/vnd.jupyter.widget-view+json": {
       "model_id": "5fb3fd859777402982a773a9f9be98fa",
       "version_major": 2,
       "version_minor": 0
      },
      "text/plain": [
       "HBox(children=(IntProgress(value=0, description='Minibatch number', max=10), HTML(value='')))"
      ]
     },
     "metadata": {},
     "output_type": "display_data"
    },
    {
     "name": "stdout",
     "output_type": "stream",
     "text": [
      "Training set error: 0.6409329429638904\n",
      "Training set accuracy: 0.6452\n",
      "Accuracy on dev set: 0.624\n",
      "Training set error: 0.6589625398841774\n",
      "Training set accuracy: 0.6132\n",
      "Accuracy on dev set: 0.629\n"
     ]
    },
    {
     "data": {
      "application/vnd.jupyter.widget-view+json": {
       "model_id": "7aba7c8a53ad441a816b0369e4956f40",
       "version_major": 2,
       "version_minor": 0
      },
      "text/plain": [
       "HBox(children=(IntProgress(value=0, description='Minibatch number', max=10), HTML(value='')))"
      ]
     },
     "metadata": {},
     "output_type": "display_data"
    },
    {
     "name": "stdout",
     "output_type": "stream",
     "text": [
      "Training set error: 0.6366000950965699\n",
      "Training set accuracy: 0.6588\n",
      "Accuracy on dev set: 0.6315\n",
      "Training set error: 0.6420513854589276\n",
      "Training set accuracy: 0.6436\n",
      "Accuracy on dev set: 0.637\n"
     ]
    },
    {
     "data": {
      "application/vnd.jupyter.widget-view+json": {
       "model_id": "662699a232fd44e5b510dd0ed162d97a",
       "version_major": 2,
       "version_minor": 0
      },
      "text/plain": [
       "HBox(children=(IntProgress(value=0, description='Minibatch number', max=10), HTML(value='')))"
      ]
     },
     "metadata": {},
     "output_type": "display_data"
    },
    {
     "name": "stdout",
     "output_type": "stream",
     "text": [
      "Training set error: 0.6263522725710216\n",
      "Training set accuracy: 0.6624\n",
      "Accuracy on dev set: 0.635\n",
      "Training set error: 0.6461452582634183\n",
      "Training set accuracy: 0.6272\n",
      "Accuracy on dev set: 0.6495\n"
     ]
    },
    {
     "data": {
      "application/vnd.jupyter.widget-view+json": {
       "model_id": "0900885949194ed0a06292583a0c233f",
       "version_major": 2,
       "version_minor": 0
      },
      "text/plain": [
       "HBox(children=(IntProgress(value=0, description='Minibatch number', max=10), HTML(value='')))"
      ]
     },
     "metadata": {},
     "output_type": "display_data"
    },
    {
     "name": "stdout",
     "output_type": "stream",
     "text": [
      "Training set error: 0.6253978220952365\n",
      "Training set accuracy: 0.6508\n",
      "Accuracy on dev set: 0.661\n",
      "Training set error: 0.6297511443156273\n",
      "Training set accuracy: 0.6536\n",
      "Accuracy on dev set: 0.663\n"
     ]
    },
    {
     "data": {
      "application/vnd.jupyter.widget-view+json": {
       "model_id": "e4470ffb58fb451f91cca3faaeca3d80",
       "version_major": 2,
       "version_minor": 0
      },
      "text/plain": [
       "HBox(children=(IntProgress(value=0, description='Minibatch number', max=10), HTML(value='')))"
      ]
     },
     "metadata": {},
     "output_type": "display_data"
    },
    {
     "name": "stdout",
     "output_type": "stream",
     "text": [
      "Training set error: 0.6165582687362887\n",
      "Training set accuracy: 0.6768\n",
      "Accuracy on dev set: 0.624\n",
      "Training set error: 0.6350118632204369\n",
      "Training set accuracy: 0.634\n",
      "Accuracy on dev set: 0.6545\n"
     ]
    },
    {
     "data": {
      "application/vnd.jupyter.widget-view+json": {
       "model_id": "006d2e9334164edb8ada3d8e6827c5cc",
       "version_major": 2,
       "version_minor": 0
      },
      "text/plain": [
       "HBox(children=(IntProgress(value=0, description='Minibatch number', max=10), HTML(value='')))"
      ]
     },
     "metadata": {},
     "output_type": "display_data"
    },
    {
     "name": "stdout",
     "output_type": "stream",
     "text": [
      "Training set error: 0.6087516946934939\n",
      "Training set accuracy: 0.6908\n",
      "Accuracy on dev set: 0.655\n",
      "Training set error: 0.6229682105997301\n",
      "Training set accuracy: 0.6528\n",
      "Accuracy on dev set: 0.661\n"
     ]
    },
    {
     "data": {
      "application/vnd.jupyter.widget-view+json": {
       "model_id": "6f2247ff16834144ad59078c67966e4f",
       "version_major": 2,
       "version_minor": 0
      },
      "text/plain": [
       "HBox(children=(IntProgress(value=0, description='Minibatch number', max=10), HTML(value='')))"
      ]
     },
     "metadata": {},
     "output_type": "display_data"
    },
    {
     "name": "stdout",
     "output_type": "stream",
     "text": [
      "Training set error: 0.6130803368363792\n",
      "Training set accuracy: 0.68\n",
      "Accuracy on dev set: 0.664\n",
      "Training set error: 0.6180049001024964\n",
      "Training set accuracy: 0.6756\n",
      "Accuracy on dev set: 0.6725\n"
     ]
    },
    {
     "data": {
      "application/vnd.jupyter.widget-view+json": {
       "model_id": "3ebeadf3a64f4810822ce960a12e2b50",
       "version_major": 2,
       "version_minor": 0
      },
      "text/plain": [
       "HBox(children=(IntProgress(value=0, description='Minibatch number', max=10), HTML(value='')))"
      ]
     },
     "metadata": {},
     "output_type": "display_data"
    },
    {
     "name": "stdout",
     "output_type": "stream",
     "text": [
      "Training set error: 0.6307216483161516\n",
      "Training set accuracy: 0.6584\n",
      "Accuracy on dev set: 0.6595\n",
      "Training set error: 0.6430839240089822\n",
      "Training set accuracy: 0.6532\n",
      "Accuracy on dev set: 0.6445\n"
     ]
    },
    {
     "data": {
      "application/vnd.jupyter.widget-view+json": {
       "model_id": "6b53a81ae0834f9191414222f212b4c4",
       "version_major": 2,
       "version_minor": 0
      },
      "text/plain": [
       "HBox(children=(IntProgress(value=0, description='Minibatch number', max=10), HTML(value='')))"
      ]
     },
     "metadata": {},
     "output_type": "display_data"
    },
    {
     "name": "stdout",
     "output_type": "stream",
     "text": [
      "Training set error: 0.6131119463921297\n",
      "Training set accuracy: 0.6836\n",
      "Accuracy on dev set: 0.685\n"
     ]
    }
   ],
   "source": [
    "parameters = train_model(X_train,Y_train,X_test[:2000],Y_test[:,:2000],num_epochs=100, batch_size=2500,lambd=0,\n",
    "                         learning_rate=1e-3,num_hidden_units=32)"
   ]
  },
  {
   "cell_type": "code",
   "execution_count": null,
   "metadata": {},
   "outputs": [],
   "source": []
  },
  {
   "cell_type": "code",
   "execution_count": null,
   "metadata": {},
   "outputs": [],
   "source": []
  }
 ],
 "metadata": {
  "accelerator": "GPU",
  "colab": {
   "collapsed_sections": [],
   "name": "LSTM.ipynb",
   "provenance": [],
   "version": "0.3.2"
  },
  "kernelspec": {
   "display_name": "Python 3",
   "language": "python",
   "name": "python3"
  },
  "language_info": {
   "codemirror_mode": {
    "name": "ipython",
    "version": 3
   },
   "file_extension": ".py",
   "mimetype": "text/x-python",
   "name": "python",
   "nbconvert_exporter": "python",
   "pygments_lexer": "ipython3",
   "version": "3.6.6"
  }
 },
 "nbformat": 4,
 "nbformat_minor": 1
}
