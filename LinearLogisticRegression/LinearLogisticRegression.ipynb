{
 "cells": [
  {
   "cell_type": "markdown",
   "metadata": {},
   "source": [
    "# Linear and Logistic Regression \n",
    "\n",
    "This Jupyter Notebook accompanies the blog posts on Linear and Logistic Regression"
   ]
  },
  {
   "cell_type": "markdown",
   "metadata": {},
   "source": [
    "First of all we will begin by importing the libraries we will need. \n",
    "__Numpy__ is a linear algebra library in Python and we will be using it to do all of the matrix and vector computations in our code.\n",
    "__Pandas__ is used to import our data and clean it up before we pass it to our machine learning algorithms.\n",
    "__Matplotlib__ will allow us to visualise the training process"
   ]
  },
  {
   "cell_type": "code",
   "execution_count": 121,
   "metadata": {},
   "outputs": [],
   "source": [
    "import numpy as np\n",
    "import pandas as pd\n",
    "import matplotlib.pyplot as plt"
   ]
  },
  {
   "cell_type": "markdown",
   "metadata": {},
   "source": [
    "Next, to import the data - the dataset is ____.\n",
    "**TODO: use a dataset to train algorithm on, currently just random values**"
   ]
  },
  {
   "cell_type": "code",
   "execution_count": null,
   "metadata": {},
   "outputs": [],
   "source": [
    "df = pd.read_csv(\"\")"
   ]
  },
  {
   "cell_type": "markdown",
   "metadata": {},
   "source": [
    "Next to clean up into the format we want:\n",
    "    X = _n x m_ matrix, Y = _1 x m _ matrix"
   ]
  },
  {
   "cell_type": "code",
   "execution_count": 39,
   "metadata": {},
   "outputs": [],
   "source": [
    "#Replace this with actual values\n",
    "\n",
    "X_lin_train = np.random.randn(20,100)\n",
    "Y_lin_train = np.random.randn(1,100)\n",
    "\n",
    "X_lin_test = np.random.randn(20,100)\n",
    "Y_lin_test = np.random.randn(1,100)\n",
    "\n",
    "X_log_train = np.random.randn(20,100)\n",
    "Y_log_train = np.round(np.random.random_sample((1,100)))\n",
    "\n",
    "X_log_test = np.random.randn(20,100)\n",
    "Y_log_test = np.round(np.random.random_sample((1,100)))"
   ]
  },
  {
   "cell_type": "markdown",
   "metadata": {},
   "source": [
    "Next we initialise the weights and biases"
   ]
  },
  {
   "cell_type": "code",
   "execution_count": 145,
   "metadata": {},
   "outputs": [],
   "source": [
    "W_lin = np.random.randn(Y_lin.shape[0], X_lin.shape[0])\n",
    "b_lin = np.random.randn(Y_lin.shape[0],1)\n",
    "\n",
    "W_log = np.random.randn(Y_log.shape[0], X_log.shape[0])\n",
    "b_log = np.random.randn(Y_log.shape[0],1)\n"
   ]
  },
  {
   "cell_type": "code",
   "execution_count": null,
   "metadata": {},
   "outputs": [],
   "source": []
  },
  {
   "cell_type": "markdown",
   "metadata": {},
   "source": [
    "Now we code up the equations for the forward step:\n",
    "    $$ \\hat{Y}_{lin} = WX+b$$\n",
    "    $$ \\hat{Y}_{log} = \\sigma(WX+b)$$"
   ]
  },
  {
   "cell_type": "code",
   "execution_count": 41,
   "metadata": {},
   "outputs": [],
   "source": [
    "def forward_lin(X, W, b):\n",
    "    return np.dot(W,X)+b\n",
    "\n",
    "def sigmoid(Z):\n",
    "    return 1.0/(1+np.exp(-Z))\n",
    "\n",
    "def forward_log(X,W,b):\n",
    "    return sigmoid(forward_lin(X,W,b))"
   ]
  },
  {
   "cell_type": "markdown",
   "metadata": {},
   "source": [
    "Let's look at some sample predictions from the network."
   ]
  },
  {
   "cell_type": "code",
   "execution_count": 42,
   "metadata": {},
   "outputs": [
    {
     "data": {
      "text/html": [
       "<div>\n",
       "<style scoped>\n",
       "    .dataframe tbody tr th:only-of-type {\n",
       "        vertical-align: middle;\n",
       "    }\n",
       "\n",
       "    .dataframe tbody tr th {\n",
       "        vertical-align: top;\n",
       "    }\n",
       "\n",
       "    .dataframe thead th {\n",
       "        text-align: right;\n",
       "    }\n",
       "</style>\n",
       "<table border=\"1\" class=\"dataframe\">\n",
       "  <thead>\n",
       "    <tr style=\"text-align: right;\">\n",
       "      <th></th>\n",
       "      <th>Y</th>\n",
       "      <th>predictions</th>\n",
       "    </tr>\n",
       "  </thead>\n",
       "  <tbody>\n",
       "    <tr>\n",
       "      <th>0</th>\n",
       "      <td>2.967336</td>\n",
       "      <td>0.005443</td>\n",
       "    </tr>\n",
       "    <tr>\n",
       "      <th>1</th>\n",
       "      <td>-0.371665</td>\n",
       "      <td>-1.796815</td>\n",
       "    </tr>\n",
       "    <tr>\n",
       "      <th>2</th>\n",
       "      <td>0.880066</td>\n",
       "      <td>0.398904</td>\n",
       "    </tr>\n",
       "  </tbody>\n",
       "</table>\n",
       "</div>"
      ],
      "text/plain": [
       "          Y  predictions\n",
       "0  2.967336     0.005443\n",
       "1 -0.371665    -1.796815\n",
       "2  0.880066     0.398904"
      ]
     },
     "execution_count": 42,
     "metadata": {},
     "output_type": "execute_result"
    }
   ],
   "source": [
    "pd.DataFrame({\"predictions\":forward_lin(X_lin_train[:,:3],W_lin,b_lin)[0] , \"Y\": Y_lin_train[:,:3][0] }).head()"
   ]
  },
  {
   "cell_type": "code",
   "execution_count": 43,
   "metadata": {},
   "outputs": [
    {
     "data": {
      "text/html": [
       "<div>\n",
       "<style scoped>\n",
       "    .dataframe tbody tr th:only-of-type {\n",
       "        vertical-align: middle;\n",
       "    }\n",
       "\n",
       "    .dataframe tbody tr th {\n",
       "        vertical-align: top;\n",
       "    }\n",
       "\n",
       "    .dataframe thead th {\n",
       "        text-align: right;\n",
       "    }\n",
       "</style>\n",
       "<table border=\"1\" class=\"dataframe\">\n",
       "  <thead>\n",
       "    <tr style=\"text-align: right;\">\n",
       "      <th></th>\n",
       "      <th>Y</th>\n",
       "      <th>predictions</th>\n",
       "    </tr>\n",
       "  </thead>\n",
       "  <tbody>\n",
       "    <tr>\n",
       "      <th>0</th>\n",
       "      <td>1.0</td>\n",
       "      <td>0.009350</td>\n",
       "    </tr>\n",
       "    <tr>\n",
       "      <th>1</th>\n",
       "      <td>1.0</td>\n",
       "      <td>0.999698</td>\n",
       "    </tr>\n",
       "    <tr>\n",
       "      <th>2</th>\n",
       "      <td>1.0</td>\n",
       "      <td>0.058337</td>\n",
       "    </tr>\n",
       "  </tbody>\n",
       "</table>\n",
       "</div>"
      ],
      "text/plain": [
       "     Y  predictions\n",
       "0  1.0     0.009350\n",
       "1  1.0     0.999698\n",
       "2  1.0     0.058337"
      ]
     },
     "execution_count": 43,
     "metadata": {},
     "output_type": "execute_result"
    }
   ],
   "source": [
    "pd.DataFrame({\"predictions\":forward_log(X_log_train[:,:3],W_log,b_log)[0] , \"Y\": Y_log_train[:,:3][0] }).head()"
   ]
  },
  {
   "cell_type": "markdown",
   "metadata": {},
   "source": [
    "Not very good! So let's train the model:\n",
    "\n",
    "First - the loss functions need to be defined: these are\n",
    "\n",
    "$$ J(W,b) = \\frac{1}{2m} \\sum_{i=1}^{n} (y^{(i)} - y^{(i)}_{pred})^2 $$\n",
    "\n",
    "\n",
    "$$ J(W,b) = \\frac{-1}{m} \\sum_{i=1}^{n} y^{(i)} \\log(y^{(i)}_{pred}) + (1-y^{(i)}) \\log(1-y^{(i)}_{pred})$$\n",
    "\n"
   ]
  },
  {
   "cell_type": "code",
   "execution_count": 110,
   "metadata": {},
   "outputs": [],
   "source": [
    "def MSE_loss(Y, Y_pred):\n",
    "    return (1.0/(2*Y.shape[1]))*np.sum(np.square(Y-Y_pred))\n",
    "                                      \n",
    "\n",
    "def log_loss(Y, Y_pred):\n",
    "    return (-1.0/(Y.shape[1]))*np.sum(Y*np.log(Y_pred) + (1-Y)*np.log(1-Y_pred))\n",
    "    "
   ]
  },
  {
   "cell_type": "code",
   "execution_count": 54,
   "metadata": {},
   "outputs": [
    {
     "data": {
      "text/plain": [
       "10.385266110432534"
      ]
     },
     "execution_count": 54,
     "metadata": {},
     "output_type": "execute_result"
    }
   ],
   "source": [
    "MSE_loss(Y_lin,forward_lin(X_lin_train,W_lin,b_lin))"
   ]
  },
  {
   "cell_type": "markdown",
   "metadata": {},
   "source": [
    "Now, to compute the gradients, note that they are actually the same for both linear and logistic regression:\n",
    "$$\\frac{\\partial{J}}{\\partial{W}} =  \\frac{1}{m} \\sum_{i=1}^{n} x^{(i)}(y^{(i)}_{pred} - y^{(i)})$$\n",
    "$$\\frac{\\partial{J}}{\\partial{b}} =  \\frac{1}{m} \\sum_{i=1}^{n}(y^{(i)}_{pred} - y^{(i)}) $$\n",
    "\n",
    "\n"
   ]
  },
  {
   "cell_type": "code",
   "execution_count": 96,
   "metadata": {},
   "outputs": [],
   "source": [
    "def grads(X, Y, Y_pred):\n",
    "    dW = (1.0/(Y.shape[1]))*np.sum(X*(Y_pred-Y),axis=1, keepdims=True).T\n",
    "    db = (1.0/(Y.shape[1]))*np.sum((Y_pred-Y),axis=1,keepdims=True)\n",
    "    return dW, db"
   ]
  },
  {
   "cell_type": "code",
   "execution_count": 144,
   "metadata": {},
   "outputs": [],
   "source": [
    "def gradient_descent_lin(X, W, b, Y, alpha=1e-2, iterations=500):\n",
    "    MSE_losses = []\n",
    "    for i in range(iterations):\n",
    "        Y_pred = forward_lin(X, W, b)\n",
    "        MSE_losses.append(MSE_loss(Y,Y_pred))\n",
    "        if(i%50==0):\n",
    "            print(\"Iteration {}: Loss={}\".format(i, MSE_losses[i]))\n",
    "        dW, db = grads(X, Y, Y_pred)\n",
    "        W = W -  alpha*dW\n",
    "        b = b - alpha*db\n",
    "    plt.plot(range(iterations),MSE_losses)\n",
    "    plt.xlabel('Iterations')\n",
    "    plt.ylabel('Loss')\n",
    "    plt.show()\n",
    "    return W, b\n",
    "\n",
    "\n",
    "def gradient_descent_log(X, W, b, Y, alpha=1e-1, iterations=1000):\n",
    "    log_losses = []\n",
    "    for i in range(iterations):\n",
    "        Y_pred = forward_log(X, W, b)\n",
    "        log_losses.append(log_loss(Y, Y_pred))\n",
    "        if(i%50==0):\n",
    "            print(\"Iteration {}: Loss={}\".format(i, log_losses[i]))\n",
    "        dW, db = grads(X, Y, Y_pred)\n",
    "        W = W -  alpha*dW\n",
    "        b = b - alpha*db\n",
    "    plt.plot(range(iterations),log_losses)\n",
    "    plt.xlabel('Iterations')\n",
    "    plt.ylabel('Loss')\n",
    "    plt.show()\n",
    "    return W, b"
   ]
  },
  {
   "cell_type": "code",
   "execution_count": 146,
   "metadata": {},
   "outputs": [
    {
     "name": "stdout",
     "output_type": "stream",
     "text": [
      "Iteration 0: Loss=18.46271234281027\n",
      "Iteration 50: Loss=6.103043434677841\n",
      "Iteration 100: Loss=2.491678642872551\n",
      "Iteration 150: Loss=1.2712368032581125\n",
      "Iteration 200: Loss=0.8058661781929464\n",
      "Iteration 250: Loss=0.607908095328664\n",
      "Iteration 300: Loss=0.5150756110477304\n",
      "Iteration 350: Loss=0.4678987742240368\n",
      "Iteration 400: Loss=0.44241227609565303\n",
      "Iteration 450: Loss=0.4280192104684566\n"
     ]
    },
    {
     "data": {
      "image/png": "[encoded data removed]",
      "text/plain": [
       "<matplotlib.figure.Figure at 0x11b245438>"
      ]
     },
     "metadata": {},
     "output_type": "display_data"
    }
   ],
   "source": [
    "W_lin, b_lin = gradient_descent_lin(X_lin_train, W_lin, b_lin, Y_lin_train )"
   ]
  },
  {
   "cell_type": "code",
   "execution_count": 147,
   "metadata": {},
   "outputs": [
    {
     "name": "stdout",
     "output_type": "stream",
     "text": [
      "Iteration 0: Loss=2.6177304320916295\n",
      "Iteration 50: Loss=1.3309357485454403\n",
      "Iteration 100: Loss=0.7706035549913226\n",
      "Iteration 150: Loss=0.631923469771251\n",
      "Iteration 200: Loss=0.5953892450239959\n",
      "Iteration 250: Loss=0.5828740403910088\n",
      "Iteration 300: Loss=0.5774069029312631\n",
      "Iteration 350: Loss=0.5746036140059299\n",
      "Iteration 400: Loss=0.5730470600678195\n",
      "Iteration 450: Loss=0.5721495341688473\n",
      "Iteration 500: Loss=0.5716217468107698\n",
      "Iteration 550: Loss=0.5713076714787081\n",
      "Iteration 600: Loss=0.5711192045745727\n",
      "Iteration 650: Loss=0.5710053663353452\n",
      "Iteration 700: Loss=0.5709362229415463\n",
      "Iteration 750: Loss=0.5708940208537581\n",
      "Iteration 800: Loss=0.5708681491250591\n",
      "Iteration 850: Loss=0.5708522250574621\n",
      "Iteration 900: Loss=0.5708423878250964\n",
      "Iteration 950: Loss=0.5708362903286267\n"
     ]
    },
    {
     "data": {
      "image/png": "[encoded data removed]",
      "text/plain": [
       "<matplotlib.figure.Figure at 0x11ed06550>"
      ]
     },
     "metadata": {},
     "output_type": "display_data"
    }
   ],
   "source": [
    "W_log, b_log = gradient_descent_log(X_log_train, W_log,b_log, Y_log_train)"
   ]
  },
  {
   "cell_type": "markdown",
   "metadata": {},
   "source": [
    "Finally, we can test our trained algorithms on the test set:\n",
    "For the logistic regression algorithm, we can measure its performance with accuracy, for linear regression we use MSE."
   ]
  },
  {
   "cell_type": "code",
   "execution_count": 148,
   "metadata": {},
   "outputs": [],
   "source": [
    "def accuracy(Y,Y_pred):\n",
    "    return np.mean(np.abs(np.round(Y_pred)-Y))"
   ]
  },
  {
   "cell_type": "code",
   "execution_count": 149,
   "metadata": {},
   "outputs": [
    {
     "data": {
      "text/plain": [
       "0.5140756195298679"
      ]
     },
     "execution_count": 149,
     "metadata": {},
     "output_type": "execute_result"
    }
   ],
   "source": [
    "accuracy(Y_log_test, forward_log(X_log_test,W_log,b_log))"
   ]
  },
  {
   "cell_type": "code",
   "execution_count": 150,
   "metadata": {},
   "outputs": [
    {
     "data": {
      "text/plain": [
       "0.5540161293261281"
      ]
     },
     "execution_count": 150,
     "metadata": {},
     "output_type": "execute_result"
    }
   ],
   "source": [
    "MSE_loss(Y_lin_test, forward_lin(X_lin_test,W_lin,b_lin))"
   ]
  },
  {
   "cell_type": "code",
   "execution_count": null,
   "metadata": {},
   "outputs": [],
   "source": []
  }
 ],
 "metadata": {
  "kernelspec": {
   "display_name": "Python 3",
   "language": "python",
   "name": "python3"
  },
  "language_info": {
   "codemirror_mode": {
    "name": "ipython",
    "version": 3
   },
   "file_extension": ".py",
   "mimetype": "text/x-python",
   "name": "python",
   "nbconvert_exporter": "python",
   "pygments_lexer": "ipython3",
   "version": "3.6.4"
  }
 },
 "nbformat": 4,
 "nbformat_minor": 2
}
