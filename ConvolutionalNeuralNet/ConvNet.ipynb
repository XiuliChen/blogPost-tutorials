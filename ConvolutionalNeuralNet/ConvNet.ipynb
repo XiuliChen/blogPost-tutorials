{
 "cells": [
  {
   "cell_type": "code",
   "execution_count": 1,
   "metadata": {},
   "outputs": [],
   "source": [
    "import numpy as np \n",
    "import matplotlib.pyplot as plt\n",
    "from scipy import ndimage\n",
    "import pandas as pd"
   ]
  },
  {
   "cell_type": "code",
   "execution_count": 2,
   "metadata": {},
   "outputs": [],
   "source": [
    "mnist_data = pd.read_csv(\"mnist-data/digits.csv\")"
   ]
  },
  {
   "cell_type": "code",
   "execution_count": 3,
   "metadata": {},
   "outputs": [],
   "source": [
    "x = np.random.randn(10,28,28,3)\n",
    "w = np.random.randn(3,3,3,16)\n",
    "b = np.random.randn(1,1,1,16)"
   ]
  },
  {
   "cell_type": "code",
   "execution_count": 4,
   "metadata": {},
   "outputs": [],
   "source": [
    "def pool_forward(x,mode=\"max\"):\n",
    "    #m*n_c*w*h\n",
    "    x_patches = x.reshape(x.shape[0],x.shape[1]//2, 2,x.shape[2]//2, 2,x.shape[3])\n",
    "    if mode==\"max\":\n",
    "        out = x_patches.max(axis=2).max(axis=3)\n",
    "        mask  =np.isclose(x,np.repeat(np.repeat(out,2,axis=1),2,axis=2)).astype(int)\n",
    "    elif mode==\"average\": \n",
    "        out =  x_patches.mean(axis=3).mean(axis=4)\n",
    "        mask = np.ones_like(x)*0.25\n",
    "    return out,mask"
   ]
  },
  {
   "cell_type": "code",
   "execution_count": 5,
   "metadata": {},
   "outputs": [],
   "source": [
    "def pool_backward(dx, mask):\n",
    "    return mask*(np.repeat(np.repeat(dx,2,axis=1),2,axis=2))"
   ]
  },
  {
   "cell_type": "code",
   "execution_count": 6,
   "metadata": {},
   "outputs": [],
   "source": [
    "def relu(x, deriv=False):\n",
    "    if deriv:\n",
    "        return (x>0).astype(int)\n",
    "    return np.multiply(x, x>0)"
   ]
  },
  {
   "cell_type": "code",
   "execution_count": 7,
   "metadata": {},
   "outputs": [],
   "source": [
    "def conv_forward(x,w,b,padding=\"same\"):\n",
    "    if padding==\"same\": \n",
    "        pad = (w.shape[0]-1)//2\n",
    "    else: #padding is valid - i.e no zero padding\n",
    "        pad =0 \n",
    "    n = (x.shape[1]-w.shape[0]+2*pad) +1 #ouput width/height\n",
    "    y = np.zeros((x.shape[0],n,n,w.shape[3]))\n",
    "    x = np.pad(x,((0,0),(pad,pad),(pad,pad),(0,0)),'constant', constant_values = 0)\n",
    "    w = np.flip(w,0)\n",
    "    w = np.flip(w,1)\n",
    "    \n",
    "    f = w.shape[0]\n",
    "    \n",
    "    for i in range(x.shape[0]):\n",
    "        for k in range(w.shape[3]):\n",
    "            for d in range(x.shape[3]):\n",
    "                y[i,:,:,k]+=ndimage.convolve(x[i,:,:,d],w[:,:,d,k])[f//2:-(f//2),f//2:-(f//2)]\n",
    "                #ndimage.convolve starts convolution from centre of kernel and zero pads but we don't want this\n",
    "                #since we want to manually decide if we want to pad or not\n",
    "    y = y + b\n",
    "    return y"
   ]
  },
  {
   "cell_type": "code",
   "execution_count": 8,
   "metadata": {},
   "outputs": [],
   "source": [
    "def fc_forward(x,w,b):\n",
    "    return relu(w.dot(x)+b)\n"
   ]
  },
  {
   "cell_type": "code",
   "execution_count": 9,
   "metadata": {},
   "outputs": [],
   "source": [
    "def fc_backward(dA,z,x,w,b):\n",
    "    m = dA.shape[1]\n",
    "    dZ = dA*relu(z, deriv = True)\n",
    "    dW = (1/m)*dZ.dot(x.T)\n",
    "    db = (1/m)*np.sum(dZ,axis=1,keepdims=True)\n",
    "    dx =  np.dot(w.T,dZ)\n",
    "    return dx, dW,db"
   ]
  },
  {
   "cell_type": "code",
   "execution_count": 10,
   "metadata": {},
   "outputs": [],
   "source": [
    "def softmax_forward(x,w,b):\n",
    "    z = w.dot(x)+b\n",
    "    return np.exp(z)/np.sum(np.exp(z),axis=0)"
   ]
  },
  {
   "cell_type": "code",
   "execution_count": 11,
   "metadata": {},
   "outputs": [],
   "source": [
    "def softmax_backward(y_hat, y, w, b, x):\n",
    "    dZ = y_hat - y\n",
    "    dW = (1/m)*dZ.dot(x.T)\n",
    "    db = (1/m)*np.sum(dZ,axis=1,keepdims=True)\n",
    "    dx =  np.dot(w.T,dZ)\n",
    "    return dx, dW,db"
   ]
  },
  {
   "cell_type": "code",
   "execution_count": 12,
   "metadata": {},
   "outputs": [],
   "source": [
    "def conv_backward(dZ,x,w,padding=\"same\"):\n",
    "    \n",
    "    db = np.sum(dZ, axis=(0,1,2), keepdims=True)\n",
    "    \n",
    "    if padding==\"same\": \n",
    "        pad = (w.shape[0]-1)//2\n",
    "    else: #padding is valid - i.e no zero padding\n",
    "        pad =0 \n",
    "    x_padded = np.pad(x,((0,0),(pad,pad),(pad,pad),(0,0)),'constant', constant_values = 0)\n",
    "    \n",
    "    #this will allow us to broadcast operation\n",
    "    x_padded_bcast = np.expand_dims(x_padded, axis=-1) \n",
    "    dZ_bcast = np.expand_dims(dZ, axis=-2)\n",
    "    \n",
    "    dW = np.zeros_like(w)\n",
    "    f=w.shape[0]\n",
    "    w_x = x_padded.shape[1]\n",
    "    for i in range(f):\n",
    "        for j in range(f):\n",
    "            dW[i,j,:,:] = np.sum(dZ_bcast*x_padded_bcast[:,i:w_x-(f-1 -i),j:w_x-(f-1 -j),:,:],axis=(0,1,2))  \n",
    "    \n",
    "    dx = np.zeros_like(x_padded)\n",
    "    Z_pad = f-1\n",
    "    dZ_padded = np.pad(dZ,((0,0),(Z_pad,Z_pad),(Z_pad,Z_pad),(0,0)),'constant', constant_values = 0)  \n",
    "    for i in range(x.shape[0]):\n",
    "        for k in range(w.shape[3]):\n",
    "            for d in range(x.shape[3]):\n",
    "                dx[i,:,:,d]+=ndimage.convolve(dZ_padded[i,:,:,k],w[:,:,d,k])[f//2:-(f//2),f//2:-(f//2)]\n",
    "    dx = dx[:,pad:dx.shape[1]-pad,pad:dx.shape[2]-pad,:]\n",
    "    return dx,dW,db"
   ]
  },
  {
   "cell_type": "markdown",
   "metadata": {},
   "source": [
    "Next to define the model:\n"
   ]
  },
  {
   "cell_type": "code",
   "execution_count": 13,
   "metadata": {},
   "outputs": [],
   "source": [
    "def init_conv_parameters(f, n_c, k):\n",
    "    return np.random.rand(f,f,n_c,k), np.random.rand(1,1,1,k)\n",
    "def init_fc_parameters(n_x,n_y):\n",
    "    return np.random.rand(n_y,n_x),np.random.rand(n_y,1)"
   ]
  },
  {
   "cell_type": "code",
   "execution_count": 14,
   "metadata": {},
   "outputs": [],
   "source": [
    "def initialise_parameters():    \n",
    "    parameters={}\n",
    "    parameters[\"W_conv1\"], parameters[\"b_conv1\"] = init_conv_parameters(5, 1, 32)\n",
    "    parameters[\"W_conv2\"], parameters[\"b_conv2\"] = init_conv_parameters(3, 32, 32)\n",
    "\n",
    "    parameters[\"W_conv3\"], parameters[\"b_conv3\"] = init_conv_parameters(3, 32, 64)\n",
    "    parameters[\"W_conv4\"], parameters[\"b_conv4\"] = init_conv_parameters(3, 64,64)\n",
    "\n",
    "    parameters[\"W_fc1\"],parameters[\"b_fc1\"] = init_fc_parameters(3136,512)\n",
    "    parameters[\"W_softmax\"],parameters[\"b_softmax\"] = init_fc_parameters(512,10)\n",
    "\n",
    "    return parameters\n"
   ]
  },
  {
   "cell_type": "code",
   "execution_count": 15,
   "metadata": {},
   "outputs": [],
   "source": [
    "def forward_propagation(X,parameters):\n",
    "    \n",
    "    cache={}\n",
    "    \n",
    "    cache[\"z_conv1\"] = conv_forward(X,parameters[\"W_conv1\"], parameters[\"b_conv1\"])\n",
    "    cache[\"a_conv1\"] = relu(cache[\"z_conv1\"])\n",
    "    \n",
    "    cache[\"z_conv2\"] = conv_forward(cache[\"a_conv1\"],parameters[\"W_conv2\"], parameters[\"b_conv2\"])\n",
    "    cache[\"a_conv2\"] = relu(cache[\"z_conv2\"])\n",
    "    \n",
    "    cache[\"z_pool1\"], cache[\"mask_pool1\"] = pool_forward(cache[\"a_conv2\"])\n",
    "    \n",
    "    cache[\"z_conv3\"] = conv_forward(cache[\"z_pool1\"],parameters[\"W_conv3\"], parameters[\"b_conv3\"])\n",
    "    cache[\"a_conv3\"] = relu(cache[\"z_conv3\"])\n",
    "    \n",
    "    cache[\"z_conv4\"] = conv_forward(cache[\"a_conv3\"],parameters[\"W_conv4\"], parameters[\"b_conv4\"] )\n",
    "    cache[\"a_conv4\"] = relu(cache[\"z_conv4\"])\n",
    "    \n",
    "    cache[\"z_pool2\"], cache[\"mask_pool2\"] = pool_forward(cache[\"a_conv4\"])\n",
    "    \n",
    "    cache[\"a_flatten\"] = np.reshape(cache[\"z_pool2\"], (a.shape[0],-1))\n",
    "    cache[\"a_fc1\"] = fc_forward( cache[\"a_flatten\"],parameters[\"W_fc1\"],parameters[\"b_fc1\"])\n",
    "    \n",
    "    return softmax(cache[\"a_fc1\"],parameters[\"W_softmax\"],parameters[\"b_softmax\"]),cache"
   ]
  },
  {
   "cell_type": "code",
   "execution_count": 16,
   "metadata": {},
   "outputs": [],
   "source": [
    "def backpropagation(X,Y,Y_pred,parameters,cache,lambd):\n",
    "    grads = {}\n",
    "    \n",
    "    dA, grads[\"dW_softmax\"],grads[\"db_softmax\"] =softmax_backward(Y_pred, Y, parameters[\"W_softmax\"],parameters[\"b_softmax\"],cache[\"a_fc1\"])\n",
    "    dx, dW,db\n",
    "    dA, grads[\"dW_fc1\"],grads[\"db_fc1\"] = fc_backward(dA,cache[\"a_fc1\"],cache[\"a_flatten\"],parameters[\"W_fc1\"],parameters[\"b_fc1\"])\n",
    "    \n",
    "    dA = np.reshape(dA,cache[\"z_pool2\"].shape)\n",
    "    dA = pool_backward(dA, cache[\"mask_pool2\"])\n",
    "    \n",
    "    dA = relu(dA,deriv=True)\n",
    "    dA, grads[\"dW_conv4\"],grads[\"db_conv4\"] = conv_backward(dA,cache[\"a_conv3\"],parameters[\"W_conv4\"])\n",
    "    \n",
    "    dA = relu(dA,deriv=True)\n",
    "    dA, grads[\"dW_conv3\"],grads[\"db_conv3\"] = conv_backward(dA,cache[\"z_pool1\"],parameters[\"W_conv3\"])\n",
    "    \n",
    "    dA = pool_backward(dA, cache[\"mask_pool1\"])\n",
    "    \n",
    "    dA = relu(dA,deriv=True)\n",
    "    dA, grads[\"dW_conv2\"],grads[\"db_conv2\"] = conv_backward(dA,cache[\"a_conv1\"],parameters[\"W_conv2\"])\n",
    "    \n",
    "    dA = relu(dA,deriv=True)\n",
    "    _, grads[\"dW_conv1\"],grads[\"db_conv1\"] = conv_backward(dA,X,parameters[\"W_conv1\"])\n",
    "    \n",
    "    #regularisation term\n",
    "    for key in grads:\n",
    "        if \"W\" in key:\n",
    "            grads[key]+= (lambd/X.shape[0])*parameters[key[1:]] \n",
    "    return grads        "
   ]
  },
  {
   "cell_type": "code",
   "execution_count": 17,
   "metadata": {},
   "outputs": [],
   "source": [
    "def loss_function(y_pred,y,parameters,lambd):\n",
    "    cost = 0\n",
    "    m = y.shape[1]\n",
    "    L = len(parameters)//2\n",
    "    cost += (-1/m)*np.sum(y*np.log(y_pred))\n",
    "    \n",
    "    regularisation_term = 0\n",
    "    for key in parameters:\n",
    "        if \"W\" in key:\n",
    "            regularisation_term += np.sum(np.square(parameters[key]))\n",
    "    \n",
    "    regularised_cost = cost + (lambd/(2*m))*regularisation_term\n",
    "    \n",
    "    return regularised_cost"
   ]
  },
  {
   "cell_type": "code",
   "execution_count": 18,
   "metadata": {},
   "outputs": [],
   "source": [
    "def accuracy(y_pred,y):\n",
    "    preds = np.argmax(y_pred,axis=0)\n",
    "    truth = np.argmax(y,axis=0)\n",
    "    return np.mean(np.equal(preds,truth).astype(int))"
   ]
  },
  {
   "cell_type": "code",
   "execution_count": 19,
   "metadata": {},
   "outputs": [],
   "source": [
    "def train_model(X_train, Y_train, X_dev, Y_dev,num_epochs,batch_size,lambd,learning_rate):\n",
    "    train_costs = []\n",
    "    dev_evals = []\n",
    "    \n",
    "    parameters = initialise_parameters()\n",
    "    for epoch in range (num_epochs):\n",
    "        print(\"Training the model, epoch: \" + str(epoch+1))\n",
    "        #cycle through the entire training set in batches\n",
    "        for i in range(0,X_train.shape[1]//batch_size):\n",
    "            \n",
    "            #get the next minibatch to train on\n",
    "            X_train_minibatch = X_train[:,i*batch_size:(i+1)*batch_size]\n",
    "            Y_train_minibatch = Y_train[:,i*batch_size:(i+1)*batch_size]\n",
    "            \n",
    "            #perform one cycle of forward and backward propagation to get the partial derivatives w.r.t. the weights\n",
    "            #and biases. Calculate the cost - used to monitor training\n",
    "            y_pred, cache = forward_prop(X_train_minibatch,parameters)\n",
    "            minibatch_cost = loss_function(y_pred,Y_train_minibatch,parameters,lambd)\n",
    "            minibatch_grads = backprop(X_train_minibatch,Y_train_minibatch,y_pred,parameters, cache,lambd)\n",
    "            \n",
    "            #update the parameters using gradient descent\n",
    "            for param in params.keys:\n",
    "                params[param] = params[param] - learning_rate*grads[\"d\"+param]\n",
    "        \n",
    "            #periodically output an update on the current cost and performance on the dev set for visualisation\n",
    "            if(i*(epoch+1)%1 == 0):\n",
    "                train_costs.append(minibatch_cost)\n",
    "                print(\"Cost after iteration \" + str(i*(epoch+1)) + \": \" + str(minibatch_cost))\n",
    "                y_dev_pred,_ = forward_propagation(X_dev,parameters)\n",
    "                dev_eval_metric = accuracy(y_dev_pred,Y_dev)\n",
    "                dev_evals.append(dev_eval_metric)\n",
    "                print(\"Accuracy on dev set: \"+ str(dev_eval_metric))\n",
    "    print(\"Training complete!\")\n",
    "    #return the trained parameters and the visualisation metrics\n",
    "    return parameters, train_costs, dev_evals "
   ]
  },
  {
   "cell_type": "code",
   "execution_count": 20,
   "metadata": {},
   "outputs": [],
   "source": [
    "def evaluate_model(train_costs, dev_evals, parameters,X_train, Y_train, X_dev, Y_dev, X_test, Y_test):\n",
    "    #plot the graphs of training set error and dev set F1 score\n",
    "    plt.plot(np.squeeze(train_costs))\n",
    "    plt.ylabel('Cost')\n",
    "    plt.xlabel('1000s of Iterations')\n",
    "    plt.title(\"Training Set Error\")\n",
    "    plt.show()\n",
    "    plt.plot(np.squeeze(dev_evals))\n",
    "    plt.ylabel('F1 score')\n",
    "    plt.xlabel('1000s of Iterations')\n",
    "    plt.title(\"Dev Set Accuracy\")\n",
    "    plt.show()\n",
    "        \n",
    "    #For each of the train, dev and test sets, perform a step of forward propagation to obtain the trained model's \n",
    "    #predictions and evaluate this with an F1 score.\n",
    "    y_pred_train,_ = forward_propagation(X_train,parameters)\n",
    "    print(\"The train set accuracy is: \"+str(accuracy(y_pred_train,Y_train)))\n",
    "    \n",
    "    y_pred_dev,_ = forward_propagation(X_dev,parameters)\n",
    "    print(\"The dev set accuracy is: \"+str(accuracy(y_pred_dev,Y_dev)))\n",
    "    \n",
    "    y_pred_test,_= forward_propagation(X_test,parameters)\n",
    "    print(\"The test set F1 score is: \"+str(accuracy(y_pred_test,Y_test)))"
   ]
  },
  {
   "cell_type": "code",
   "execution_count": 21,
   "metadata": {},
   "outputs": [],
   "source": [
    "def run_model(TrainTestDevSets, hyperparameters):\n",
    "    \n",
    "    X_train = TrainTestDevSets[\"X_train\"] \n",
    "    Y_train = TrainTestDevSets[\"Y_train\"]\n",
    "\n",
    "    X_dev = TrainTestDevSets[\"X_dev\"]\n",
    "    Y_dev = TrainTestDevSets[\"Y_dev\"] \n",
    "    \n",
    "    X_test = TrainTestDevSets[\"X_test\"] \n",
    "    Y_test = TrainTestDevSets[\"Y_test\"]\n",
    "    \n",
    "    num_epochs = hyperparameters[\"num_epochs\"]\n",
    "    batch_size = hyperparameters[\"batch_size\"]\n",
    "    lambd = hyperparameters[\"lambd\"]\n",
    "    learning_rate = hyperparameters[\"learning_rate\"]\n",
    "    \n",
    "    parameters, train_costs, dev_evals = train_model(X_train, Y_train, X_dev, Y_dev,num_epochs,batch_size,lambd,learning_rate)         \n",
    "    evaluate_model(train_costs, dev_evals, parameters,X_train, Y_train, X_dev, Y_dev, X_test, Y_test)\n",
    "    return parameters"
   ]
  },
  {
   "cell_type": "code",
   "execution_count": 22,
   "metadata": {},
   "outputs": [],
   "source": [
    "mnist_data = mnist_data.reindex(np.random.permutation(mnist_data.index)) #shuffle data"
   ]
  },
  {
   "cell_type": "code",
   "execution_count": 23,
   "metadata": {},
   "outputs": [
    {
     "data": {
      "text/plain": [
       "(10, 42000)"
      ]
     },
     "execution_count": 23,
     "metadata": {},
     "output_type": "execute_result"
    }
   ],
   "source": [
    "X = mnist_data.loc[:,mnist_data.columns!=\"label\"].as_matrix()\n",
    "X = np.reshape(X,(X.shape[0], 28,28,1))\n",
    "Y = mnist_data.loc[:,[\"label\"]].as_matrix()\n",
    "Y = np.eye(10)[Y.reshape(-1)].T"
   ]
  },
  {
   "cell_type": "code",
   "execution_count": 24,
   "metadata": {},
   "outputs": [],
   "source": [
    "TrainTestDevSets={}\n",
    "TrainTestDevSets[\"X_train\"] = X[:28000]\n",
    "TrainTestDevSets[\"Y_train\"] = Y[:,:28000]\n",
    "TrainTestDevSets[\"X_dev\"] = X[28000:35000]\n",
    "TrainTestDevSets[\"Y_dev\"] =Y[:,28000:35000]\n",
    "TrainTestDevSets[\"X_test\"] = X[35000:]\n",
    "TrainTestDevSets[\"Y_test\"] = Y[:,35000:]"
   ]
  },
  {
   "cell_type": "code",
   "execution_count": null,
   "metadata": {},
   "outputs": [],
   "source": [
    "hyperparameters={}\n",
    "hyperparameters[\"num_epochs\"] = 10 #number of passes through the training set\n",
    "hyperparameters[\"batch_size\"] = 128 #number of examples trained upon in each step of training\n",
    "hyperparameters[\"lambd\"] = 1 #regularisation parameter \n",
    "hyperparameters[\"learning_rate\"] = 1e-3"
   ]
  },
  {
   "cell_type": "code",
   "execution_count": null,
   "metadata": {},
   "outputs": [
    {
     "name": "stdout",
     "output_type": "stream",
     "text": [
      "Training the model, epoch: 1\n",
      "Training the model, epoch: 2\n",
      "Training the model, epoch: 3\n",
      "Training the model, epoch: 4\n",
      "Training the model, epoch: 5\n",
      "Training the model, epoch: 6\n",
      "Training the model, epoch: 7\n",
      "Training the model, epoch: 8\n",
      "Training the model, epoch: 9\n",
      "Training the model, epoch: 10\n",
      "Training complete!\n"
     ]
    },
    {
     "data": {
      "image/png": "[encoded data removed]",
      "text/plain": [
       "<matplotlib.figure.Figure at 0x10972bf98>"
      ]
     },
     "metadata": {},
     "output_type": "display_data"
    },
    {
     "data": {
      "image/png": "[encoded data removed]",
      "text/plain": [
       "<matplotlib.figure.Figure at 0x10e769320>"
      ]
     },
     "metadata": {},
     "output_type": "display_data"
    }
   ],
   "source": [
    "parameters = run_model(TrainTestDevSets, hyperparameters)"
   ]
  },
  {
   "cell_type": "code",
   "execution_count": null,
   "metadata": {},
   "outputs": [],
   "source": []
  },
  {
   "cell_type": "code",
   "execution_count": null,
   "metadata": {},
   "outputs": [],
   "source": []
  }
 ],
 "metadata": {
  "kernelspec": {
   "display_name": "Python 3",
   "language": "python",
   "name": "python3"
  },
  "language_info": {
   "codemirror_mode": {
    "name": "ipython",
    "version": 3
   },
   "file_extension": ".py",
   "mimetype": "text/x-python",
   "name": "python",
   "nbconvert_exporter": "python",
   "pygments_lexer": "ipython3",
   "version": "3.6.4"
  }
 },
 "nbformat": 4,
 "nbformat_minor": 2
}
